{
 "cells": [
  {
   "cell_type": "markdown",
   "metadata": {},
   "source": [
    "## Data Preprocessing"
   ]
  },
  {
   "cell_type": "code",
   "execution_count": 18,
   "metadata": {},
   "outputs": [],
   "source": [
    "import pandas as pd\n",
    "import numpy as np\n",
    "from sklearn.model_selection import train_test_split\n",
    "from sklearn.preprocessing import StandardScaler\n",
    "from tensorflow.keras.utils import to_categorical\n",
    "\n",
    "# Load the dataset\n",
    "data = pd.read_csv('../data/patient_processed.csv')\n",
    "# Select the relevant columns\n",
    "features = data[['tanimoto', 'feature_jsim', 'feature_dsim', 'feature_osim']]\n",
    "labels = data['DDI']\n",
    "\n",
    "# Map DDI levels to the numeric values\n",
    "ddi_mapping = {'no interaction found': 0, 'minor': 1, 'moderate': 2, 'major': 3}\n",
    "labels = labels.map(ddi_mapping)\n",
    "\n",
    "# Handle missing values\n",
    "features = features.fillna(features.mean())\n",
    "\n",
    "# Split the data into training and testing\n",
    "X_train, X_test, y_train, y_test = train_test_split(\n",
    "    features, \n",
    "    labels, \n",
    "    test_size=0.2, \n",
    "    random_state=42\n",
    ")\n",
    "\n",
    "# Scale the input features\n",
    "scaler = StandardScaler()\n",
    "X_train_scaled = scaler.fit_transform(X_train)\n",
    "X_test_scaled = scaler.transform(X_test)\n",
    "\n",
    "# Convert the target variable to a categorical format\n",
    "num_classes = len(ddi_mapping)\n",
    "y_train_cat = to_categorical(y_train, num_classes)\n",
    "y_test_cat = to_categorical(y_test, num_classes)"
   ]
  },
  {
   "cell_type": "markdown",
   "metadata": {},
   "source": [
    "## Define Hyperparameters"
   ]
  },
  {
   "cell_type": "code",
   "execution_count": 19,
   "metadata": {},
   "outputs": [],
   "source": [
    "# Model Hypeparameters\n",
    "num_features = len(ddi_mapping)\n",
    "num_classes = X_train_scaled.shape[1]\n",
    "learning_rate = 0.001\n",
    "batch_size = 32\n",
    "epochs = 100\n",
    "\n",
    "# Privacy Hyperparameters\n",
    "l2_norm_clip = 1.0\n",
    "noise_multiplier = 1.1\n",
    "num_microbatches = 1"
   ]
  },
  {
   "cell_type": "markdown",
   "metadata": {},
   "source": [
    "## Build and Compile the Models"
   ]
  },
  {
   "cell_type": "markdown",
   "metadata": {},
   "source": [
    "### Model Architecture"
   ]
  },
  {
   "cell_type": "code",
   "execution_count": 20,
   "metadata": {},
   "outputs": [],
   "source": [
    "import tensorflow as tf\n",
    "from tensorflow import keras\n",
    "from tensorflow_privacy.privacy.optimizers.dp_optimizer_keras import DPKerasSGDOptimizer\n",
    "\n",
    "def create_model(num_features, num_classes, noise_multiplier = 1.1, learning_rate = learning_rate):\n",
    "    model = keras.Sequential([\n",
    "        keras.layers.Input(shape=(num_features,)),\n",
    "        keras.layers.Dense(64, activation='relu'),\n",
    "        keras.layers.Dense(32, activation='relu'),\n",
    "        keras.layers.Dense(16, activation='relu'),\n",
    "        keras.layers.Dense(num_classes, activation='softmax')\n",
    "    ])\n",
    "    \n",
    "    optimizer = DPKerasSGDOptimizer(\n",
    "            l2_norm_clip=l2_norm_clip,\n",
    "            noise_multiplier=noise_multiplier,\n",
    "            num_microbatches=num_microbatches,\n",
    "            learning_rate=learning_rate\n",
    "        )\n",
    "    \n",
    "    model.compile(\n",
    "        optimizer = optimizer,\n",
    "        loss='categorical_crossentropy',\n",
    "        metrics=['accuracy']\n",
    "    )\n",
    "    \n",
    "    return model"
   ]
  },
  {
   "cell_type": "markdown",
   "metadata": {},
   "source": [
    "### Differential Privacy Model"
   ]
  },
  {
   "cell_type": "markdown",
   "metadata": {},
   "source": [
    "#### Model Training"
   ]
  },
  {
   "cell_type": "code",
   "execution_count": 17,
   "metadata": {},
   "outputs": [
    {
     "name": "stdout",
     "output_type": "stream",
     "text": [
      "Epoch 1/100\n",
      "5/5 [==============================] - 2s 71ms/step - loss: 1.3795 - accuracy: 0.4419 - val_loss: 1.3750 - val_accuracy: 0.3636 - lr: 0.0010\n",
      "Epoch 2/100\n",
      "5/5 [==============================] - 0s 15ms/step - loss: 1.3769 - accuracy: 0.4574 - val_loss: 1.3698 - val_accuracy: 0.4848 - lr: 0.0010\n",
      "Epoch 3/100\n",
      "5/5 [==============================] - 0s 14ms/step - loss: 1.3742 - accuracy: 0.5194 - val_loss: 1.3673 - val_accuracy: 0.4848 - lr: 0.0010\n",
      "Epoch 4/100\n",
      "5/5 [==============================] - 0s 16ms/step - loss: 1.3713 - accuracy: 0.5349 - val_loss: 1.3631 - val_accuracy: 0.5455 - lr: 0.0010\n",
      "Epoch 5/100\n",
      "5/5 [==============================] - 0s 15ms/step - loss: 1.3688 - accuracy: 0.5659 - val_loss: 1.3617 - val_accuracy: 0.5758 - lr: 0.0010\n",
      "Epoch 6/100\n",
      "5/5 [==============================] - 0s 15ms/step - loss: 1.3678 - accuracy: 0.5736 - val_loss: 1.3618 - val_accuracy: 0.5455 - lr: 0.0010\n",
      "Epoch 7/100\n",
      "5/5 [==============================] - 0s 19ms/step - loss: 1.3670 - accuracy: 0.5814 - val_loss: 1.3561 - val_accuracy: 0.6667 - lr: 0.0010\n",
      "Epoch 8/100\n",
      "5/5 [==============================] - 0s 14ms/step - loss: 1.3634 - accuracy: 0.6124 - val_loss: 1.3537 - val_accuracy: 0.6970 - lr: 0.0010\n",
      "Epoch 9/100\n",
      "5/5 [==============================] - 0s 16ms/step - loss: 1.3607 - accuracy: 0.5969 - val_loss: 1.3509 - val_accuracy: 0.6970 - lr: 0.0010\n",
      "Epoch 10/100\n",
      "5/5 [==============================] - 0s 14ms/step - loss: 1.3578 - accuracy: 0.6357 - val_loss: 1.3472 - val_accuracy: 0.7273 - lr: 0.0010\n",
      "Epoch 11/100\n",
      "5/5 [==============================] - 0s 14ms/step - loss: 1.3555 - accuracy: 0.6512 - val_loss: 1.3471 - val_accuracy: 0.6970 - lr: 0.0010\n",
      "Epoch 12/100\n",
      "5/5 [==============================] - 0s 16ms/step - loss: 1.3554 - accuracy: 0.6357 - val_loss: 1.3453 - val_accuracy: 0.7273 - lr: 0.0010\n",
      "Epoch 13/100\n",
      "5/5 [==============================] - 0s 15ms/step - loss: 1.3531 - accuracy: 0.6667 - val_loss: 1.3436 - val_accuracy: 0.7273 - lr: 0.0010\n",
      "Epoch 14/100\n",
      "5/5 [==============================] - 0s 16ms/step - loss: 1.3523 - accuracy: 0.6822 - val_loss: 1.3400 - val_accuracy: 0.7879 - lr: 0.0010\n",
      "Epoch 15/100\n",
      "5/5 [==============================] - 0s 20ms/step - loss: 1.3501 - accuracy: 0.7364 - val_loss: 1.3369 - val_accuracy: 0.8182 - lr: 0.0010\n",
      "Epoch 16/100\n",
      "5/5 [==============================] - 0s 16ms/step - loss: 1.3468 - accuracy: 0.7364 - val_loss: 1.3350 - val_accuracy: 0.8182 - lr: 0.0010\n",
      "Epoch 17/100\n",
      "5/5 [==============================] - 0s 15ms/step - loss: 1.3443 - accuracy: 0.7442 - val_loss: 1.3331 - val_accuracy: 0.8182 - lr: 0.0010\n",
      "Epoch 18/100\n",
      "5/5 [==============================] - 0s 16ms/step - loss: 1.3446 - accuracy: 0.7442 - val_loss: 1.3326 - val_accuracy: 0.8182 - lr: 0.0010\n",
      "Epoch 19/100\n",
      "5/5 [==============================] - 0s 14ms/step - loss: 1.3433 - accuracy: 0.7442 - val_loss: 1.3326 - val_accuracy: 0.8182 - lr: 0.0010\n",
      "Epoch 20/100\n",
      "5/5 [==============================] - 0s 16ms/step - loss: 1.3429 - accuracy: 0.7442 - val_loss: 1.3317 - val_accuracy: 0.8182 - lr: 0.0010\n",
      "Epoch 21/100\n",
      "5/5 [==============================] - 0s 15ms/step - loss: 1.3422 - accuracy: 0.7442 - val_loss: 1.3297 - val_accuracy: 0.8182 - lr: 0.0010\n",
      "Epoch 22/100\n",
      "5/5 [==============================] - 0s 17ms/step - loss: 1.3404 - accuracy: 0.7442 - val_loss: 1.3266 - val_accuracy: 0.8182 - lr: 0.0010\n",
      "Epoch 23/100\n",
      "5/5 [==============================] - 0s 15ms/step - loss: 1.3389 - accuracy: 0.7442 - val_loss: 1.3230 - val_accuracy: 0.8182 - lr: 0.0010\n",
      "Epoch 24/100\n",
      "5/5 [==============================] - 0s 19ms/step - loss: 1.3357 - accuracy: 0.7519 - val_loss: 1.3208 - val_accuracy: 0.8182 - lr: 0.0010\n",
      "Epoch 25/100\n",
      "5/5 [==============================] - 0s 13ms/step - loss: 1.3329 - accuracy: 0.7519 - val_loss: 1.3175 - val_accuracy: 0.8182 - lr: 0.0010\n",
      "Epoch 26/100\n",
      "5/5 [==============================] - 0s 15ms/step - loss: 1.3319 - accuracy: 0.7519 - val_loss: 1.3187 - val_accuracy: 0.8182 - lr: 0.0010\n",
      "Epoch 27/100\n",
      "5/5 [==============================] - 0s 17ms/step - loss: 1.3327 - accuracy: 0.7519 - val_loss: 1.3188 - val_accuracy: 0.8182 - lr: 0.0010\n",
      "Epoch 28/100\n",
      "5/5 [==============================] - 0s 15ms/step - loss: 1.3326 - accuracy: 0.7519 - val_loss: 1.3172 - val_accuracy: 0.8182 - lr: 0.0010\n",
      "Epoch 29/100\n",
      "5/5 [==============================] - 0s 15ms/step - loss: 1.3302 - accuracy: 0.7519 - val_loss: 1.3140 - val_accuracy: 0.8182 - lr: 0.0010\n",
      "Epoch 30/100\n",
      "5/5 [==============================] - 0s 14ms/step - loss: 1.3287 - accuracy: 0.7519 - val_loss: 1.3113 - val_accuracy: 0.8182 - lr: 0.0010\n",
      "Epoch 31/100\n",
      "5/5 [==============================] - 0s 15ms/step - loss: 1.3257 - accuracy: 0.7519 - val_loss: 1.3088 - val_accuracy: 0.8182 - lr: 0.0010\n",
      "Epoch 32/100\n",
      "5/5 [==============================] - 0s 17ms/step - loss: 1.3235 - accuracy: 0.7519 - val_loss: 1.3079 - val_accuracy: 0.8182 - lr: 0.0010\n",
      "Epoch 33/100\n",
      "5/5 [==============================] - 0s 15ms/step - loss: 1.3237 - accuracy: 0.7519 - val_loss: 1.3081 - val_accuracy: 0.8182 - lr: 0.0010\n",
      "Epoch 34/100\n",
      "5/5 [==============================] - 0s 15ms/step - loss: 1.3252 - accuracy: 0.7519 - val_loss: 1.3082 - val_accuracy: 0.8182 - lr: 0.0010\n",
      "Epoch 35/100\n",
      "5/5 [==============================] - 0s 16ms/step - loss: 1.3246 - accuracy: 0.7519 - val_loss: 1.3063 - val_accuracy: 0.8182 - lr: 0.0010\n",
      "Epoch 36/100\n",
      "5/5 [==============================] - 0s 15ms/step - loss: 1.3226 - accuracy: 0.7519 - val_loss: 1.3030 - val_accuracy: 0.8182 - lr: 0.0010\n",
      "Epoch 37/100\n",
      "5/5 [==============================] - 0s 14ms/step - loss: 1.3192 - accuracy: 0.7519 - val_loss: 1.3014 - val_accuracy: 0.8182 - lr: 0.0010\n",
      "Epoch 38/100\n",
      "5/5 [==============================] - 0s 13ms/step - loss: 1.3187 - accuracy: 0.7519 - val_loss: 1.3018 - val_accuracy: 0.8182 - lr: 0.0010\n",
      "Epoch 39/100\n",
      "5/5 [==============================] - 0s 14ms/step - loss: 1.3196 - accuracy: 0.7519 - val_loss: 1.2998 - val_accuracy: 0.8182 - lr: 0.0010\n",
      "Epoch 40/100\n",
      "5/5 [==============================] - 0s 14ms/step - loss: 1.3167 - accuracy: 0.7519 - val_loss: 1.2955 - val_accuracy: 0.8182 - lr: 0.0010\n",
      "Epoch 41/100\n",
      "5/5 [==============================] - 0s 16ms/step - loss: 1.3153 - accuracy: 0.7519 - val_loss: 1.2985 - val_accuracy: 0.8182 - lr: 0.0010\n",
      "Epoch 42/100\n",
      "5/5 [==============================] - 0s 13ms/step - loss: 1.3156 - accuracy: 0.7519 - val_loss: 1.2978 - val_accuracy: 0.8182 - lr: 0.0010\n",
      "Epoch 43/100\n",
      "5/5 [==============================] - 0s 15ms/step - loss: 1.3157 - accuracy: 0.7519 - val_loss: 1.2948 - val_accuracy: 0.8182 - lr: 0.0010\n",
      "Epoch 44/100\n",
      "5/5 [==============================] - 0s 14ms/step - loss: 1.3124 - accuracy: 0.7519 - val_loss: 1.2934 - val_accuracy: 0.8182 - lr: 0.0010\n",
      "Epoch 45/100\n",
      "5/5 [==============================] - 0s 14ms/step - loss: 1.3109 - accuracy: 0.7442 - val_loss: 1.2868 - val_accuracy: 0.8182 - lr: 0.0010\n",
      "Epoch 46/100\n",
      "5/5 [==============================] - 0s 15ms/step - loss: 1.3063 - accuracy: 0.7519 - val_loss: 1.2851 - val_accuracy: 0.8485 - lr: 0.0010\n",
      "Epoch 47/100\n",
      "5/5 [==============================] - 0s 15ms/step - loss: 1.3045 - accuracy: 0.7519 - val_loss: 1.2789 - val_accuracy: 0.8485 - lr: 0.0010\n",
      "Epoch 48/100\n",
      "5/5 [==============================] - 0s 14ms/step - loss: 1.3011 - accuracy: 0.7519 - val_loss: 1.2787 - val_accuracy: 0.8485 - lr: 0.0010\n",
      "Epoch 49/100\n",
      "5/5 [==============================] - 0s 15ms/step - loss: 1.3005 - accuracy: 0.7442 - val_loss: 1.2773 - val_accuracy: 0.8485 - lr: 0.0010\n",
      "Epoch 50/100\n",
      "5/5 [==============================] - 0s 13ms/step - loss: 1.2996 - accuracy: 0.7519 - val_loss: 1.2744 - val_accuracy: 0.8788 - lr: 0.0010\n",
      "Epoch 51/100\n",
      "5/5 [==============================] - 0s 15ms/step - loss: 1.2976 - accuracy: 0.7442 - val_loss: 1.2753 - val_accuracy: 0.8788 - lr: 0.0010\n",
      "Epoch 52/100\n",
      "5/5 [==============================] - 0s 16ms/step - loss: 1.2988 - accuracy: 0.7519 - val_loss: 1.2751 - val_accuracy: 0.8788 - lr: 0.0010\n",
      "Epoch 53/100\n",
      "5/5 [==============================] - 0s 13ms/step - loss: 1.2972 - accuracy: 0.7519 - val_loss: 1.2708 - val_accuracy: 0.8788 - lr: 0.0010\n",
      "Epoch 54/100\n",
      "5/5 [==============================] - 0s 15ms/step - loss: 1.2941 - accuracy: 0.7442 - val_loss: 1.2676 - val_accuracy: 0.8788 - lr: 0.0010\n",
      "Epoch 55/100\n",
      "5/5 [==============================] - 0s 15ms/step - loss: 1.2908 - accuracy: 0.7442 - val_loss: 1.2612 - val_accuracy: 0.8788 - lr: 0.0010\n",
      "Epoch 56/100\n",
      "5/5 [==============================] - 0s 16ms/step - loss: 1.2868 - accuracy: 0.7442 - val_loss: 1.2603 - val_accuracy: 0.8788 - lr: 0.0010\n",
      "Epoch 57/100\n",
      "5/5 [==============================] - 0s 15ms/step - loss: 1.2852 - accuracy: 0.7442 - val_loss: 1.2562 - val_accuracy: 0.8788 - lr: 0.0010\n",
      "Epoch 58/100\n",
      "5/5 [==============================] - 0s 14ms/step - loss: 1.2818 - accuracy: 0.7519 - val_loss: 1.2534 - val_accuracy: 0.8788 - lr: 0.0010\n",
      "Epoch 59/100\n",
      "5/5 [==============================] - 0s 64ms/step - loss: 1.2799 - accuracy: 0.7519 - val_loss: 1.2519 - val_accuracy: 0.8788 - lr: 0.0010\n",
      "Epoch 60/100\n",
      "5/5 [==============================] - 1s 273ms/step - loss: 1.2777 - accuracy: 0.7519 - val_loss: 1.2483 - val_accuracy: 0.8788 - lr: 0.0010\n",
      "Epoch 61/100\n",
      "5/5 [==============================] - 1s 241ms/step - loss: 1.2758 - accuracy: 0.7519 - val_loss: 1.2475 - val_accuracy: 0.8788 - lr: 0.0010\n",
      "Epoch 62/100\n",
      "5/5 [==============================] - 1s 179ms/step - loss: 1.2742 - accuracy: 0.7519 - val_loss: 1.2478 - val_accuracy: 0.8788 - lr: 0.0010\n",
      "Epoch 63/100\n",
      "5/5 [==============================] - 0s 30ms/step - loss: 1.2746 - accuracy: 0.7519 - val_loss: 1.2454 - val_accuracy: 0.8788 - lr: 0.0010\n",
      "Epoch 64/100\n",
      "5/5 [==============================] - 0s 45ms/step - loss: 1.2731 - accuracy: 0.7519 - val_loss: 1.2423 - val_accuracy: 0.8788 - lr: 0.0010\n",
      "Epoch 65/100\n",
      "5/5 [==============================] - 0s 34ms/step - loss: 1.2697 - accuracy: 0.7519 - val_loss: 1.2394 - val_accuracy: 0.8788 - lr: 0.0010\n",
      "Epoch 66/100\n",
      "5/5 [==============================] - 0s 35ms/step - loss: 1.2683 - accuracy: 0.7519 - val_loss: 1.2384 - val_accuracy: 0.8788 - lr: 0.0010\n",
      "Epoch 67/100\n",
      "5/5 [==============================] - 0s 31ms/step - loss: 1.2665 - accuracy: 0.7519 - val_loss: 1.2365 - val_accuracy: 0.8788 - lr: 0.0010\n",
      "Epoch 68/100\n",
      "5/5 [==============================] - 0s 35ms/step - loss: 1.2648 - accuracy: 0.7519 - val_loss: 1.2346 - val_accuracy: 0.8788 - lr: 0.0010\n",
      "Epoch 69/100\n",
      "5/5 [==============================] - 0s 36ms/step - loss: 1.2643 - accuracy: 0.7519 - val_loss: 1.2359 - val_accuracy: 0.8788 - lr: 0.0010\n",
      "Epoch 70/100\n",
      "5/5 [==============================] - 0s 35ms/step - loss: 1.2641 - accuracy: 0.7519 - val_loss: 1.2338 - val_accuracy: 0.8788 - lr: 0.0010\n",
      "Epoch 71/100\n",
      "5/5 [==============================] - 0s 31ms/step - loss: 1.2624 - accuracy: 0.7519 - val_loss: 1.2308 - val_accuracy: 0.8788 - lr: 0.0010\n",
      "Epoch 72/100\n",
      "5/5 [==============================] - 0s 36ms/step - loss: 1.2605 - accuracy: 0.7519 - val_loss: 1.2282 - val_accuracy: 0.8788 - lr: 0.0010\n",
      "Epoch 73/100\n",
      "5/5 [==============================] - 0s 35ms/step - loss: 1.2576 - accuracy: 0.7519 - val_loss: 1.2260 - val_accuracy: 0.8788 - lr: 0.0010\n",
      "Epoch 74/100\n",
      "5/5 [==============================] - 0s 36ms/step - loss: 1.2572 - accuracy: 0.7519 - val_loss: 1.2237 - val_accuracy: 0.8788 - lr: 0.0010\n",
      "Epoch 75/100\n",
      "5/5 [==============================] - 0s 34ms/step - loss: 1.2561 - accuracy: 0.7519 - val_loss: 1.2210 - val_accuracy: 0.8788 - lr: 0.0010\n",
      "Epoch 76/100\n",
      "5/5 [==============================] - 0s 33ms/step - loss: 1.2531 - accuracy: 0.7442 - val_loss: 1.2175 - val_accuracy: 0.8788 - lr: 0.0010\n",
      "Epoch 77/100\n",
      "5/5 [==============================] - 0s 38ms/step - loss: 1.2511 - accuracy: 0.7442 - val_loss: 1.2172 - val_accuracy: 0.8788 - lr: 0.0010\n",
      "Epoch 78/100\n",
      "5/5 [==============================] - 0s 32ms/step - loss: 1.2511 - accuracy: 0.7442 - val_loss: 1.2158 - val_accuracy: 0.8788 - lr: 0.0010\n",
      "Epoch 79/100\n",
      "5/5 [==============================] - 0s 50ms/step - loss: 1.2502 - accuracy: 0.7442 - val_loss: 1.2151 - val_accuracy: 0.8788 - lr: 0.0010\n",
      "Epoch 80/100\n",
      "5/5 [==============================] - 0s 36ms/step - loss: 1.2484 - accuracy: 0.7442 - val_loss: 1.2106 - val_accuracy: 0.8788 - lr: 0.0010\n",
      "Epoch 81/100\n",
      "5/5 [==============================] - 0s 37ms/step - loss: 1.2452 - accuracy: 0.7442 - val_loss: 1.2054 - val_accuracy: 0.8788 - lr: 0.0010\n",
      "Epoch 82/100\n",
      "5/5 [==============================] - 0s 36ms/step - loss: 1.2402 - accuracy: 0.7442 - val_loss: 1.1992 - val_accuracy: 0.8788 - lr: 0.0010\n",
      "Epoch 83/100\n",
      "5/5 [==============================] - 0s 36ms/step - loss: 1.2378 - accuracy: 0.7442 - val_loss: 1.2007 - val_accuracy: 0.8788 - lr: 0.0010\n",
      "Epoch 84/100\n",
      "5/5 [==============================] - 0s 32ms/step - loss: 1.2381 - accuracy: 0.7442 - val_loss: 1.1980 - val_accuracy: 0.8788 - lr: 0.0010\n",
      "Epoch 85/100\n",
      "5/5 [==============================] - 0s 40ms/step - loss: 1.2347 - accuracy: 0.7442 - val_loss: 1.1930 - val_accuracy: 0.8788 - lr: 0.0010\n",
      "Epoch 86/100\n",
      "5/5 [==============================] - 0s 35ms/step - loss: 1.2327 - accuracy: 0.7442 - val_loss: 1.1946 - val_accuracy: 0.8788 - lr: 0.0010\n",
      "Epoch 87/100\n",
      "5/5 [==============================] - 0s 34ms/step - loss: 1.2333 - accuracy: 0.7442 - val_loss: 1.1935 - val_accuracy: 0.8788 - lr: 0.0010\n",
      "Epoch 88/100\n",
      "5/5 [==============================] - 0s 30ms/step - loss: 1.2325 - accuracy: 0.7442 - val_loss: 1.1938 - val_accuracy: 0.8788 - lr: 0.0010\n",
      "Epoch 89/100\n",
      "5/5 [==============================] - 0s 30ms/step - loss: 1.2325 - accuracy: 0.7442 - val_loss: 1.1911 - val_accuracy: 0.8788 - lr: 0.0010\n",
      "Epoch 90/100\n",
      "5/5 [==============================] - 0s 34ms/step - loss: 1.2293 - accuracy: 0.7442 - val_loss: 1.1871 - val_accuracy: 0.8788 - lr: 0.0010\n",
      "Epoch 91/100\n",
      "5/5 [==============================] - 0s 34ms/step - loss: 1.2269 - accuracy: 0.7442 - val_loss: 1.1833 - val_accuracy: 0.8788 - lr: 0.0010\n",
      "Epoch 92/100\n",
      "5/5 [==============================] - 0s 36ms/step - loss: 1.2239 - accuracy: 0.7442 - val_loss: 1.1818 - val_accuracy: 0.8788 - lr: 0.0010\n",
      "Epoch 93/100\n",
      "5/5 [==============================] - 0s 34ms/step - loss: 1.2232 - accuracy: 0.7442 - val_loss: 1.1806 - val_accuracy: 0.8788 - lr: 0.0010\n",
      "Epoch 94/100\n",
      "5/5 [==============================] - 0s 40ms/step - loss: 1.2213 - accuracy: 0.7442 - val_loss: 1.1774 - val_accuracy: 0.8788 - lr: 0.0010\n",
      "Epoch 95/100\n",
      "5/5 [==============================] - 0s 34ms/step - loss: 1.2192 - accuracy: 0.7442 - val_loss: 1.1735 - val_accuracy: 0.8788 - lr: 0.0010\n",
      "Epoch 96/100\n",
      "5/5 [==============================] - 0s 30ms/step - loss: 1.2166 - accuracy: 0.7442 - val_loss: 1.1747 - val_accuracy: 0.8788 - lr: 0.0010\n",
      "Epoch 97/100\n",
      "5/5 [==============================] - 0s 36ms/step - loss: 1.2168 - accuracy: 0.7442 - val_loss: 1.1743 - val_accuracy: 0.8788 - lr: 0.0010\n",
      "Epoch 98/100\n",
      "5/5 [==============================] - 0s 41ms/step - loss: 1.2174 - accuracy: 0.7442 - val_loss: 1.1739 - val_accuracy: 0.8788 - lr: 0.0010\n",
      "Epoch 99/100\n",
      "5/5 [==============================] - 0s 34ms/step - loss: 1.2171 - accuracy: 0.7442 - val_loss: 1.1739 - val_accuracy: 0.8788 - lr: 0.0010\n",
      "Epoch 100/100\n",
      "5/5 [==============================] - 0s 37ms/step - loss: 1.2163 - accuracy: 0.7519 - val_loss: 1.1713 - val_accuracy: 0.8788 - lr: 0.0010\n"
     ]
    }
   ],
   "source": [
    "# Build a model with differential privacy\n",
    "model_dp = create_model(num_features, num_classes)\n",
    "\n",
    "# Use callbacks for early stopping and learning rate scheduling\n",
    "early_stopping = keras.callbacks.EarlyStopping(patience=10, restore_best_weights=True)\n",
    "lr_scheduler = keras.callbacks.ReduceLROnPlateau(factor=0.5, patience=5)\n",
    "\n",
    "# Train the model\n",
    "history = model_dp.fit(\n",
    "    X_train_scaled, y_train_cat,\n",
    "    epochs=epochs,\n",
    "    batch_size=batch_size,\n",
    "    validation_split=0.2,\n",
    "    verbose=1,\n",
    "    callbacks =[early_stopping, lr_scheduler]\n",
    ")"
   ]
  },
  {
   "cell_type": "markdown",
   "metadata": {},
   "source": [
    "#### Model Evaluation"
   ]
  },
  {
   "cell_type": "code",
   "execution_count": 35,
   "metadata": {},
   "outputs": [
    {
     "name": "stdout",
     "output_type": "stream",
     "text": [
      "2/2 [==============================] - 0s 5ms/step - loss: 1.0320 - accuracy: 0.8537\n",
      "Test accuracy: 0.8536585569381714\n"
     ]
    }
   ],
   "source": [
    "# Evaluate the model\n",
    "test_loss, test_accuracy = model_dp.evaluate(X_test_scaled, y_test_cat)\n",
    "print(f\"Test accuracy: {test_accuracy}\")"
   ]
  },
  {
   "cell_type": "code",
   "execution_count": 36,
   "metadata": {},
   "outputs": [
    {
     "data": {
      "image/png": "[encoded data removed]",
      "text/plain": [
       "<Figure size 640x480 with 1 Axes>"
      ]
     },
     "metadata": {},
     "output_type": "display_data"
    }
   ],
   "source": [
    "import matplotlib.pyplot as plt\n",
    "\n",
    "plt.plot(history.history['accuracy'], label='accuracy')\n",
    "plt.plot(history.history['val_accuracy'], label='val_accuracy')\n",
    "plt.xlabel('Epoch')\n",
    "plt.ylabel('Accuracy')\n",
    "plt.legend()\n",
    "plt.show()"
   ]
  },
  {
   "cell_type": "markdown",
   "metadata": {},
   "source": [
    "### Non-Differential Privacy Model"
   ]
  },
  {
   "cell_type": "code",
   "execution_count": 28,
   "metadata": {},
   "outputs": [
    {
     "ename": "NameError",
     "evalue": "name 'label_encoder' is not defined",
     "output_type": "error",
     "traceback": [
      "\u001b[1;31m---------------------------------------------------------------------------\u001b[0m",
      "\u001b[1;31mNameError\u001b[0m                                 Traceback (most recent call last)",
      "Cell \u001b[1;32mIn[28], line 7\u001b[0m\n\u001b[0;32m      1\u001b[0m \u001b[38;5;28;01mfrom\u001b[39;00m \u001b[38;5;21;01mkeras\u001b[39;00m\u001b[38;5;21;01m.\u001b[39;00m\u001b[38;5;21;01moptimizers\u001b[39;00m \u001b[38;5;28;01mimport\u001b[39;00m SGD\n\u001b[0;32m      3\u001b[0m \u001b[38;5;66;03m# Define the model\u001b[39;00m\n\u001b[0;32m      4\u001b[0m model \u001b[38;5;241m=\u001b[39m tf\u001b[38;5;241m.\u001b[39mkeras\u001b[38;5;241m.\u001b[39mSequential([\n\u001b[0;32m      5\u001b[0m     tf\u001b[38;5;241m.\u001b[39mkeras\u001b[38;5;241m.\u001b[39mlayers\u001b[38;5;241m.\u001b[39mDense(\u001b[38;5;241m64\u001b[39m, activation\u001b[38;5;241m=\u001b[39m\u001b[38;5;124m'\u001b[39m\u001b[38;5;124mrelu\u001b[39m\u001b[38;5;124m'\u001b[39m, input_shape\u001b[38;5;241m=\u001b[39m(\u001b[38;5;241m4\u001b[39m,)),\n\u001b[0;32m      6\u001b[0m     tf\u001b[38;5;241m.\u001b[39mkeras\u001b[38;5;241m.\u001b[39mlayers\u001b[38;5;241m.\u001b[39mDense(\u001b[38;5;241m32\u001b[39m, activation\u001b[38;5;241m=\u001b[39m\u001b[38;5;124m'\u001b[39m\u001b[38;5;124mrelu\u001b[39m\u001b[38;5;124m'\u001b[39m),\n\u001b[1;32m----> 7\u001b[0m     tf\u001b[38;5;241m.\u001b[39mkeras\u001b[38;5;241m.\u001b[39mlayers\u001b[38;5;241m.\u001b[39mDense(\u001b[38;5;28mlen\u001b[39m(\u001b[43mlabel_encoder\u001b[49m\u001b[38;5;241m.\u001b[39mclasses_), activation\u001b[38;5;241m=\u001b[39m\u001b[38;5;124m'\u001b[39m\u001b[38;5;124msoftmax\u001b[39m\u001b[38;5;124m'\u001b[39m)\n\u001b[0;32m      8\u001b[0m ])\n\u001b[0;32m     10\u001b[0m optimizer_dp \u001b[38;5;241m=\u001b[39m DPKerasSGDOptimizer(\n\u001b[0;32m     11\u001b[0m     l2_norm_clip\u001b[38;5;241m=\u001b[39ml2_norm_clip,\n\u001b[0;32m     12\u001b[0m     noise_multiplier\u001b[38;5;241m=\u001b[39mnoise_multiplier,\n\u001b[0;32m     13\u001b[0m     num_microbatches\u001b[38;5;241m=\u001b[39mnum_microbatches,\n\u001b[0;32m     14\u001b[0m     learning_rate\u001b[38;5;241m=\u001b[39mlearning_rate\n\u001b[0;32m     15\u001b[0m )\n\u001b[0;32m     17\u001b[0m loss_dp \u001b[38;5;241m=\u001b[39m tf\u001b[38;5;241m.\u001b[39mkeras\u001b[38;5;241m.\u001b[39mlosses\u001b[38;5;241m.\u001b[39mSparseCategoricalCrossentropy(from_logits\u001b[38;5;241m=\u001b[39m\u001b[38;5;28;01mTrue\u001b[39;00m, reduction\u001b[38;5;241m=\u001b[39mtf\u001b[38;5;241m.\u001b[39mlosses\u001b[38;5;241m.\u001b[39mReduction\u001b[38;5;241m.\u001b[39mNONE)\n",
      "\u001b[1;31mNameError\u001b[0m: name 'label_encoder' is not defined"
     ]
    }
   ],
   "source": [
    "from keras.optimizers import SGD\n",
    "\n",
    "# Define the model\n",
    "model = tf.keras.Sequential([\n",
    "    tf.keras.layers.Dense(64, activation='relu', input_shape=(4,)),\n",
    "    tf.keras.layers.Dense(32, activation='relu'),\n",
    "    tf.keras.layers.Dense(len(label_encoder.classes_), activation='softmax')\n",
    "])\n",
    "\n",
    "optimizer_dp = DPKerasSGDOptimizer(\n",
    "    l2_norm_clip=l2_norm_clip,\n",
    "    noise_multiplier=noise_multiplier,\n",
    "    num_microbatches=num_microbatches,\n",
    "    learning_rate=learning_rate\n",
    ")\n",
    "\n",
    "loss_dp = tf.keras.losses.SparseCategoricalCrossentropy(from_logits=True, reduction=tf.losses.Reduction.NONE)\n",
    "\n",
    "model_dp.compile(optimizer=SGD(learning_rate=0.01, momentum=0.9), loss=loss_dp, metrics=['accuracy'])\n",
    "\n",
    "# Train the DP model\n",
    "model_dp.fit(X_train, y_train, epochs=10, validation_data=(X_train, y_train), batch_size=32)"
   ]
  },
  {
   "cell_type": "markdown",
   "metadata": {},
   "source": [
    "### Saving Models"
   ]
  },
  {
   "cell_type": "code",
   "execution_count": null,
   "metadata": {},
   "outputs": [],
   "source": [
    "model_dp.save('src/model')"
   ]
  },
  {
   "cell_type": "markdown",
   "metadata": {},
   "source": [
    "### Evaluating Privacy"
   ]
  },
  {
   "cell_type": "markdown",
   "metadata": {},
   "source": [
    "#### Evaluating Privacy Budget"
   ]
  },
  {
   "cell_type": "code",
   "execution_count": 37,
   "metadata": {},
   "outputs": [
    {
     "name": "stderr",
     "output_type": "stream",
     "text": [
      "WARNING:absl:`compute_dp_sgd_privacy` is deprecated. It does not account for doubling of sensitivity with microbatching, and assumes Poisson subsampling, which is rarely used in practice. Please use `compute_dp_sgd_privacy_statement`, which provides appropriate context for the guarantee. To compute epsilon under different assumptions than those in `compute_dp_sgd_privacy_statement`, call the `dp_accounting` libraries directly.\n"
     ]
    },
    {
     "name": "stdout",
     "output_type": "stream",
     "text": [
      "The privacy budget (epsilon) is: 34.40521375867571\n"
     ]
    }
   ],
   "source": [
    "from tensorflow_privacy.privacy.analysis import compute_dp_sgd_privacy_lib\n",
    "\n",
    "epsilon, alpha = compute_dp_sgd_privacy_lib.compute_dp_sgd_privacy(\n",
    "    n=X_train.shape[0],\n",
    "    batch_size=batch_size,\n",
    "    noise_multiplier=noise_multiplier,\n",
    "    epochs=epochs,\n",
    "    delta=1e-5\n",
    ")\n",
    "\n",
    "print(f\"The privacy budget (epsilon) is: {epsilon}\")"
   ]
  },
  {
   "cell_type": "markdown",
   "metadata": {},
   "source": [
    "#### Observing Privacy-Utility Tradeoff"
   ]
  },
  {
   "cell_type": "code",
   "execution_count": 38,
   "metadata": {},
   "outputs": [
    {
     "name": "stdout",
     "output_type": "stream",
     "text": [
      "\n",
      "Training with noise multiplier: 0.1\n"
     ]
    },
    {
     "name": "stderr",
     "output_type": "stream",
     "text": [
      "WARNING:absl:`compute_dp_sgd_privacy` is deprecated. It does not account for doubling of sensitivity with microbatching, and assumes Poisson subsampling, which is rarely used in practice. Please use `compute_dp_sgd_privacy_statement`, which provides appropriate context for the guarantee. To compute epsilon under different assumptions than those in `compute_dp_sgd_privacy_statement`, call the `dp_accounting` libraries directly.\n"
     ]
    },
    {
     "name": "stdout",
     "output_type": "stream",
     "text": [
      "Test accuracy: 0.8537\n",
      "Epsilon: 27619.6354\n",
      "\n",
      "Training with noise multiplier: 0.5\n"
     ]
    },
    {
     "name": "stderr",
     "output_type": "stream",
     "text": [
      "WARNING:absl:`compute_dp_sgd_privacy` is deprecated. It does not account for doubling of sensitivity with microbatching, and assumes Poisson subsampling, which is rarely used in practice. Please use `compute_dp_sgd_privacy_statement`, which provides appropriate context for the guarantee. To compute epsilon under different assumptions than those in `compute_dp_sgd_privacy_statement`, call the `dp_accounting` libraries directly.\n"
     ]
    },
    {
     "name": "stdout",
     "output_type": "stream",
     "text": [
      "Test accuracy: 0.8537\n",
      "Epsilon: 177.5309\n",
      "\n",
      "Training with noise multiplier: 1.0\n"
     ]
    },
    {
     "name": "stderr",
     "output_type": "stream",
     "text": [
      "WARNING:absl:`compute_dp_sgd_privacy` is deprecated. It does not account for doubling of sensitivity with microbatching, and assumes Poisson subsampling, which is rarely used in practice. Please use `compute_dp_sgd_privacy_statement`, which provides appropriate context for the guarantee. To compute epsilon under different assumptions than those in `compute_dp_sgd_privacy_statement`, call the `dp_accounting` libraries directly.\n"
     ]
    },
    {
     "name": "stdout",
     "output_type": "stream",
     "text": [
      "Test accuracy: 0.8293\n",
      "Epsilon: 40.7370\n",
      "\n",
      "Training with noise multiplier: 2.0\n"
     ]
    },
    {
     "name": "stderr",
     "output_type": "stream",
     "text": [
      "WARNING:absl:`compute_dp_sgd_privacy` is deprecated. It does not account for doubling of sensitivity with microbatching, and assumes Poisson subsampling, which is rarely used in practice. Please use `compute_dp_sgd_privacy_statement`, which provides appropriate context for the guarantee. To compute epsilon under different assumptions than those in `compute_dp_sgd_privacy_statement`, call the `dp_accounting` libraries directly.\n"
     ]
    },
    {
     "name": "stdout",
     "output_type": "stream",
     "text": [
      "Test accuracy: 0.8537\n",
      "Epsilon: 13.5931\n",
      "\n",
      "Noise Multiplier: 0.1\n",
      "Test Accuracy: 0.8537\n",
      "Epsilon: 27619.6354\n",
      "\n",
      "Noise Multiplier: 0.5\n",
      "Test Accuracy: 0.8537\n",
      "Epsilon: 177.5309\n",
      "\n",
      "Noise Multiplier: 1.0\n",
      "Test Accuracy: 0.8293\n",
      "Epsilon: 40.7370\n",
      "\n",
      "Noise Multiplier: 2.0\n",
      "Test Accuracy: 0.8537\n",
      "Epsilon: 13.5931\n"
     ]
    }
   ],
   "source": [
    "noise_multipliers = [0.1, 0.5, 1.0, 2.0]\n",
    "results = []\n",
    "\n",
    "for noise_multiplier in noise_multipliers:\n",
    "    \n",
    "    print(f\"\\nTraining with noise multiplier: {noise_multiplier}\")\n",
    "    \n",
    "    # Create the model\n",
    "    model = create_model(num_features, num_classes, noise_multiplier)\n",
    "    \n",
    "    # Train the model\n",
    "    history = model.fit(\n",
    "        X_train_scaled, y_train_cat,\n",
    "        epochs=epochs,\n",
    "        batch_size=batch_size,\n",
    "        validation_split=0.2,\n",
    "        verbose=0\n",
    "    )\n",
    "    \n",
    "    # Evaluate the model\n",
    "    test_loss, test_accuracy = model.evaluate(X_test_scaled, y_test_cat, verbose=0)\n",
    "    \n",
    "    # Calculate epsilon\n",
    "    epsilon, _ = compute_dp_sgd_privacy_lib.compute_dp_sgd_privacy(\n",
    "        n=len(X_train),\n",
    "        batch_size=batch_size,\n",
    "        noise_multiplier=noise_multiplier,\n",
    "        epochs=epochs,\n",
    "        delta=1e-5\n",
    "    )\n",
    "    \n",
    "    results.append({\n",
    "        'noise_multiplier': noise_multiplier,\n",
    "        'test_accuracy': test_accuracy,\n",
    "        'epsilon': epsilon\n",
    "    })\n",
    "    \n",
    "    print(f\"Test accuracy: {test_accuracy:.4f}\")\n",
    "    print(f\"Epsilon: {epsilon:.4f}\")\n",
    "    \n",
    "# Display results\n",
    "for result in results:\n",
    "    print(f\"\\nNoise Multiplier: {result['noise_multiplier']}\")\n",
    "    print(f\"Test Accuracy: {result['test_accuracy']:.4f}\")\n",
    "    print(f\"Epsilon: {result['epsilon']:.4f}\")"
   ]
  },
  {
   "cell_type": "code",
   "execution_count": 39,
   "metadata": {},
   "outputs": [
    {
     "data": {
      "image/png": "[encoded data removed]",
      "text/plain": [
       "<Figure size 1000x600 with 1 Axes>"
      ]
     },
     "metadata": {},
     "output_type": "display_data"
    }
   ],
   "source": [
    "import matplotlib.pyplot as plt\n",
    "\n",
    "epsilons = [result['epsilon'] for result in results]\n",
    "accuracies = [result['test_accuracy'] for result in results]\n",
    "\n",
    "plt.figure(figsize=(10, 6))\n",
    "plt.plot(epsilons, accuracies, 'bo-')\n",
    "plt.xlabel('Epsilon (Privacy Budget)')\n",
    "plt.ylabel('Test Accuracy')\n",
    "plt.title('Privacy-Accuracy Trade-off')\n",
    "plt.show()"
   ]
  },
  {
   "cell_type": "markdown",
   "metadata": {},
   "source": [
    "#### Define Callback for Privacy Metrics"
   ]
  },
  {
   "cell_type": "code",
   "execution_count": 40,
   "metadata": {},
   "outputs": [],
   "source": [
    "from tensorflow_privacy.privacy.privacy_tests.membership_inference_attack import membership_inference_attack as mia\n",
    "from tensorflow_privacy.privacy.privacy_tests.membership_inference_attack.data_structures import AttackInputData\n",
    "from tensorflow_privacy.privacy.privacy_tests.membership_inference_attack.data_structures import AttackResultsCollection\n",
    "from tensorflow_privacy.privacy.privacy_tests.membership_inference_attack.data_structures import AttackType\n",
    "from tensorflow_privacy.privacy.privacy_tests.membership_inference_attack.data_structures import PrivacyMetric\n",
    "from tensorflow_privacy.privacy.privacy_tests.membership_inference_attack.data_structures import PrivacyReportMetadata\n",
    "from tensorflow_privacy.privacy.privacy_tests.membership_inference_attack.data_structures import SlicingSpec\n",
    "from tensorflow_privacy.privacy.privacy_tests.membership_inference_attack import privacy_report"
   ]
  },
  {
   "cell_type": "code",
   "execution_count": 41,
   "metadata": {},
   "outputs": [],
   "source": [
    "class PrivacyMetrics(tf.keras.callbacks.Callback):\n",
    "  def __init__(self, epochs_per_report, model_name):\n",
    "    self.epochs_per_report = epochs_per_report\n",
    "    self.model_name = model_name\n",
    "    self.attack_results = []\n",
    "\n",
    "  def on_epoch_end(self, epoch, logs=None):\n",
    "    epoch = epoch+1\n",
    "\n",
    "    if epoch % self.epochs_per_report != 0:\n",
    "      return\n",
    "\n",
    "    print(f'\\nRunning privacy report for epoch: {epoch}\\n')\n",
    "\n",
    "    logits_train = self.model.predict(x_train, batch_size=batch_size)\n",
    "    logits_test = self.model.predict(x_test, batch_size=batch_size)\n",
    "\n",
    "    prob_train = special.softmax(logits_train, axis=1)\n",
    "    prob_test = special.softmax(logits_test, axis=1)\n",
    "\n",
    "    # Add metadata to generate a privacy report.\n",
    "    privacy_report_metadata = PrivacyReportMetadata(\n",
    "        # Show the validation accuracy on the plot\n",
    "        # It's what you send to train_accuracy that gets plotted.\n",
    "        accuracy_train=logs['val_accuracy'], \n",
    "        accuracy_test=logs['val_accuracy'],\n",
    "        epoch_num=epoch,\n",
    "        model_variant_label=self.model_name)\n",
    "\n",
    "    attack_results = mia.run_attacks(\n",
    "        AttackInputData(\n",
    "            labels_train=y_train_indices[:, 0],\n",
    "            labels_test=y_test_indices[:, 0],\n",
    "            probs_train=prob_train,\n",
    "            probs_test=prob_test),\n",
    "        SlicingSpec(entire_dataset=True, by_class=True),\n",
    "        attack_types=(AttackType.THRESHOLD_ATTACK,\n",
    "                      AttackType.LOGISTIC_REGRESSION),\n",
    "        privacy_report_metadata=privacy_report_metadata)\n",
    "\n",
    "    self.attack_results.append(attack_results)"
   ]
  },
  {
   "cell_type": "markdown",
   "metadata": {},
   "source": [
    "#### Train Model and Collect Privacy Metrics"
   ]
  },
  {
   "cell_type": "code",
   "execution_count": 42,
   "metadata": {},
   "outputs": [
    {
     "name": "stdout",
     "output_type": "stream",
     "text": [
      "Epoch 1/100\n"
     ]
    },
    {
     "ename": "ValueError",
     "evalue": "in user code:\n\n    File \"c:\\MONASH\\Y3S2\\FIT3164\\repo\\MDS14\\.venv\\Lib\\site-packages\\keras\\src\\engine\\training.py\", line 1401, in train_function  *\n        return step_function(self, iterator)\n    File \"c:\\MONASH\\Y3S2\\FIT3164\\repo\\MDS14\\.venv\\Lib\\site-packages\\keras\\src\\engine\\training.py\", line 1384, in step_function  **\n        outputs = model.distribute_strategy.run(run_step, args=(data,))\n    File \"c:\\MONASH\\Y3S2\\FIT3164\\repo\\MDS14\\.venv\\Lib\\site-packages\\keras\\src\\engine\\training.py\", line 1373, in run_step  **\n        outputs = model.train_step(data)\n    File \"c:\\MONASH\\Y3S2\\FIT3164\\repo\\MDS14\\.venv\\Lib\\site-packages\\keras\\src\\engine\\training.py\", line 1151, in train_step\n        loss = self.compute_loss(x, y, y_pred, sample_weight)\n    File \"c:\\MONASH\\Y3S2\\FIT3164\\repo\\MDS14\\.venv\\Lib\\site-packages\\keras\\src\\engine\\training.py\", line 1209, in compute_loss\n        return self.compiled_loss(\n    File \"c:\\MONASH\\Y3S2\\FIT3164\\repo\\MDS14\\.venv\\Lib\\site-packages\\keras\\src\\engine\\compile_utils.py\", line 277, in __call__\n        loss_value = loss_obj(y_t, y_p, sample_weight=sw)\n    File \"c:\\MONASH\\Y3S2\\FIT3164\\repo\\MDS14\\.venv\\Lib\\site-packages\\keras\\src\\losses.py\", line 143, in __call__\n        losses = call_fn(y_true, y_pred)\n    File \"c:\\MONASH\\Y3S2\\FIT3164\\repo\\MDS14\\.venv\\Lib\\site-packages\\keras\\src\\losses.py\", line 270, in call  **\n        return ag_fn(y_true, y_pred, **self._fn_kwargs)\n    File \"c:\\MONASH\\Y3S2\\FIT3164\\repo\\MDS14\\.venv\\Lib\\site-packages\\keras\\src\\losses.py\", line 2221, in categorical_crossentropy\n        return backend.categorical_crossentropy(\n    File \"c:\\MONASH\\Y3S2\\FIT3164\\repo\\MDS14\\.venv\\Lib\\site-packages\\keras\\src\\backend.py\", line 5573, in categorical_crossentropy\n        target.shape.assert_is_compatible_with(output.shape)\n\n    ValueError: Shapes (None, 1) and (None, 4) are incompatible\n",
     "output_type": "error",
     "traceback": [
      "\u001b[1;31m---------------------------------------------------------------------------\u001b[0m",
      "\u001b[1;31mValueError\u001b[0m                                Traceback (most recent call last)",
      "Cell \u001b[1;32mIn[42], line 2\u001b[0m\n\u001b[0;32m      1\u001b[0m callback \u001b[38;5;241m=\u001b[39m PrivacyMetrics(epochs_per_report\u001b[38;5;241m=\u001b[39m\u001b[38;5;241m2\u001b[39m, model_name\u001b[38;5;241m=\u001b[39m\u001b[38;5;124m\"\u001b[39m\u001b[38;5;124mDP Model\u001b[39m\u001b[38;5;124m\"\u001b[39m)\n\u001b[1;32m----> 2\u001b[0m history \u001b[38;5;241m=\u001b[39m \u001b[43mmodel_dp\u001b[49m\u001b[38;5;241;43m.\u001b[39;49m\u001b[43mfit\u001b[49m\u001b[43m(\u001b[49m\n\u001b[0;32m      3\u001b[0m \u001b[43m    \u001b[49m\u001b[43mX_train\u001b[49m\u001b[43m,\u001b[49m\u001b[43m \u001b[49m\n\u001b[0;32m      4\u001b[0m \u001b[43m    \u001b[49m\u001b[43my_train\u001b[49m\u001b[43m,\u001b[49m\n\u001b[0;32m      5\u001b[0m \u001b[43m    \u001b[49m\u001b[43mepochs\u001b[49m\u001b[38;5;241;43m=\u001b[39;49m\u001b[43mepochs\u001b[49m\u001b[43m,\u001b[49m\n\u001b[0;32m      6\u001b[0m \u001b[43m    \u001b[49m\u001b[43mvalidation_data\u001b[49m\u001b[38;5;241;43m=\u001b[39;49m\u001b[43m(\u001b[49m\u001b[43mX_test\u001b[49m\u001b[43m,\u001b[49m\u001b[43m \u001b[49m\u001b[43my_test\u001b[49m\u001b[43m)\u001b[49m\u001b[43m,\u001b[49m\n\u001b[0;32m      7\u001b[0m \u001b[43m    \u001b[49m\u001b[43mbatch_size\u001b[49m\u001b[38;5;241;43m=\u001b[39;49m\u001b[43mbatch_size\u001b[49m\u001b[43m,\u001b[49m\n\u001b[0;32m      8\u001b[0m \u001b[43m    \u001b[49m\u001b[43mcallbacks\u001b[49m\u001b[38;5;241;43m=\u001b[39;49m\u001b[43m[\u001b[49m\u001b[43mcallback\u001b[49m\u001b[43m]\u001b[49m\u001b[43m,\u001b[49m\n\u001b[0;32m      9\u001b[0m \u001b[43m    \u001b[49m\u001b[43mshuffle\u001b[49m\u001b[38;5;241;43m=\u001b[39;49m\u001b[38;5;28;43;01mTrue\u001b[39;49;00m\n\u001b[0;32m     10\u001b[0m \u001b[43m)\u001b[49m\n",
      "File \u001b[1;32mc:\\MONASH\\Y3S2\\FIT3164\\repo\\MDS14\\.venv\\Lib\\site-packages\\keras\\src\\utils\\traceback_utils.py:70\u001b[0m, in \u001b[0;36mfilter_traceback.<locals>.error_handler\u001b[1;34m(*args, **kwargs)\u001b[0m\n\u001b[0;32m     67\u001b[0m     filtered_tb \u001b[38;5;241m=\u001b[39m _process_traceback_frames(e\u001b[38;5;241m.\u001b[39m__traceback__)\n\u001b[0;32m     68\u001b[0m     \u001b[38;5;66;03m# To get the full stack trace, call:\u001b[39;00m\n\u001b[0;32m     69\u001b[0m     \u001b[38;5;66;03m# `tf.debugging.disable_traceback_filtering()`\u001b[39;00m\n\u001b[1;32m---> 70\u001b[0m     \u001b[38;5;28;01mraise\u001b[39;00m e\u001b[38;5;241m.\u001b[39mwith_traceback(filtered_tb) \u001b[38;5;28;01mfrom\u001b[39;00m \u001b[38;5;28;01mNone\u001b[39;00m\n\u001b[0;32m     71\u001b[0m \u001b[38;5;28;01mfinally\u001b[39;00m:\n\u001b[0;32m     72\u001b[0m     \u001b[38;5;28;01mdel\u001b[39;00m filtered_tb\n",
      "File \u001b[1;32m~\\AppData\\Local\\Temp\\__autograph_generated_fileq61llb44.py:15\u001b[0m, in \u001b[0;36mouter_factory.<locals>.inner_factory.<locals>.tf__train_function\u001b[1;34m(iterator)\u001b[0m\n\u001b[0;32m     13\u001b[0m \u001b[38;5;28;01mtry\u001b[39;00m:\n\u001b[0;32m     14\u001b[0m     do_return \u001b[38;5;241m=\u001b[39m \u001b[38;5;28;01mTrue\u001b[39;00m\n\u001b[1;32m---> 15\u001b[0m     retval_ \u001b[38;5;241m=\u001b[39m ag__\u001b[38;5;241m.\u001b[39mconverted_call(ag__\u001b[38;5;241m.\u001b[39mld(step_function), (ag__\u001b[38;5;241m.\u001b[39mld(\u001b[38;5;28mself\u001b[39m), ag__\u001b[38;5;241m.\u001b[39mld(iterator)), \u001b[38;5;28;01mNone\u001b[39;00m, fscope)\n\u001b[0;32m     16\u001b[0m \u001b[38;5;28;01mexcept\u001b[39;00m:\n\u001b[0;32m     17\u001b[0m     do_return \u001b[38;5;241m=\u001b[39m \u001b[38;5;28;01mFalse\u001b[39;00m\n",
      "\u001b[1;31mValueError\u001b[0m: in user code:\n\n    File \"c:\\MONASH\\Y3S2\\FIT3164\\repo\\MDS14\\.venv\\Lib\\site-packages\\keras\\src\\engine\\training.py\", line 1401, in train_function  *\n        return step_function(self, iterator)\n    File \"c:\\MONASH\\Y3S2\\FIT3164\\repo\\MDS14\\.venv\\Lib\\site-packages\\keras\\src\\engine\\training.py\", line 1384, in step_function  **\n        outputs = model.distribute_strategy.run(run_step, args=(data,))\n    File \"c:\\MONASH\\Y3S2\\FIT3164\\repo\\MDS14\\.venv\\Lib\\site-packages\\keras\\src\\engine\\training.py\", line 1373, in run_step  **\n        outputs = model.train_step(data)\n    File \"c:\\MONASH\\Y3S2\\FIT3164\\repo\\MDS14\\.venv\\Lib\\site-packages\\keras\\src\\engine\\training.py\", line 1151, in train_step\n        loss = self.compute_loss(x, y, y_pred, sample_weight)\n    File \"c:\\MONASH\\Y3S2\\FIT3164\\repo\\MDS14\\.venv\\Lib\\site-packages\\keras\\src\\engine\\training.py\", line 1209, in compute_loss\n        return self.compiled_loss(\n    File \"c:\\MONASH\\Y3S2\\FIT3164\\repo\\MDS14\\.venv\\Lib\\site-packages\\keras\\src\\engine\\compile_utils.py\", line 277, in __call__\n        loss_value = loss_obj(y_t, y_p, sample_weight=sw)\n    File \"c:\\MONASH\\Y3S2\\FIT3164\\repo\\MDS14\\.venv\\Lib\\site-packages\\keras\\src\\losses.py\", line 143, in __call__\n        losses = call_fn(y_true, y_pred)\n    File \"c:\\MONASH\\Y3S2\\FIT3164\\repo\\MDS14\\.venv\\Lib\\site-packages\\keras\\src\\losses.py\", line 270, in call  **\n        return ag_fn(y_true, y_pred, **self._fn_kwargs)\n    File \"c:\\MONASH\\Y3S2\\FIT3164\\repo\\MDS14\\.venv\\Lib\\site-packages\\keras\\src\\losses.py\", line 2221, in categorical_crossentropy\n        return backend.categorical_crossentropy(\n    File \"c:\\MONASH\\Y3S2\\FIT3164\\repo\\MDS14\\.venv\\Lib\\site-packages\\keras\\src\\backend.py\", line 5573, in categorical_crossentropy\n        target.shape.assert_is_compatible_with(output.shape)\n\n    ValueError: Shapes (None, 1) and (None, 4) are incompatible\n"
     ]
    }
   ],
   "source": [
    "callback = PrivacyMetrics(epochs_per_report=2, model_name=\"DP Model\")\n",
    "history = model_dp.fit(\n",
    "    X_train, \n",
    "    y_train,\n",
    "    epochs=epochs,\n",
    "    validation_data=(X_test, y_test),\n",
    "    batch_size=batch_size,\n",
    "    callbacks=[callback],\n",
    "    shuffle=True\n",
    ")"
   ]
  },
  {
   "cell_type": "markdown",
   "metadata": {},
   "source": [
    "#### Visualise Privacy Metrics"
   ]
  },
  {
   "cell_type": "code",
   "execution_count": null,
   "metadata": {},
   "outputs": [],
   "source": [
    "all_reports = callback.attack_results\n",
    "results = AttackResultsCollection(all_reports)"
   ]
  },
  {
   "cell_type": "markdown",
   "metadata": {},
   "source": [
    "##### Epoch Plots"
   ]
  },
  {
   "cell_type": "code",
   "execution_count": null,
   "metadata": {},
   "outputs": [],
   "source": [
    "privacy_metrics = (PrivacyMetric.AUC, PrivacyMetric.ATTACKER_ADVANTAGE)\n",
    "epoch_plot = privacy_report.plot_by_epochs(results, privacy_metrics=privacy_metrics)"
   ]
  },
  {
   "cell_type": "markdown",
   "metadata": {},
   "source": [
    "##### Privacy VS Utility Plots"
   ]
  },
  {
   "cell_type": "code",
   "execution_count": null,
   "metadata": {},
   "outputs": [],
   "source": [
    "utility_privacy_plot = privacy_report.plot_privacy_vs_accuracy(results, privacy_metrics=privacy_metrics)\n",
    "for axis in utility_privacy_plot.axes:\n",
    "    axis.set_xlabel('Validation accuracy')"
   ]
  }
 ],
 "metadata": {
  "kernelspec": {
   "display_name": ".venv",
   "language": "python",
   "name": "python3"
  },
  "language_info": {
   "codemirror_mode": {
    "name": "ipython",
    "version": 3
   },
   "file_extension": ".py",
   "mimetype": "text/x-python",
   "name": "python",
   "nbconvert_exporter": "python",
   "pygments_lexer": "ipython3",
   "version": "3.11.8"
  }
 },
 "nbformat": 4,
 "nbformat_minor": 4
}
