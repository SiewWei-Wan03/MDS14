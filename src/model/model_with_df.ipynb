{
 "cells": [
  {
   "cell_type": "markdown",
   "metadata": {},
   "source": [
    "#### Import Libraries"
   ]
  },
  {
   "cell_type": "code",
   "execution_count": 1,
   "metadata": {},
   "outputs": [
    {
     "name": "stdout",
     "output_type": "stream",
     "text": [
      "WARNING:tensorflow:From c:\\Users\\chery\\anaconda3\\envs\\fyp1\\Lib\\site-packages\\keras\\src\\losses.py:2976: The name tf.losses.sparse_softmax_cross_entropy is deprecated. Please use tf.compat.v1.losses.sparse_softmax_cross_entropy instead.\n",
      "\n",
      "WARNING:tensorflow:From c:\\Users\\chery\\anaconda3\\envs\\fyp1\\Lib\\site-packages\\tensorflow_estimator\\python\\estimator\\util.py:74: The name tf.train.SessionRunHook is deprecated. Please use tf.estimator.SessionRunHook instead.\n",
      "\n",
      "WARNING:tensorflow:From c:\\Users\\chery\\anaconda3\\envs\\fyp1\\Lib\\site-packages\\tensorflow_probability\\python\\internal\\backend\\numpy\\_utils.py:48: The name tf.logging.TaskLevelStatusMessage is deprecated. Please use tf.compat.v1.logging.TaskLevelStatusMessage instead.\n",
      "\n",
      "WARNING:tensorflow:From c:\\Users\\chery\\anaconda3\\envs\\fyp1\\Lib\\site-packages\\tensorflow_probability\\python\\internal\\backend\\numpy\\_utils.py:48: The name tf.control_flow_v2_enabled is deprecated. Please use tf.compat.v1.control_flow_v2_enabled instead.\n",
      "\n"
     ]
    }
   ],
   "source": [
    "import tensorflow as tf\n",
    "import pandas as pd\n",
    "from sklearn.model_selection import train_test_split\n",
    "from sklearn.preprocessing import LabelEncoder\n",
    "from keras.optimizers import SGD\n",
    "from tensorflow_privacy.privacy.optimizers.dp_optimizer_keras import DPKerasSGDOptimizer\n",
    "from tensorflow_privacy.privacy.privacy_tests.membership_inference_attack import membership_inference_attack as mia\n",
    "from tensorflow_privacy.privacy.privacy_tests.membership_inference_attack.data_structures import AttackInputData, AttackResultsCollection, AttackType, PrivacyMetric, PrivacyReportMetadata, SlicingSpec\n",
    "from tensorflow_privacy.privacy.privacy_tests.membership_inference_attack import privacy_report"
   ]
  },
  {
   "cell_type": "markdown",
   "metadata": {},
   "source": [
    "#### Data Preprocessing"
   ]
  },
  {
   "cell_type": "code",
   "execution_count": 2,
   "metadata": {},
   "outputs": [],
   "source": [
    "import pandas as pd\n",
    "import numpy as np\n",
    "from sklearn.model_selection import train_test_split\n",
    "from sklearn.preprocessing import StandardScaler\n",
    "from tensorflow.keras.utils import to_categorical\n",
    "\n",
    "# Load the dataset\n",
    "data = pd.read_csv('../data/patient_processed.csv')"
   ]
  },
  {
   "cell_type": "code",
   "execution_count": 3,
   "metadata": {},
   "outputs": [],
   "source": [
    "# Select the relevant columns\n",
    "features = data[['tanimoto', 'feature_jsim', 'feature_dsim', 'feature_osim']]\n",
    "labels = data['DDI']\n",
    "\n",
    "# Map DDI levels to the numeric values\n",
    "ddi_mapping = {'no interaction found': 0, 'minor': 1, 'moderate': 2, 'major': 3}\n",
    "labels = labels.map(ddi_mapping)"
   ]
  },
  {
   "cell_type": "code",
   "execution_count": 4,
   "metadata": {},
   "outputs": [],
   "source": [
    "# Handle missing values\n",
    "features = features.fillna(features.mean())"
   ]
  },
  {
   "cell_type": "code",
   "execution_count": 5,
   "metadata": {},
   "outputs": [],
   "source": [
    "# Split the data into training and testing\n",
    "X_train, X_test, y_train, y_test = train_test_split(\n",
    "    features, \n",
    "    labels, \n",
    "    test_size=0.2, \n",
    "    random_state=42\n",
    ")"
   ]
  },
  {
   "cell_type": "code",
   "execution_count": 6,
   "metadata": {},
   "outputs": [],
   "source": [
    "# Scale the input features\n",
    "scaler = StandardScaler()\n",
    "X_train_scaled = scaler.fit_transform(X_train)\n",
    "X_test_scaled = scaler.transform(X_test)"
   ]
  },
  {
   "cell_type": "code",
   "execution_count": 7,
   "metadata": {},
   "outputs": [],
   "source": [
    "# Convert the target variable to a categorical format\n",
    "num_classes = len(ddi_mapping)\n",
    "y_train_cat = to_categorical(y_train, num_classes)\n",
    "y_test_cat = to_categorical(y_test, num_classes)"
   ]
  },
  {
   "cell_type": "markdown",
   "metadata": {},
   "source": [
    "#### Define Hyperparameters"
   ]
  },
  {
   "cell_type": "code",
   "execution_count": 8,
   "metadata": {},
   "outputs": [],
   "source": [
    "# Model Hypeparameters\n",
    "num_features = len(ddi_mapping)\n",
    "num_classes = X_train_scaled.shape[1]\n",
    "learning_rate = 0.01\n",
    "batch_size = 32\n",
    "epochs = 100\n",
    "\n",
    "# Privacy Hyperparameters\n",
    "l2_norm_clip = 1.0\n",
    "noise_multiplier = 1.1\n",
    "num_microbatches = 1"
   ]
  },
  {
   "cell_type": "markdown",
   "metadata": {},
   "source": [
    "#### Build and Compile the Models"
   ]
  },
  {
   "cell_type": "markdown",
   "metadata": {},
   "source": [
    "##### Model Architecture"
   ]
  },
  {
   "cell_type": "code",
   "execution_count": 9,
   "metadata": {},
   "outputs": [],
   "source": [
    "import tensorflow as tf\n",
    "from tensorflow import keras\n",
    "\n",
    "def create_model(num_features, num_classes, noise_multiplier = 1.1):\n",
    "    \"\"\"\n",
    "    This function creates a deep learning model with three hidden layers and applies differential privacy\n",
    "    using a differentially private SGD optimizer.\n",
    "\n",
    "    Input:\n",
    "    num_features: The number of input features for the model.\n",
    "    num_classes: The number of output classes for classification.\n",
    "    noise_multiplier: The noise multiplier used for differential privacy (default is 1.1).\n",
    "\n",
    "    Output:\n",
    "    A compiled TensorFlow model ready for training.\n",
    "\n",
    "    \"\"\"\n",
    "    model = keras.Sequential([\n",
    "        keras.layers.Input(shape=(num_features,)),\n",
    "        keras.layers.Dense(64, activation='relu'),\n",
    "        keras.layers.Dense(32, activation='relu'),\n",
    "        keras.layers.Dense(16, activation='relu'),\n",
    "        keras.layers.Dense(num_classes, activation='softmax')\n",
    "    ])\n",
    "    \n",
    "    optimizer = DPKerasSGDOptimizer(\n",
    "            l2_norm_clip=l2_norm_clip,\n",
    "            noise_multiplier=noise_multiplier,\n",
    "            num_microbatches=num_microbatches,\n",
    "            learning_rate=learning_rate\n",
    "        )\n",
    "    \n",
    "    model.compile(\n",
    "        optimizer = optimizer,\n",
    "        loss='categorical_crossentropy',\n",
    "        metrics=['accuracy']\n",
    "    )\n",
    "    \n",
    "    return model"
   ]
  },
  {
   "cell_type": "markdown",
   "metadata": {},
   "source": [
    "##### Differential Privacy Model"
   ]
  },
  {
   "cell_type": "code",
   "execution_count": 10,
   "metadata": {},
   "outputs": [
    {
     "name": "stdout",
     "output_type": "stream",
     "text": [
      "WARNING:tensorflow:From c:\\Users\\chery\\anaconda3\\envs\\fyp1\\Lib\\site-packages\\keras\\src\\backend.py:1398: The name tf.executing_eagerly_outside_functions is deprecated. Please use tf.compat.v1.executing_eagerly_outside_functions instead.\n",
      "\n",
      "Epoch 1/100\n",
      "WARNING:tensorflow:From c:\\Users\\chery\\anaconda3\\envs\\fyp1\\Lib\\site-packages\\keras\\src\\utils\\tf_utils.py:492: The name tf.ragged.RaggedTensorValue is deprecated. Please use tf.compat.v1.ragged.RaggedTensorValue instead.\n",
      "\n",
      "5/5 [==============================] - 1s 53ms/step - loss: 1.4585 - accuracy: 0.0543 - val_loss: 1.4541 - val_accuracy: 0.0303 - lr: 0.0100\n",
      "Epoch 2/100\n",
      "5/5 [==============================] - 0s 9ms/step - loss: 1.4396 - accuracy: 0.0698 - val_loss: 1.4521 - val_accuracy: 0.0606 - lr: 0.0100\n",
      "Epoch 3/100\n",
      "5/5 [==============================] - 0s 9ms/step - loss: 1.4608 - accuracy: 0.0853 - val_loss: 1.4584 - val_accuracy: 0.0606 - lr: 0.0100\n",
      "Epoch 4/100\n",
      "5/5 [==============================] - 0s 8ms/step - loss: 1.4370 - accuracy: 0.1085 - val_loss: 1.4160 - val_accuracy: 0.0000e+00 - lr: 0.0100\n",
      "Epoch 5/100\n",
      "5/5 [==============================] - 0s 9ms/step - loss: 1.4049 - accuracy: 0.1085 - val_loss: 1.3810 - val_accuracy: 0.0000e+00 - lr: 0.0100\n",
      "Epoch 6/100\n",
      "5/5 [==============================] - 0s 9ms/step - loss: 1.3986 - accuracy: 0.1318 - val_loss: 1.3898 - val_accuracy: 0.0303 - lr: 0.0100\n",
      "Epoch 7/100\n",
      "5/5 [==============================] - 0s 11ms/step - loss: 1.3811 - accuracy: 0.2171 - val_loss: 1.3371 - val_accuracy: 0.7576 - lr: 0.0100\n",
      "Epoch 8/100\n",
      "5/5 [==============================] - 0s 10ms/step - loss: 1.3421 - accuracy: 0.6744 - val_loss: 1.2973 - val_accuracy: 0.8788 - lr: 0.0100\n",
      "Epoch 9/100\n",
      "5/5 [==============================] - 0s 9ms/step - loss: 1.3057 - accuracy: 0.7442 - val_loss: 1.2515 - val_accuracy: 0.8788 - lr: 0.0100\n",
      "Epoch 10/100\n",
      "5/5 [==============================] - 0s 10ms/step - loss: 1.2932 - accuracy: 0.7364 - val_loss: 1.2636 - val_accuracy: 0.8788 - lr: 0.0100\n",
      "Epoch 11/100\n",
      "5/5 [==============================] - 0s 10ms/step - loss: 1.2712 - accuracy: 0.7442 - val_loss: 1.2041 - val_accuracy: 0.8788 - lr: 0.0100\n",
      "Epoch 12/100\n",
      "5/5 [==============================] - 0s 10ms/step - loss: 1.2333 - accuracy: 0.7519 - val_loss: 1.1650 - val_accuracy: 0.8788 - lr: 0.0100\n",
      "Epoch 13/100\n",
      "5/5 [==============================] - 0s 8ms/step - loss: 1.2008 - accuracy: 0.7442 - val_loss: 1.1442 - val_accuracy: 0.8788 - lr: 0.0100\n",
      "Epoch 14/100\n",
      "5/5 [==============================] - 0s 14ms/step - loss: 1.1771 - accuracy: 0.7442 - val_loss: 1.1175 - val_accuracy: 0.8788 - lr: 0.0100\n",
      "Epoch 15/100\n",
      "5/5 [==============================] - 0s 8ms/step - loss: 1.1524 - accuracy: 0.7442 - val_loss: 1.0807 - val_accuracy: 0.8788 - lr: 0.0100\n",
      "Epoch 16/100\n",
      "5/5 [==============================] - 0s 8ms/step - loss: 1.1206 - accuracy: 0.7442 - val_loss: 1.0400 - val_accuracy: 0.8788 - lr: 0.0100\n",
      "Epoch 17/100\n",
      "5/5 [==============================] - 0s 8ms/step - loss: 1.0899 - accuracy: 0.7442 - val_loss: 1.0005 - val_accuracy: 0.8788 - lr: 0.0100\n",
      "Epoch 18/100\n",
      "5/5 [==============================] - 0s 9ms/step - loss: 1.0671 - accuracy: 0.7442 - val_loss: 0.9481 - val_accuracy: 0.8788 - lr: 0.0100\n",
      "Epoch 19/100\n",
      "5/5 [==============================] - 0s 10ms/step - loss: 1.0186 - accuracy: 0.7442 - val_loss: 0.9427 - val_accuracy: 0.8788 - lr: 0.0100\n",
      "Epoch 20/100\n",
      "5/5 [==============================] - 0s 9ms/step - loss: 1.0207 - accuracy: 0.7442 - val_loss: 0.9559 - val_accuracy: 0.8788 - lr: 0.0100\n",
      "Epoch 21/100\n",
      "5/5 [==============================] - 0s 9ms/step - loss: 1.0250 - accuracy: 0.7442 - val_loss: 0.9161 - val_accuracy: 0.8788 - lr: 0.0100\n",
      "Epoch 22/100\n",
      "5/5 [==============================] - 0s 11ms/step - loss: 1.0085 - accuracy: 0.7442 - val_loss: 0.8760 - val_accuracy: 0.8788 - lr: 0.0100\n",
      "Epoch 23/100\n",
      "5/5 [==============================] - 0s 8ms/step - loss: 0.9820 - accuracy: 0.7442 - val_loss: 0.8561 - val_accuracy: 0.8788 - lr: 0.0100\n",
      "Epoch 24/100\n",
      "5/5 [==============================] - 0s 9ms/step - loss: 0.9751 - accuracy: 0.7442 - val_loss: 0.8395 - val_accuracy: 0.8788 - lr: 0.0100\n",
      "Epoch 25/100\n",
      "5/5 [==============================] - 0s 10ms/step - loss: 0.9587 - accuracy: 0.7519 - val_loss: 0.8233 - val_accuracy: 0.8788 - lr: 0.0100\n",
      "Epoch 26/100\n",
      "5/5 [==============================] - 0s 11ms/step - loss: 0.9467 - accuracy: 0.7519 - val_loss: 0.7801 - val_accuracy: 0.8788 - lr: 0.0100\n",
      "Epoch 27/100\n",
      "5/5 [==============================] - 0s 9ms/step - loss: 0.9169 - accuracy: 0.7519 - val_loss: 0.7356 - val_accuracy: 0.8788 - lr: 0.0100\n",
      "Epoch 28/100\n",
      "5/5 [==============================] - 0s 8ms/step - loss: 0.9004 - accuracy: 0.7519 - val_loss: 0.7686 - val_accuracy: 0.8788 - lr: 0.0100\n",
      "Epoch 29/100\n",
      "5/5 [==============================] - 0s 9ms/step - loss: 0.9120 - accuracy: 0.7519 - val_loss: 0.7766 - val_accuracy: 0.8788 - lr: 0.0100\n",
      "Epoch 30/100\n",
      "5/5 [==============================] - 0s 8ms/step - loss: 0.9174 - accuracy: 0.7519 - val_loss: 0.7493 - val_accuracy: 0.8788 - lr: 0.0100\n",
      "Epoch 31/100\n",
      "5/5 [==============================] - 0s 8ms/step - loss: 0.8988 - accuracy: 0.7519 - val_loss: 0.7311 - val_accuracy: 0.8788 - lr: 0.0100\n",
      "Epoch 32/100\n",
      "5/5 [==============================] - 0s 8ms/step - loss: 0.8812 - accuracy: 0.7519 - val_loss: 0.7323 - val_accuracy: 0.8788 - lr: 0.0100\n",
      "Epoch 33/100\n",
      "5/5 [==============================] - 0s 9ms/step - loss: 0.8921 - accuracy: 0.7519 - val_loss: 0.7483 - val_accuracy: 0.8788 - lr: 0.0100\n",
      "Epoch 34/100\n",
      "5/5 [==============================] - 0s 9ms/step - loss: 0.8937 - accuracy: 0.7519 - val_loss: 0.7465 - val_accuracy: 0.8788 - lr: 0.0100\n",
      "Epoch 35/100\n",
      "5/5 [==============================] - 0s 10ms/step - loss: 0.8921 - accuracy: 0.7519 - val_loss: 0.7245 - val_accuracy: 0.8788 - lr: 0.0100\n",
      "Epoch 36/100\n",
      "5/5 [==============================] - 0s 10ms/step - loss: 0.8798 - accuracy: 0.7519 - val_loss: 0.7317 - val_accuracy: 0.8788 - lr: 0.0100\n",
      "Epoch 37/100\n",
      "5/5 [==============================] - 0s 9ms/step - loss: 0.8794 - accuracy: 0.7519 - val_loss: 0.7094 - val_accuracy: 0.8788 - lr: 0.0100\n",
      "Epoch 38/100\n",
      "5/5 [==============================] - 0s 8ms/step - loss: 0.8733 - accuracy: 0.7519 - val_loss: 0.6897 - val_accuracy: 0.8788 - lr: 0.0100\n",
      "Epoch 39/100\n",
      "5/5 [==============================] - 0s 11ms/step - loss: 0.8546 - accuracy: 0.7519 - val_loss: 0.6404 - val_accuracy: 0.8788 - lr: 0.0100\n",
      "Epoch 40/100\n",
      "5/5 [==============================] - 0s 9ms/step - loss: 0.8378 - accuracy: 0.7519 - val_loss: 0.6412 - val_accuracy: 0.8788 - lr: 0.0100\n",
      "Epoch 41/100\n",
      "5/5 [==============================] - 0s 8ms/step - loss: 0.8321 - accuracy: 0.7519 - val_loss: 0.6355 - val_accuracy: 0.8788 - lr: 0.0100\n",
      "Epoch 42/100\n",
      "5/5 [==============================] - 0s 9ms/step - loss: 0.8293 - accuracy: 0.7519 - val_loss: 0.6234 - val_accuracy: 0.8788 - lr: 0.0100\n",
      "Epoch 43/100\n",
      "5/5 [==============================] - 0s 9ms/step - loss: 0.8163 - accuracy: 0.7519 - val_loss: 0.6089 - val_accuracy: 0.8788 - lr: 0.0100\n",
      "Epoch 44/100\n",
      "5/5 [==============================] - 0s 9ms/step - loss: 0.8054 - accuracy: 0.7519 - val_loss: 0.5880 - val_accuracy: 0.8788 - lr: 0.0100\n",
      "Epoch 45/100\n",
      "5/5 [==============================] - 0s 10ms/step - loss: 0.7931 - accuracy: 0.7519 - val_loss: 0.5829 - val_accuracy: 0.8788 - lr: 0.0100\n",
      "Epoch 46/100\n",
      "5/5 [==============================] - 0s 9ms/step - loss: 0.7901 - accuracy: 0.7519 - val_loss: 0.6053 - val_accuracy: 0.8788 - lr: 0.0100\n",
      "Epoch 47/100\n",
      "5/5 [==============================] - 0s 9ms/step - loss: 0.7887 - accuracy: 0.7519 - val_loss: 0.6003 - val_accuracy: 0.8788 - lr: 0.0100\n",
      "Epoch 48/100\n",
      "5/5 [==============================] - 0s 8ms/step - loss: 0.7821 - accuracy: 0.7519 - val_loss: 0.6140 - val_accuracy: 0.8788 - lr: 0.0100\n",
      "Epoch 49/100\n",
      "5/5 [==============================] - 0s 8ms/step - loss: 0.7947 - accuracy: 0.7519 - val_loss: 0.6513 - val_accuracy: 0.8788 - lr: 0.0100\n",
      "Epoch 50/100\n",
      "5/5 [==============================] - 0s 8ms/step - loss: 0.8013 - accuracy: 0.7519 - val_loss: 0.6421 - val_accuracy: 0.8788 - lr: 0.0100\n",
      "Epoch 51/100\n",
      "5/5 [==============================] - 0s 8ms/step - loss: 0.7983 - accuracy: 0.7519 - val_loss: 0.6335 - val_accuracy: 0.8788 - lr: 0.0050\n",
      "Epoch 52/100\n",
      "5/5 [==============================] - 0s 7ms/step - loss: 0.7926 - accuracy: 0.7519 - val_loss: 0.6214 - val_accuracy: 0.8788 - lr: 0.0050\n",
      "Epoch 53/100\n",
      "5/5 [==============================] - 0s 7ms/step - loss: 0.7889 - accuracy: 0.7519 - val_loss: 0.6225 - val_accuracy: 0.8788 - lr: 0.0050\n",
      "Epoch 54/100\n",
      "5/5 [==============================] - 0s 8ms/step - loss: 0.7838 - accuracy: 0.7519 - val_loss: 0.6114 - val_accuracy: 0.8788 - lr: 0.0050\n",
      "Epoch 55/100\n",
      "5/5 [==============================] - 0s 9ms/step - loss: 0.7841 - accuracy: 0.7519 - val_loss: 0.6056 - val_accuracy: 0.8788 - lr: 0.0050\n"
     ]
    }
   ],
   "source": [
    "# Build a model with differential privacy\n",
    "model_dp = create_model(num_features, num_classes)\n",
    "\n",
    "# Use callbacks for early stopping and learning rate scheduling\n",
    "early_stopping = keras.callbacks.EarlyStopping(patience=10, restore_best_weights=True)\n",
    "lr_scheduler = keras.callbacks.ReduceLROnPlateau(factor=0.5, patience=5)\n",
    "\n",
    "# Train the model\n",
    "history = model_dp.fit(\n",
    "    X_train_scaled, y_train_cat,\n",
    "    epochs=epochs,\n",
    "    batch_size=batch_size,\n",
    "    validation_split=0.2,\n",
    "    verbose=1,\n",
    "    callbacks =[early_stopping, lr_scheduler]\n",
    ")"
   ]
  },
  {
   "cell_type": "code",
   "execution_count": 11,
   "metadata": {},
   "outputs": [],
   "source": [
    "# Evaluate the model\n",
    "test_loss, test_accuracy = model_dp.evaluate(X_test_scaled, y_test_cat)\n",
    "print(f\"Test accuracy: {test_accuracy}\")"
   ]
  },
  {
   "cell_type": "code",
   "execution_count": 16,
   "metadata": {},
   "outputs": [],
   "source": [
    "model_dp.save('src/model')"
   ]
  },
  {
   "cell_type": "code",
   "execution_count": 12,
   "metadata": {},
   "outputs": [
    {
     "data": {
      "image/png": "[encoded data removed]",
      "text/plain": [
       "<Figure size 640x480 with 1 Axes>"
      ]
     },
     "metadata": {},
     "output_type": "display_data"
    }
   ],
   "source": [
    "import matplotlib.pyplot as plt\n",
    "\n",
    "plt.plot(history.history['accuracy'], label='accuracy')\n",
    "plt.plot(history.history['val_accuracy'], label='val_accuracy')\n",
    "plt.xlabel('Epoch')\n",
    "plt.ylabel('Accuracy')\n",
    "plt.legend()\n",
    "plt.show()"
   ]
  },
  {
   "cell_type": "markdown",
   "metadata": {},
   "source": [
    "##### Non-Differential Privacy Model"
   ]
  },
  {
   "cell_type": "code",
   "execution_count": 17,
   "metadata": {},
   "outputs": [],
   "source": [
    "from keras.optimizers import SGD\n",
    "\n",
    "# Define the model\n",
    "model = tf.keras.Sequential([\n",
    "    tf.keras.layers.Dense(64, activation='relu', input_shape=(4,)),\n",
    "    tf.keras.layers.Dense(32, activation='relu'),\n",
    "    tf.keras.layers.Dense(len(label_encoder.classes_), activation='softmax')\n",
    "])\n",
    "\n",
    "optimizer_dp = DPKerasSGDOptimizer(\n",
    "    l2_norm_clip=l2_norm_clip,\n",
    "    noise_multiplier=noise_multiplier,\n",
    "    num_microbatches=num_microbatches,\n",
    "    learning_rate=learning_rate\n",
    ")\n",
    "\n",
    "loss_dp = tf.keras.losses.SparseCategoricalCrossentropy(from_logits=True, reduction=tf.losses.Reduction.NONE)\n",
    "\n",
    "model_dp.compile(optimizer=SGD(learning_rate=0.01, momentum=0.9), loss=loss_dp, metrics=['accuracy'])\n",
    "\n",
    "# Train the DP model\n",
    "model_dp.fit(X_train, y_train, epochs=10, validation_data=(X_train, y_train), batch_size=32)"
   ]
  },
  {
   "cell_type": "markdown",
   "metadata": {},
   "source": [
    "#### Evaluating Privacy"
   ]
  },
  {
   "cell_type": "markdown",
   "metadata": {},
   "source": [
    "##### Evaluating Privacy Budget"
   ]
  },
  {
   "cell_type": "code",
   "execution_count": 14,
   "metadata": {},
   "outputs": [],
   "source": [
    "from tensorflow_privacy.privacy.analysis import compute_dp_sgd_privacy_lib\n",
    "\n",
    "epsilon, alpha = compute_dp_sgd_privacy_lib.compute_dp_sgd_privacy(\n",
    "    n=X_train.shape[0],\n",
    "    batch_size=batch_size,\n",
    "    noise_multiplier=noise_multiplier,\n",
    "    epochs=epochs,\n",
    "    delta=1e-5\n",
    ")\n",
    "\n",
    "print(f\"The privacy budget (epsilon) is: {epsilon}\")"
   ]
  },
  {
   "cell_type": "markdown",
   "metadata": {},
   "source": [
    "##### Observing Privacy-Utility Tradeoff"
   ]
  },
  {
   "cell_type": "code",
   "execution_count": 15,
   "metadata": {},
   "outputs": [],
   "source": [
    "noise_multipliers = [0.1, 0.5, 1.0, 2.0]\n",
    "results = []\n",
    "\n",
    "for noise_multiplier in noise_multipliers:\n",
    "    \n",
    "    print(f\"\\nTraining with noise multiplier: {noise_multiplier}\")\n",
    "    \n",
    "    # Create the model\n",
    "    model = create_model(num_features, num_classes, noise_multiplier)\n",
    "    \n",
    "    # Train the model\n",
    "    history = model.fit(\n",
    "        X_train_scaled, y_train_cat,\n",
    "        epochs=epochs,\n",
    "        batch_size=batch_size,\n",
    "        validation_split=0.2,\n",
    "        verbose=0\n",
    "    )\n",
    "    \n",
    "    # Evaluate the model\n",
    "    test_loss, test_accuracy = model.evaluate(X_test_scaled, y_test_cat, verbose=0)\n",
    "    \n",
    "    # Calculate epsilon\n",
    "    epsilon, _ = compute_dp_sgd_privacy_lib.compute_dp_sgd_privacy(\n",
    "        n=len(X_train),\n",
    "        batch_size=batch_size,\n",
    "        noise_multiplier=noise_multiplier,\n",
    "        epochs=epochs,\n",
    "        delta=1e-5\n",
    "    )\n",
    "    \n",
    "    results.append({\n",
    "        'noise_multiplier': noise_multiplier,\n",
    "        'test_accuracy': test_accuracy,\n",
    "        'epsilon': epsilon\n",
    "    })\n",
    "    \n",
    "    print(f\"Test accuracy: {test_accuracy:.4f}\")\n",
    "    print(f\"Epsilon: {epsilon:.4f}\")\n",
    "    \n",
    "# Display results\n",
    "for result in results:\n",
    "    print(f\"\\nNoise Multiplier: {result['noise_multiplier']}\")\n",
    "    print(f\"Test Accuracy: {result['test_accuracy']:.4f}\")\n",
    "    print(f\"Epsilon: {result['epsilon']:.4f}\")"
   ]
  },
  {
   "cell_type": "code",
   "execution_count": 33,
   "metadata": {},
   "outputs": [
    {
     "data": {
      "image/png": "[encoded data removed]",
      "text/plain": [
       "<Figure size 1000x600 with 1 Axes>"
      ]
     },
     "metadata": {},
     "output_type": "display_data"
    }
   ],
   "source": [
    "import matplotlib.pyplot as plt\n",
    "\n",
    "epsilons = [result['epsilon'] for result in results]\n",
    "accuracies = [result['test_accuracy'] for result in results]\n",
    "\n",
    "plt.figure(figsize=(10, 6))\n",
    "plt.plot(epsilons, accuracies, 'bo-')\n",
    "plt.xlabel('Epsilon (Privacy Budget)')\n",
    "plt.ylabel('Test Accuracy')\n",
    "plt.title('Privacy-Accuracy Trade-off')\n",
    "plt.show()"
   ]
  },
  {
   "cell_type": "markdown",
   "metadata": {},
   "source": [
    "#### Define Callback for Privacy Metrics"
   ]
  },
  {
   "cell_type": "code",
   "execution_count": 34,
   "metadata": {},
   "outputs": [],
   "source": [
    "from tensorflow_privacy.privacy.privacy_tests.membership_inference_attack import membership_inference_attack as mia\n",
    "from tensorflow_privacy.privacy.privacy_tests.membership_inference_attack.data_structures import AttackInputData\n",
    "from tensorflow_privacy.privacy.privacy_tests.membership_inference_attack.data_structures import AttackResultsCollection\n",
    "from tensorflow_privacy.privacy.privacy_tests.membership_inference_attack.data_structures import AttackType\n",
    "from tensorflow_privacy.privacy.privacy_tests.membership_inference_attack.data_structures import PrivacyMetric\n",
    "from tensorflow_privacy.privacy.privacy_tests.membership_inference_attack.data_structures import PrivacyReportMetadata\n",
    "from tensorflow_privacy.privacy.privacy_tests.membership_inference_attack.data_structures import SlicingSpec\n",
    "from tensorflow_privacy.privacy.privacy_tests.membership_inference_attack import privacy_report"
   ]
  },
  {
   "cell_type": "code",
   "execution_count": 35,
   "metadata": {},
   "outputs": [],
   "source": [
    "class PrivacyMetrics(tf.keras.callbacks.Callback):\n",
    "  \"\"\"\n",
    "    This class defines a custom Keras callback to compute and report privacy metrics during the training process. \n",
    "    The callback generates privacy reports at specified intervals, evaluating the model's privacy risks.\n",
    "\n",
    "    Input:\n",
    "    epochs_per_report: The number of epochs after which privacy metrics should be reported.\n",
    "    model_name: A string representing the name or label of the model for the privacy report.\n",
    "\n",
    "    Attributes:\n",
    "    attack_results: A list that stores the results of privacy attacks conducted after each reporting epoch.\n",
    "\n",
    "    Method:\n",
    "    on_epoch_end: This method is called at the end of each epoch and triggers the generation of privacy reports \n",
    "                  when the reporting interval is met.\n",
    "\n",
    "    \"\"\"\n",
    "  def __init__(self, epochs_per_report, model_name):\n",
    "    self.epochs_per_report = epochs_per_report\n",
    "    self.model_name = model_name\n",
    "    self.attack_results = []\n",
    "\n",
    "  def on_epoch_end(self, epoch, logs=None):\n",
    "    \"\"\"\n",
    "    This function generates and reports privacy metrics at the end of each epoch if the reporting interval is met.\n",
    "\n",
    "    Input:\n",
    "    epoch: The current epoch number.\n",
    "    logs: A dictionary of logs from the current epoch, including metrics such as validation accuracy.\n",
    "\n",
    "    Functionality:\n",
    "    - Computes logits and probabilities for both training and test datasets.\n",
    "    - Runs membership inference attacks (MIA) to evaluate privacy risks based on the predicted probabilities.\n",
    "    - Appends the results of the attacks to the attack_results attribute for further analysis.\n",
    "    \n",
    "    Output:\n",
    "    None. The function performs privacy evaluations and stores the results internally.\n",
    "    \"\"\"\n",
    "    epoch = epoch+1\n",
    "\n",
    "    if epoch % self.epochs_per_report != 0:\n",
    "      return\n",
    "\n",
    "    print(f'\\nRunning privacy report for epoch: {epoch}\\n')\n",
    "\n",
    "    logits_train = self.model.predict(x_train, batch_size=batch_size)\n",
    "    logits_test = self.model.predict(x_test, batch_size=batch_size)\n",
    "\n",
    "    prob_train = special.softmax(logits_train, axis=1)\n",
    "    prob_test = special.softmax(logits_test, axis=1)\n",
    "\n",
    "    # Add metadata to generate a privacy report.\n",
    "    privacy_report_metadata = PrivacyReportMetadata(\n",
    "        # Show the validation accuracy on the plot\n",
    "        # It's what you send to train_accuracy that gets plotted.\n",
    "        accuracy_train=logs['val_accuracy'], \n",
    "        accuracy_test=logs['val_accuracy'],\n",
    "        epoch_num=epoch,\n",
    "        model_variant_label=self.model_name)\n",
    "\n",
    "    attack_results = mia.run_attacks(\n",
    "        AttackInputData(\n",
    "            labels_train=y_train_indices[:, 0],\n",
    "            labels_test=y_test_indices[:, 0],\n",
    "            probs_train=prob_train,\n",
    "            probs_test=prob_test),\n",
    "        SlicingSpec(entire_dataset=True, by_class=True),\n",
    "        attack_types=(AttackType.THRESHOLD_ATTACK,\n",
    "                      AttackType.LOGISTIC_REGRESSION),\n",
    "        privacy_report_metadata=privacy_report_metadata)\n",
    "\n",
    "    self.attack_results.append(attack_results)"
   ]
  },
  {
   "cell_type": "markdown",
   "metadata": {},
   "source": [
    "#### Train Model and Collect Privacy Metrics"
   ]
  },
  {
   "cell_type": "code",
   "execution_count": null,
   "metadata": {},
   "outputs": [],
   "source": [
    "callback = PrivacyMetrics(epochs_per_report=2, model_name=\"DP Model\")\n",
    "history = model_dp.fit(\n",
    "    X_train, \n",
    "    y_train,\n",
    "    epochs=epochs,\n",
    "    validation_data=(X_test, y_test),\n",
    "    batch_size=batch_size,\n",
    "    callbacks=[callback],\n",
    "    shuffle=True\n",
    ")"
   ]
  },
  {
   "cell_type": "markdown",
   "metadata": {},
   "source": [
    "#### Visualise Privacy Metrics"
   ]
  },
  {
   "cell_type": "code",
   "execution_count": null,
   "metadata": {},
   "outputs": [],
   "source": [
    "all_reports = callback.attack_results\n",
    "results = AttackResultsCollection(all_reports)"
   ]
  },
  {
   "cell_type": "markdown",
   "metadata": {},
   "source": [
    "##### Epoch Plots"
   ]
  },
  {
   "cell_type": "code",
   "execution_count": null,
   "metadata": {},
   "outputs": [],
   "source": [
    "privacy_metrics = (PrivacyMetric.AUC, PrivacyMetric.ATTACKER_ADVANTAGE)\n",
    "epoch_plot = privacy_report.plot_by_epochs(results, privacy_metrics=privacy_metrics)"
   ]
  },
  {
   "cell_type": "markdown",
   "metadata": {},
   "source": [
    "##### Privacy VS Utility Plots"
   ]
  },
  {
   "cell_type": "code",
   "execution_count": null,
   "metadata": {},
   "outputs": [],
   "source": [
    "utility_privacy_plot = privacy_report.plot_privacy_vs_accuracy(results, privacy_metrics=privacy_metrics)\n",
    "for axis in utility_privacy_plot.axes:\n",
    "    axis.set_xlabel('Validation accuracy')"
   ]
  }
 ],
 "metadata": {
  "kernelspec": {
   "display_name": ".venv",
   "language": "python",
   "name": "python3"
  },
  "language_info": {
   "codemirror_mode": {
    "name": "ipython",
    "version": 3
   },
   "file_extension": ".py",
   "mimetype": "text/x-python",
   "name": "python",
   "nbconvert_exporter": "python",
   "pygments_lexer": "ipython3",
   "version": "3.11.8"
  }
 },
 "nbformat": 4,
 "nbformat_minor": 4
}
