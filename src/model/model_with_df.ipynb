{
 "cells": [
  {
   "cell_type": "markdown",
   "metadata": {},
   "source": [
    "#### Import Libraries"
   ]
  },
  {
   "cell_type": "code",
   "execution_count": 1,
   "metadata": {},
   "outputs": [
    {
     "name": "stdout",
     "output_type": "stream",
     "text": [
      "WARNING:tensorflow:From c:\\MONASH\\Y3S2\\FIT3164\\repo\\MDS14\\.venv\\Lib\\site-packages\\keras\\src\\losses.py:2976: The name tf.losses.sparse_softmax_cross_entropy is deprecated. Please use tf.compat.v1.losses.sparse_softmax_cross_entropy instead.\n",
      "\n",
      "WARNING:tensorflow:From c:\\MONASH\\Y3S2\\FIT3164\\repo\\MDS14\\.venv\\Lib\\site-packages\\tensorflow_estimator\\python\\estimator\\util.py:74: The name tf.train.SessionRunHook is deprecated. Please use tf.estimator.SessionRunHook instead.\n",
      "\n",
      "WARNING:tensorflow:From c:\\MONASH\\Y3S2\\FIT3164\\repo\\MDS14\\.venv\\Lib\\site-packages\\tensorflow_probability\\python\\internal\\backend\\numpy\\_utils.py:48: The name tf.logging.TaskLevelStatusMessage is deprecated. Please use tf.compat.v1.logging.TaskLevelStatusMessage instead.\n",
      "\n",
      "WARNING:tensorflow:From c:\\MONASH\\Y3S2\\FIT3164\\repo\\MDS14\\.venv\\Lib\\site-packages\\tensorflow_probability\\python\\internal\\backend\\numpy\\_utils.py:48: The name tf.control_flow_v2_enabled is deprecated. Please use tf.compat.v1.control_flow_v2_enabled instead.\n",
      "\n"
     ]
    }
   ],
   "source": [
    "import tensorflow as tf\n",
    "import pandas as pd\n",
    "from sklearn.model_selection import train_test_split\n",
    "from sklearn.preprocessing import LabelEncoder\n",
    "from keras.optimizers import SGD\n",
    "from tensorflow_privacy.privacy.optimizers.dp_optimizer_keras import DPKerasSGDOptimizer\n",
    "from tensorflow_privacy.privacy.privacy_tests.membership_inference_attack import membership_inference_attack as mia\n",
    "from tensorflow_privacy.privacy.privacy_tests.membership_inference_attack.data_structures import AttackInputData, AttackResultsCollection, AttackType, PrivacyMetric, PrivacyReportMetadata, SlicingSpec\n",
    "from tensorflow_privacy.privacy.privacy_tests.membership_inference_attack import privacy_report"
   ]
  },
  {
   "cell_type": "markdown",
   "metadata": {},
   "source": [
    "#### Data Preprocessing"
   ]
  },
  {
   "cell_type": "code",
   "execution_count": 12,
   "metadata": {},
   "outputs": [],
   "source": [
    "import pandas as pd\n",
    "import numpy as np\n",
    "from sklearn.model_selection import train_test_split\n",
    "from sklearn.preprocessing import StandardScaler\n",
    "from tensorflow.keras.utils import to_categorical\n",
    "\n",
    "# Load the dataset\n",
    "data = pd.read_csv('../data/patient_processed.csv')"
   ]
  },
  {
   "cell_type": "code",
   "execution_count": 14,
   "metadata": {},
   "outputs": [],
   "source": [
    "# Select the relevant columns\n",
    "features = data[['tanimoto', 'feature_jsim', 'feature_dsim', 'feature_osim']]\n",
    "labels = data['DDI']\n",
    "\n",
    "# Map DDI levels to the numeric values\n",
    "ddi_mapping = {'no interaction found': 0, 'minor': 1, 'moderate': 2, 'major': 3}\n",
    "labels = labels.map(ddi_mapping)"
   ]
  },
  {
   "cell_type": "code",
   "execution_count": 15,
   "metadata": {},
   "outputs": [],
   "source": [
    "# Handle missing values\n",
    "features = features.fillna(features.mean())"
   ]
  },
  {
   "cell_type": "code",
   "execution_count": 16,
   "metadata": {},
   "outputs": [],
   "source": [
    "# Split the data into training and testing\n",
    "X_train, X_test, y_train, y_test = train_test_split(\n",
    "    features, \n",
    "    labels, \n",
    "    test_size=0.2, \n",
    "    random_state=42\n",
    ")"
   ]
  },
  {
   "cell_type": "code",
   "execution_count": 17,
   "metadata": {},
   "outputs": [],
   "source": [
    "# Scale the input features\n",
    "scaler = StandardScaler()\n",
    "X_train_scaled = scaler.fit_transform(X_train)\n",
    "X_test_scaled = scaler.transform(X_test)"
   ]
  },
  {
   "cell_type": "code",
   "execution_count": 18,
   "metadata": {},
   "outputs": [],
   "source": [
    "# Convert the target variable to a categorical format\n",
    "num_classes = len(ddi_mapping)\n",
    "y_train_cat = to_categorical(y_train, num_classes)\n",
    "y_test_cat = to_categorical(y_test, num_classes)"
   ]
  },
  {
   "cell_type": "markdown",
   "metadata": {},
   "source": [
    "#### Define Hyperparameters"
   ]
  },
  {
   "cell_type": "code",
   "execution_count": 19,
   "metadata": {},
   "outputs": [],
   "source": [
    "# Model Hypeparameters\n",
    "num_features = len(ddi_mapping)\n",
    "num_classes = X_train_scaled.shape[1]\n",
    "learning_rate = 0.01\n",
    "batch_size = 32\n",
    "epochs = 10\n",
    "\n",
    "# Privacy Hyperparameters\n",
    "l2_norm_clip = 1.0\n",
    "noise_multiplier = 1.1\n",
    "num_microbatches = 1"
   ]
  },
  {
   "cell_type": "markdown",
   "metadata": {},
   "source": [
    "#### Build and Compile the Models"
   ]
  },
  {
   "cell_type": "markdown",
   "metadata": {},
   "source": [
    "##### Model Architecture"
   ]
  },
  {
   "cell_type": "code",
   "execution_count": 20,
   "metadata": {},
   "outputs": [],
   "source": [
    "import tensorflow as tf\n",
    "from tensorflow import keras\n",
    "\n",
    "\n",
    "# Define the model architecture\n",
    "model = keras.Sequential([\n",
    "    keras.layers.Input(shape=(num_features,)),\n",
    "    keras.layers.Dense(64, activation='relu'),\n",
    "    keras.layers.Dense(32, activation='relu'),\n",
    "    keras.layers.Dense(16, activation='relu'),\n",
    "    keras.layers.Dense(num_classes, activation='softmax')\n",
    "])"
   ]
  },
  {
   "cell_type": "markdown",
   "metadata": {},
   "source": [
    "##### Differential Privacy Model"
   ]
  },
  {
   "cell_type": "code",
   "execution_count": 22,
   "metadata": {},
   "outputs": [],
   "source": [
    "# Build a model with differential privacy\n",
    "model_dp = model\n",
    "\n",
    "# Build the DP-SGD Optimizer\n",
    "optimizer_dp = DPKerasSGDOptimizer(\n",
    "    l2_norm_clip=l2_norm_clip,\n",
    "    noise_multiplier=noise_multiplier,\n",
    "    num_microbatches=num_microbatches,\n",
    "    learning_rate=learning_rate\n",
    ")\n",
    "\n",
    "# Compile the model\n",
    "model_dp.compile(\n",
    "    optimizer=optimizer_dp,\n",
    "    loss='categorical_crossentropy',\n",
    "    metrics=['accuracy']\n",
    ")"
   ]
  },
  {
   "cell_type": "code",
   "execution_count": 23,
   "metadata": {},
   "outputs": [
    {
     "name": "stdout",
     "output_type": "stream",
     "text": [
      "Epoch 1/100\n",
      "5/5 [==============================] - 4s 111ms/step - loss: 0.7575 - accuracy: 0.7442 - val_loss: 0.5747 - val_accuracy: 0.8788\n",
      "Epoch 2/100\n",
      "5/5 [==============================] - 0s 27ms/step - loss: 0.7579 - accuracy: 0.7442 - val_loss: 0.5842 - val_accuracy: 0.8788\n",
      "Epoch 3/100\n",
      "5/5 [==============================] - 0s 26ms/step - loss: 0.7577 - accuracy: 0.7442 - val_loss: 0.5737 - val_accuracy: 0.8788\n",
      "Epoch 4/100\n",
      "5/5 [==============================] - 0s 26ms/step - loss: 0.7629 - accuracy: 0.7442 - val_loss: 0.5468 - val_accuracy: 0.8788\n",
      "Epoch 5/100\n",
      "5/5 [==============================] - 0s 25ms/step - loss: 0.7541 - accuracy: 0.7442 - val_loss: 0.5783 - val_accuracy: 0.8788\n",
      "Epoch 6/100\n",
      "5/5 [==============================] - 0s 25ms/step - loss: 0.7896 - accuracy: 0.7442 - val_loss: 0.5912 - val_accuracy: 0.8485\n",
      "Epoch 7/100\n",
      "5/5 [==============================] - 0s 25ms/step - loss: 0.7687 - accuracy: 0.7442 - val_loss: 0.5705 - val_accuracy: 0.8485\n",
      "Epoch 8/100\n",
      "5/5 [==============================] - 0s 26ms/step - loss: 0.7626 - accuracy: 0.7442 - val_loss: 0.5580 - val_accuracy: 0.8788\n",
      "Epoch 9/100\n",
      "5/5 [==============================] - 0s 25ms/step - loss: 0.7905 - accuracy: 0.7442 - val_loss: 0.5528 - val_accuracy: 0.8788\n",
      "Epoch 10/100\n",
      "5/5 [==============================] - 0s 26ms/step - loss: 0.7627 - accuracy: 0.7442 - val_loss: 0.5616 - val_accuracy: 0.8485\n",
      "Epoch 11/100\n",
      "5/5 [==============================] - 0s 32ms/step - loss: 0.7698 - accuracy: 0.7442 - val_loss: 0.5696 - val_accuracy: 0.8485\n",
      "Epoch 12/100\n",
      "5/5 [==============================] - 0s 34ms/step - loss: 0.7502 - accuracy: 0.7442 - val_loss: 0.5535 - val_accuracy: 0.8788\n",
      "Epoch 13/100\n",
      "5/5 [==============================] - 0s 26ms/step - loss: 0.7502 - accuracy: 0.7442 - val_loss: 0.5585 - val_accuracy: 0.8788\n",
      "Epoch 14/100\n",
      "5/5 [==============================] - 0s 29ms/step - loss: 0.7368 - accuracy: 0.7519 - val_loss: 0.5486 - val_accuracy: 0.8788\n",
      "Epoch 15/100\n",
      "5/5 [==============================] - 0s 28ms/step - loss: 0.7397 - accuracy: 0.7519 - val_loss: 0.5298 - val_accuracy: 0.8788\n",
      "Epoch 16/100\n",
      "5/5 [==============================] - 0s 29ms/step - loss: 0.7304 - accuracy: 0.7597 - val_loss: 0.5312 - val_accuracy: 0.8788\n",
      "Epoch 17/100\n",
      "5/5 [==============================] - 0s 28ms/step - loss: 0.7398 - accuracy: 0.7597 - val_loss: 0.5416 - val_accuracy: 0.8788\n",
      "Epoch 18/100\n",
      "5/5 [==============================] - 0s 28ms/step - loss: 0.7595 - accuracy: 0.7442 - val_loss: 0.5523 - val_accuracy: 0.8788\n",
      "Epoch 19/100\n",
      "5/5 [==============================] - 0s 26ms/step - loss: 0.7903 - accuracy: 0.7442 - val_loss: 0.5773 - val_accuracy: 0.8182\n",
      "Epoch 20/100\n",
      "5/5 [==============================] - 0s 23ms/step - loss: 0.7558 - accuracy: 0.7442 - val_loss: 0.5555 - val_accuracy: 0.8788\n",
      "Epoch 21/100\n",
      "5/5 [==============================] - 0s 25ms/step - loss: 0.7362 - accuracy: 0.7364 - val_loss: 0.5635 - val_accuracy: 0.8788\n",
      "Epoch 22/100\n",
      "5/5 [==============================] - 0s 25ms/step - loss: 0.7479 - accuracy: 0.7364 - val_loss: 0.5902 - val_accuracy: 0.8182\n",
      "Epoch 23/100\n",
      "5/5 [==============================] - 0s 23ms/step - loss: 0.7426 - accuracy: 0.7442 - val_loss: 0.6318 - val_accuracy: 0.8182\n",
      "Epoch 24/100\n",
      "5/5 [==============================] - 0s 30ms/step - loss: 0.7500 - accuracy: 0.7442 - val_loss: 0.6198 - val_accuracy: 0.8182\n",
      "Epoch 25/100\n",
      "5/5 [==============================] - 0s 30ms/step - loss: 0.7449 - accuracy: 0.7364 - val_loss: 0.6204 - val_accuracy: 0.8182\n",
      "Epoch 26/100\n",
      "5/5 [==============================] - 0s 35ms/step - loss: 0.7533 - accuracy: 0.7442 - val_loss: 0.6251 - val_accuracy: 0.8182\n",
      "Epoch 27/100\n",
      "5/5 [==============================] - 0s 27ms/step - loss: 0.7714 - accuracy: 0.7442 - val_loss: 0.6051 - val_accuracy: 0.8182\n",
      "Epoch 28/100\n",
      "5/5 [==============================] - 0s 23ms/step - loss: 0.7835 - accuracy: 0.7364 - val_loss: 0.5662 - val_accuracy: 0.8788\n",
      "Epoch 29/100\n",
      "5/5 [==============================] - 0s 21ms/step - loss: 0.7600 - accuracy: 0.7364 - val_loss: 0.5318 - val_accuracy: 0.8788\n",
      "Epoch 30/100\n",
      "5/5 [==============================] - 0s 25ms/step - loss: 0.7629 - accuracy: 0.7442 - val_loss: 0.5404 - val_accuracy: 0.8788\n",
      "Epoch 31/100\n",
      "5/5 [==============================] - 0s 22ms/step - loss: 0.7750 - accuracy: 0.7364 - val_loss: 0.5603 - val_accuracy: 0.8788\n",
      "Epoch 32/100\n",
      "5/5 [==============================] - 0s 31ms/step - loss: 0.7776 - accuracy: 0.7364 - val_loss: 0.5459 - val_accuracy: 0.8788\n",
      "Epoch 33/100\n",
      "5/5 [==============================] - 0s 54ms/step - loss: 0.7629 - accuracy: 0.7364 - val_loss: 0.5885 - val_accuracy: 0.8182\n",
      "Epoch 34/100\n",
      "5/5 [==============================] - 0s 28ms/step - loss: 0.7712 - accuracy: 0.7287 - val_loss: 0.6200 - val_accuracy: 0.8182\n",
      "Epoch 35/100\n",
      "5/5 [==============================] - 0s 28ms/step - loss: 0.7872 - accuracy: 0.7287 - val_loss: 0.5770 - val_accuracy: 0.8788\n",
      "Epoch 36/100\n",
      "5/5 [==============================] - 0s 26ms/step - loss: 0.7560 - accuracy: 0.7442 - val_loss: 0.5706 - val_accuracy: 0.8788\n",
      "Epoch 37/100\n",
      "5/5 [==============================] - 0s 26ms/step - loss: 0.7446 - accuracy: 0.7442 - val_loss: 0.5975 - val_accuracy: 0.8182\n",
      "Epoch 38/100\n",
      "5/5 [==============================] - 0s 26ms/step - loss: 0.7494 - accuracy: 0.7364 - val_loss: 0.5945 - val_accuracy: 0.8788\n",
      "Epoch 39/100\n",
      "5/5 [==============================] - 0s 26ms/step - loss: 0.7239 - accuracy: 0.7442 - val_loss: 0.6023 - val_accuracy: 0.8182\n",
      "Epoch 40/100\n",
      "5/5 [==============================] - 0s 24ms/step - loss: 0.7196 - accuracy: 0.7442 - val_loss: 0.5952 - val_accuracy: 0.8182\n",
      "Epoch 41/100\n",
      "5/5 [==============================] - 0s 23ms/step - loss: 0.7253 - accuracy: 0.7442 - val_loss: 0.5859 - val_accuracy: 0.8788\n",
      "Epoch 42/100\n",
      "5/5 [==============================] - 0s 23ms/step - loss: 0.7215 - accuracy: 0.7519 - val_loss: 0.5987 - val_accuracy: 0.8182\n",
      "Epoch 43/100\n",
      "5/5 [==============================] - 0s 26ms/step - loss: 0.7308 - accuracy: 0.7442 - val_loss: 0.5660 - val_accuracy: 0.8788\n",
      "Epoch 44/100\n",
      "5/5 [==============================] - 0s 22ms/step - loss: 0.7224 - accuracy: 0.7597 - val_loss: 0.5593 - val_accuracy: 0.8788\n",
      "Epoch 45/100\n",
      "5/5 [==============================] - 0s 23ms/step - loss: 0.7236 - accuracy: 0.7674 - val_loss: 0.5904 - val_accuracy: 0.8788\n",
      "Epoch 46/100\n",
      "5/5 [==============================] - 0s 23ms/step - loss: 0.7203 - accuracy: 0.7674 - val_loss: 0.5999 - val_accuracy: 0.8788\n",
      "Epoch 47/100\n",
      "5/5 [==============================] - 0s 24ms/step - loss: 0.7122 - accuracy: 0.7597 - val_loss: 0.5610 - val_accuracy: 0.8788\n",
      "Epoch 48/100\n",
      "5/5 [==============================] - 0s 21ms/step - loss: 0.7235 - accuracy: 0.7519 - val_loss: 0.5528 - val_accuracy: 0.8788\n",
      "Epoch 49/100\n",
      "5/5 [==============================] - 0s 21ms/step - loss: 0.7172 - accuracy: 0.7519 - val_loss: 0.5569 - val_accuracy: 0.8788\n",
      "Epoch 50/100\n",
      "5/5 [==============================] - 0s 25ms/step - loss: 0.7227 - accuracy: 0.7519 - val_loss: 0.5756 - val_accuracy: 0.8788\n",
      "Epoch 51/100\n",
      "5/5 [==============================] - 0s 24ms/step - loss: 0.7163 - accuracy: 0.7519 - val_loss: 0.6032 - val_accuracy: 0.8788\n",
      "Epoch 52/100\n",
      "5/5 [==============================] - 0s 25ms/step - loss: 0.7149 - accuracy: 0.7597 - val_loss: 0.6477 - val_accuracy: 0.8182\n",
      "Epoch 53/100\n",
      "5/5 [==============================] - 0s 22ms/step - loss: 0.7122 - accuracy: 0.7907 - val_loss: 0.6601 - val_accuracy: 0.8182\n",
      "Epoch 54/100\n",
      "5/5 [==============================] - 0s 22ms/step - loss: 0.7096 - accuracy: 0.7752 - val_loss: 0.6373 - val_accuracy: 0.8182\n",
      "Epoch 55/100\n",
      "5/5 [==============================] - 0s 22ms/step - loss: 0.7063 - accuracy: 0.7674 - val_loss: 0.6357 - val_accuracy: 0.8182\n",
      "Epoch 56/100\n",
      "5/5 [==============================] - 0s 21ms/step - loss: 0.7130 - accuracy: 0.7519 - val_loss: 0.6167 - val_accuracy: 0.8182\n",
      "Epoch 57/100\n",
      "5/5 [==============================] - 0s 23ms/step - loss: 0.7134 - accuracy: 0.7442 - val_loss: 0.6192 - val_accuracy: 0.8182\n",
      "Epoch 58/100\n",
      "5/5 [==============================] - 0s 22ms/step - loss: 0.7133 - accuracy: 0.7519 - val_loss: 0.6007 - val_accuracy: 0.8485\n",
      "Epoch 59/100\n",
      "5/5 [==============================] - 0s 21ms/step - loss: 0.7110 - accuracy: 0.7442 - val_loss: 0.5999 - val_accuracy: 0.8182\n",
      "Epoch 60/100\n",
      "5/5 [==============================] - 0s 22ms/step - loss: 0.7077 - accuracy: 0.7597 - val_loss: 0.6251 - val_accuracy: 0.8182\n",
      "Epoch 61/100\n",
      "5/5 [==============================] - 0s 21ms/step - loss: 0.7050 - accuracy: 0.7752 - val_loss: 0.6295 - val_accuracy: 0.8182\n",
      "Epoch 62/100\n",
      "5/5 [==============================] - 0s 24ms/step - loss: 0.7111 - accuracy: 0.7674 - val_loss: 0.6665 - val_accuracy: 0.7879\n",
      "Epoch 63/100\n",
      "5/5 [==============================] - 0s 23ms/step - loss: 0.7495 - accuracy: 0.7519 - val_loss: 0.6637 - val_accuracy: 0.7879\n",
      "Epoch 64/100\n",
      "5/5 [==============================] - 0s 23ms/step - loss: 0.7273 - accuracy: 0.7597 - val_loss: 0.6631 - val_accuracy: 0.7879\n",
      "Epoch 65/100\n",
      "5/5 [==============================] - 0s 33ms/step - loss: 0.7189 - accuracy: 0.7674 - val_loss: 0.6640 - val_accuracy: 0.7879\n",
      "Epoch 66/100\n",
      "5/5 [==============================] - 0s 24ms/step - loss: 0.7160 - accuracy: 0.7519 - val_loss: 0.6554 - val_accuracy: 0.7879\n",
      "Epoch 67/100\n",
      "5/5 [==============================] - 0s 26ms/step - loss: 0.7181 - accuracy: 0.7442 - val_loss: 0.6438 - val_accuracy: 0.7879\n",
      "Epoch 68/100\n",
      "5/5 [==============================] - 0s 29ms/step - loss: 0.7188 - accuracy: 0.7674 - val_loss: 0.6669 - val_accuracy: 0.7879\n",
      "Epoch 69/100\n",
      "5/5 [==============================] - 0s 25ms/step - loss: 0.7226 - accuracy: 0.7597 - val_loss: 0.6531 - val_accuracy: 0.7879\n",
      "Epoch 70/100\n",
      "5/5 [==============================] - 0s 23ms/step - loss: 0.7334 - accuracy: 0.7597 - val_loss: 0.6164 - val_accuracy: 0.7879\n",
      "Epoch 71/100\n",
      "5/5 [==============================] - 0s 21ms/step - loss: 0.7286 - accuracy: 0.7597 - val_loss: 0.6572 - val_accuracy: 0.7879\n",
      "Epoch 72/100\n",
      "5/5 [==============================] - 0s 24ms/step - loss: 0.7297 - accuracy: 0.7519 - val_loss: 0.6810 - val_accuracy: 0.7879\n",
      "Epoch 73/100\n",
      "5/5 [==============================] - 0s 24ms/step - loss: 0.7194 - accuracy: 0.7674 - val_loss: 0.6373 - val_accuracy: 0.8182\n",
      "Epoch 74/100\n",
      "5/5 [==============================] - 0s 30ms/step - loss: 0.7149 - accuracy: 0.7519 - val_loss: 0.6633 - val_accuracy: 0.8182\n",
      "Epoch 75/100\n",
      "5/5 [==============================] - 0s 27ms/step - loss: 0.7462 - accuracy: 0.7674 - val_loss: 0.6805 - val_accuracy: 0.7879\n",
      "Epoch 76/100\n",
      "5/5 [==============================] - 0s 27ms/step - loss: 0.7370 - accuracy: 0.7674 - val_loss: 0.6332 - val_accuracy: 0.8182\n",
      "Epoch 77/100\n",
      "5/5 [==============================] - 0s 21ms/step - loss: 0.7494 - accuracy: 0.7674 - val_loss: 0.6311 - val_accuracy: 0.8182\n",
      "Epoch 78/100\n",
      "5/5 [==============================] - 0s 25ms/step - loss: 0.7446 - accuracy: 0.7674 - val_loss: 0.6263 - val_accuracy: 0.7879\n",
      "Epoch 79/100\n",
      "5/5 [==============================] - 0s 20ms/step - loss: 0.7383 - accuracy: 0.7674 - val_loss: 0.6054 - val_accuracy: 0.8182\n",
      "Epoch 80/100\n",
      "5/5 [==============================] - 0s 21ms/step - loss: 0.7396 - accuracy: 0.7674 - val_loss: 0.6585 - val_accuracy: 0.8182\n",
      "Epoch 81/100\n",
      "5/5 [==============================] - 0s 19ms/step - loss: 0.7259 - accuracy: 0.7674 - val_loss: 0.6266 - val_accuracy: 0.8182\n",
      "Epoch 82/100\n",
      "5/5 [==============================] - 0s 20ms/step - loss: 0.7424 - accuracy: 0.7674 - val_loss: 0.6558 - val_accuracy: 0.7879\n",
      "Epoch 83/100\n",
      "5/5 [==============================] - 0s 20ms/step - loss: 0.7193 - accuracy: 0.7674 - val_loss: 0.6605 - val_accuracy: 0.7879\n",
      "Epoch 84/100\n",
      "5/5 [==============================] - 0s 20ms/step - loss: 0.7236 - accuracy: 0.7674 - val_loss: 0.6740 - val_accuracy: 0.7879\n",
      "Epoch 85/100\n",
      "5/5 [==============================] - 0s 19ms/step - loss: 0.7444 - accuracy: 0.7519 - val_loss: 0.7034 - val_accuracy: 0.7879\n",
      "Epoch 86/100\n",
      "5/5 [==============================] - 0s 19ms/step - loss: 0.7114 - accuracy: 0.7519 - val_loss: 0.6446 - val_accuracy: 0.8182\n",
      "Epoch 87/100\n",
      "5/5 [==============================] - 0s 44ms/step - loss: 0.7074 - accuracy: 0.7519 - val_loss: 0.6765 - val_accuracy: 0.8182\n",
      "Epoch 88/100\n",
      "5/5 [==============================] - 0s 20ms/step - loss: 0.6866 - accuracy: 0.7597 - val_loss: 0.6829 - val_accuracy: 0.8182\n",
      "Epoch 89/100\n",
      "5/5 [==============================] - 0s 21ms/step - loss: 0.6817 - accuracy: 0.7752 - val_loss: 0.6972 - val_accuracy: 0.7879\n",
      "Epoch 90/100\n",
      "5/5 [==============================] - 0s 22ms/step - loss: 0.6868 - accuracy: 0.7674 - val_loss: 0.6478 - val_accuracy: 0.8182\n",
      "Epoch 91/100\n",
      "5/5 [==============================] - 0s 20ms/step - loss: 0.7010 - accuracy: 0.7674 - val_loss: 0.6239 - val_accuracy: 0.8182\n",
      "Epoch 92/100\n",
      "5/5 [==============================] - 0s 21ms/step - loss: 0.7166 - accuracy: 0.7597 - val_loss: 0.6259 - val_accuracy: 0.8485\n",
      "Epoch 93/100\n",
      "5/5 [==============================] - 0s 19ms/step - loss: 0.6977 - accuracy: 0.7519 - val_loss: 0.6907 - val_accuracy: 0.7879\n",
      "Epoch 94/100\n",
      "5/5 [==============================] - 0s 21ms/step - loss: 0.7044 - accuracy: 0.7674 - val_loss: 0.6819 - val_accuracy: 0.7879\n",
      "Epoch 95/100\n",
      "5/5 [==============================] - 0s 25ms/step - loss: 0.7158 - accuracy: 0.7442 - val_loss: 0.6877 - val_accuracy: 0.7879\n",
      "Epoch 96/100\n",
      "5/5 [==============================] - 0s 27ms/step - loss: 0.6949 - accuracy: 0.7597 - val_loss: 0.6691 - val_accuracy: 0.7879\n",
      "Epoch 97/100\n",
      "5/5 [==============================] - 0s 23ms/step - loss: 0.6987 - accuracy: 0.7597 - val_loss: 0.6810 - val_accuracy: 0.7879\n",
      "Epoch 98/100\n",
      "5/5 [==============================] - 0s 21ms/step - loss: 0.6969 - accuracy: 0.7597 - val_loss: 0.7081 - val_accuracy: 0.7879\n",
      "Epoch 99/100\n",
      "5/5 [==============================] - 0s 21ms/step - loss: 0.7261 - accuracy: 0.7442 - val_loss: 0.7343 - val_accuracy: 0.7879\n",
      "Epoch 100/100\n",
      "5/5 [==============================] - 0s 20ms/step - loss: 0.7118 - accuracy: 0.7597 - val_loss: 0.6558 - val_accuracy: 0.8182\n"
     ]
    }
   ],
   "source": [
    "# Train the model\n",
    "history = model_dp.fit(\n",
    "    X_train_scaled, y_train_cat,\n",
    "    epochs=100,\n",
    "    batch_size=32,\n",
    "    validation_split=0.2,\n",
    "    verbose=1\n",
    ")"
   ]
  },
  {
   "cell_type": "markdown",
   "metadata": {},
   "source": [
    "##### Non-Differential Privacy Model"
   ]
  },
  {
   "cell_type": "code",
   "execution_count": 13,
   "metadata": {},
   "outputs": [
    {
     "name": "stdout",
     "output_type": "stream",
     "text": [
      "Epoch 1/10\n"
     ]
    },
    {
     "name": "stderr",
     "output_type": "stream",
     "text": [
      "c:\\MONASH\\Y3S2\\FIT3164\\repo\\MDS14\\.venv\\Lib\\site-packages\\keras\\src\\backend.py:5727: UserWarning: \"`sparse_categorical_crossentropy` received `from_logits=True`, but the `output` argument was produced by a Softmax activation and thus does not represent logits. Was this intended?\n",
      "  output, from_logits = _get_logits(\n"
     ]
    },
    {
     "name": "stdout",
     "output_type": "stream",
     "text": [
      "4/4 [==============================] - 1s 79ms/step - loss: 0.9976 - accuracy: 0.7477 - val_loss: 0.9142 - val_accuracy: 0.7477\n",
      "Epoch 2/10\n",
      "4/4 [==============================] - 0s 20ms/step - loss: 0.8618 - accuracy: 0.7477 - val_loss: 0.8698 - val_accuracy: 0.7477\n"
     ]
    },
    {
     "name": "stderr",
     "output_type": "stream",
     "text": [
      "c:\\MONASH\\Y3S2\\FIT3164\\repo\\MDS14\\.venv\\Lib\\site-packages\\keras\\src\\backend.py:5727: UserWarning: \"`sparse_categorical_crossentropy` received `from_logits=True`, but the `output` argument was produced by a Softmax activation and thus does not represent logits. Was this intended?\n",
      "  output, from_logits = _get_logits(\n"
     ]
    },
    {
     "name": "stdout",
     "output_type": "stream",
     "text": [
      "Epoch 3/10\n",
      "4/4 [==============================] - 0s 22ms/step - loss: 0.9042 - accuracy: 0.7477 - val_loss: 0.8240 - val_accuracy: 0.7477\n",
      "Epoch 4/10\n",
      "4/4 [==============================] - 0s 20ms/step - loss: 0.8530 - accuracy: 0.7477 - val_loss: 0.8421 - val_accuracy: 0.7477\n",
      "Epoch 5/10\n",
      "4/4 [==============================] - 0s 22ms/step - loss: 0.8419 - accuracy: 0.7477 - val_loss: 0.8354 - val_accuracy: 0.7477\n",
      "Epoch 6/10\n",
      "4/4 [==============================] - 0s 25ms/step - loss: 0.8570 - accuracy: 0.7477 - val_loss: 0.8169 - val_accuracy: 0.7477\n",
      "Epoch 7/10\n",
      "4/4 [==============================] - 0s 21ms/step - loss: 0.8081 - accuracy: 0.7477 - val_loss: 0.8361 - val_accuracy: 0.7477\n",
      "Epoch 8/10\n",
      "4/4 [==============================] - 0s 19ms/step - loss: 0.8319 - accuracy: 0.7477 - val_loss: 0.8129 - val_accuracy: 0.7477\n",
      "Epoch 9/10\n",
      "4/4 [==============================] - 0s 21ms/step - loss: 0.8095 - accuracy: 0.7477 - val_loss: 0.8077 - val_accuracy: 0.7477\n",
      "Epoch 10/10\n",
      "4/4 [==============================] - 0s 18ms/step - loss: 0.7885 - accuracy: 0.7477 - val_loss: 0.7950 - val_accuracy: 0.7477\n"
     ]
    },
    {
     "data": {
      "text/plain": [
       "<keras.src.callbacks.History at 0x1cea8c7dad0>"
      ]
     },
     "execution_count": 13,
     "metadata": {},
     "output_type": "execute_result"
    }
   ],
   "source": [
    "from keras.optimizers import SGD\n",
    "\n",
    "# Define the model\n",
    "model = tf.keras.Sequential([\n",
    "    tf.keras.layers.Dense(64, activation='relu', input_shape=(4,)),\n",
    "    tf.keras.layers.Dense(32, activation='relu'),\n",
    "    tf.keras.layers.Dense(len(label_encoder.classes_), activation='softmax')\n",
    "])\n",
    "\n",
    "optimizer_dp = DPKerasSGDOptimizer(\n",
    "    l2_norm_clip=l2_norm_clip,\n",
    "    noise_multiplier=noise_multiplier,\n",
    "    num_microbatches=num_microbatches,\n",
    "    learning_rate=learning_rate\n",
    ")\n",
    "\n",
    "loss_dp = tf.keras.losses.SparseCategoricalCrossentropy(from_logits=True, reduction=tf.losses.Reduction.NONE)\n",
    "\n",
    "model_dp.compile(optimizer=SGD(learning_rate=0.01, momentum=0.9), loss=loss_dp, metrics=['accuracy'])\n",
    "\n",
    "# Train the DP model\n",
    "model_dp.fit(X_train, y_train, epochs=10, validation_data=(X_train, y_train), batch_size=32)"
   ]
  },
  {
   "cell_type": "markdown",
   "metadata": {},
   "source": [
    "#### Measuring the differential privacy guarantee"
   ]
  },
  {
   "cell_type": "code",
   "execution_count": 28,
   "metadata": {},
   "outputs": [
    {
     "name": "stderr",
     "output_type": "stream",
     "text": [
      "WARNING:absl:`compute_dp_sgd_privacy` is deprecated. It does not account for doubling of sensitivity with microbatching, and assumes Poisson subsampling, which is rarely used in practice. Please use `compute_dp_sgd_privacy_statement`, which provides appropriate context for the guarantee. To compute epsilon under different assumptions than those in `compute_dp_sgd_privacy_statement`, call the `dp_accounting` libraries directly.\n"
     ]
    },
    {
     "name": "stdout",
     "output_type": "stream",
     "text": [
      "Epsilon: 11.593025381592284\n",
      "Best alpha: 2.5\n"
     ]
    }
   ],
   "source": [
    "from tensorflow_privacy.privacy.analysis import compute_dp_sgd_privacy_lib\n",
    "\n",
    "epsilon, best_alpha = compute_dp_sgd_privacy_lib.compute_dp_sgd_privacy(\n",
    "    n=X_train.shape[0],\n",
    "    batch_size=batch_size,\n",
    "    noise_multiplier=noise_multiplier,\n",
    "    epochs=epochs,\n",
    "    delta=1e-5\n",
    ")\n",
    "\n",
    "print(f\"Epsilon: {epsilon}\")\n",
    "print(f\"Best alpha: {best_alpha}\")"
   ]
  },
  {
   "cell_type": "markdown",
   "metadata": {},
   "source": [
    "#### Define Callback for Privacy Metrics"
   ]
  },
  {
   "cell_type": "code",
   "execution_count": 14,
   "metadata": {},
   "outputs": [],
   "source": [
    "class PrivacyMetrics(tf.keras.callbacks.Callback):\n",
    "    def __init__(self, epochs_per_report, model_name):\n",
    "        self.epochs_per_report = epochs_per_report\n",
    "        self.model_name = model_name\n",
    "        self.attack_results = []\n",
    "\n",
    "    def on_epoch_end(self, epoch, logs=None):\n",
    "        if (epoch + 1) % self.epochs_per_report != 0:\n",
    "            return\n",
    "\n",
    "        logits_train = self.model.predict(X_train, batch_size=batch_size)\n",
    "        logits_test = self.model.predict(X_test, batch_size=batch_size)\n",
    "\n",
    "        prob_train = tf.nn.softmax(logits_train, axis=1)\n",
    "        prob_test = tf.nn.softmax(logits_test, axis=1)\n",
    "\n",
    "        privacy_report_metadata = PrivacyReportMetadata(\n",
    "            accuracy_train=logs['accuracy'],\n",
    "            accuracy_test=logs['val_accuracy'],\n",
    "            epoch_num=epoch + 1,\n",
    "            model_variant_label=self.model_name\n",
    "        )\n",
    "\n",
    "        attack_results = mia.run_attacks(\n",
    "            AttackInputData(\n",
    "                labels_train=y_train,\n",
    "                labels_test=y_test,\n",
    "                probs_train=prob_train,\n",
    "                probs_test=prob_test\n",
    "            ),\n",
    "            SlicingSpec(entire_dataset=True, by_class=True),\n",
    "            attack_types=(AttackType.THRESHOLD_ATTACK, AttackType.LOGISTIC_REGRESSION),\n",
    "            privacy_report_metadata=privacy_report_metadata\n",
    "        )\n",
    "\n",
    "        self.attack_results.append(attack_results)"
   ]
  },
  {
   "cell_type": "markdown",
   "metadata": {},
   "source": [
    "#### Train Model and Collect Privacy Metrics"
   ]
  },
  {
   "cell_type": "code",
   "execution_count": 15,
   "metadata": {},
   "outputs": [
    {
     "name": "stdout",
     "output_type": "stream",
     "text": [
      "Epoch 1/10\n",
      "4/4 [==============================] - 0s 33ms/step - loss: 0.7836 - accuracy: 0.7477 - val_loss: 1.0185 - val_accuracy: 0.6071\n",
      "Epoch 2/10\n",
      "4/4 [==============================] - 0s 2ms/steposs: 0.5385 - accuracy: 0.87\n",
      "1/1 [==============================] - 0s 24ms/step\n"
     ]
    },
    {
     "ename": "ValueError",
     "evalue": "probs_train should be a numpy array.",
     "output_type": "error",
     "traceback": [
      "\u001b[1;31m---------------------------------------------------------------------------\u001b[0m",
      "\u001b[1;31mValueError\u001b[0m                                Traceback (most recent call last)",
      "Cell \u001b[1;32mIn[15], line 2\u001b[0m\n\u001b[0;32m      1\u001b[0m callback \u001b[38;5;241m=\u001b[39m PrivacyMetrics(epochs_per_report\u001b[38;5;241m=\u001b[39m\u001b[38;5;241m2\u001b[39m, model_name\u001b[38;5;241m=\u001b[39m\u001b[38;5;124m\"\u001b[39m\u001b[38;5;124mDP Model\u001b[39m\u001b[38;5;124m\"\u001b[39m)\n\u001b[1;32m----> 2\u001b[0m history \u001b[38;5;241m=\u001b[39m \u001b[43mmodel_dp\u001b[49m\u001b[38;5;241;43m.\u001b[39;49m\u001b[43mfit\u001b[49m\u001b[43m(\u001b[49m\n\u001b[0;32m      3\u001b[0m \u001b[43m    \u001b[49m\u001b[43mX_train\u001b[49m\u001b[43m,\u001b[49m\u001b[43m \u001b[49m\u001b[43my_train\u001b[49m\u001b[43m,\u001b[49m\n\u001b[0;32m      4\u001b[0m \u001b[43m    \u001b[49m\u001b[43mepochs\u001b[49m\u001b[38;5;241;43m=\u001b[39;49m\u001b[43mepochs\u001b[49m\u001b[43m,\u001b[49m\n\u001b[0;32m      5\u001b[0m \u001b[43m    \u001b[49m\u001b[43mvalidation_data\u001b[49m\u001b[38;5;241;43m=\u001b[39;49m\u001b[43m(\u001b[49m\u001b[43mX_test\u001b[49m\u001b[43m,\u001b[49m\u001b[43m \u001b[49m\u001b[43my_test\u001b[49m\u001b[43m)\u001b[49m\u001b[43m,\u001b[49m\n\u001b[0;32m      6\u001b[0m \u001b[43m    \u001b[49m\u001b[43mbatch_size\u001b[49m\u001b[38;5;241;43m=\u001b[39;49m\u001b[43mbatch_size\u001b[49m\u001b[43m,\u001b[49m\n\u001b[0;32m      7\u001b[0m \u001b[43m    \u001b[49m\u001b[43mcallbacks\u001b[49m\u001b[38;5;241;43m=\u001b[39;49m\u001b[43m[\u001b[49m\u001b[43mcallback\u001b[49m\u001b[43m]\u001b[49m\n\u001b[0;32m      8\u001b[0m \u001b[43m)\u001b[49m\n",
      "File \u001b[1;32mc:\\MONASH\\Y3S2\\FIT3164\\repo\\MDS14\\.venv\\Lib\\site-packages\\keras\\src\\utils\\traceback_utils.py:70\u001b[0m, in \u001b[0;36mfilter_traceback.<locals>.error_handler\u001b[1;34m(*args, **kwargs)\u001b[0m\n\u001b[0;32m     67\u001b[0m     filtered_tb \u001b[38;5;241m=\u001b[39m _process_traceback_frames(e\u001b[38;5;241m.\u001b[39m__traceback__)\n\u001b[0;32m     68\u001b[0m     \u001b[38;5;66;03m# To get the full stack trace, call:\u001b[39;00m\n\u001b[0;32m     69\u001b[0m     \u001b[38;5;66;03m# `tf.debugging.disable_traceback_filtering()`\u001b[39;00m\n\u001b[1;32m---> 70\u001b[0m     \u001b[38;5;28;01mraise\u001b[39;00m e\u001b[38;5;241m.\u001b[39mwith_traceback(filtered_tb) \u001b[38;5;28;01mfrom\u001b[39;00m \u001b[38;5;28;01mNone\u001b[39;00m\n\u001b[0;32m     71\u001b[0m \u001b[38;5;28;01mfinally\u001b[39;00m:\n\u001b[0;32m     72\u001b[0m     \u001b[38;5;28;01mdel\u001b[39;00m filtered_tb\n",
      "Cell \u001b[1;32mIn[14], line 24\u001b[0m, in \u001b[0;36mPrivacyMetrics.on_epoch_end\u001b[1;34m(self, epoch, logs)\u001b[0m\n\u001b[0;32m     15\u001b[0m prob_test \u001b[38;5;241m=\u001b[39m tf\u001b[38;5;241m.\u001b[39mnn\u001b[38;5;241m.\u001b[39msoftmax(logits_test, axis\u001b[38;5;241m=\u001b[39m\u001b[38;5;241m1\u001b[39m)\n\u001b[0;32m     17\u001b[0m privacy_report_metadata \u001b[38;5;241m=\u001b[39m PrivacyReportMetadata(\n\u001b[0;32m     18\u001b[0m     accuracy_train\u001b[38;5;241m=\u001b[39mlogs[\u001b[38;5;124m'\u001b[39m\u001b[38;5;124maccuracy\u001b[39m\u001b[38;5;124m'\u001b[39m],\n\u001b[0;32m     19\u001b[0m     accuracy_test\u001b[38;5;241m=\u001b[39mlogs[\u001b[38;5;124m'\u001b[39m\u001b[38;5;124mval_accuracy\u001b[39m\u001b[38;5;124m'\u001b[39m],\n\u001b[0;32m     20\u001b[0m     epoch_num\u001b[38;5;241m=\u001b[39mepoch \u001b[38;5;241m+\u001b[39m \u001b[38;5;241m1\u001b[39m,\n\u001b[0;32m     21\u001b[0m     model_variant_label\u001b[38;5;241m=\u001b[39m\u001b[38;5;28mself\u001b[39m\u001b[38;5;241m.\u001b[39mmodel_name\n\u001b[0;32m     22\u001b[0m )\n\u001b[1;32m---> 24\u001b[0m attack_results \u001b[38;5;241m=\u001b[39m \u001b[43mmia\u001b[49m\u001b[38;5;241;43m.\u001b[39;49m\u001b[43mrun_attacks\u001b[49m\u001b[43m(\u001b[49m\n\u001b[0;32m     25\u001b[0m \u001b[43m    \u001b[49m\u001b[43mAttackInputData\u001b[49m\u001b[43m(\u001b[49m\n\u001b[0;32m     26\u001b[0m \u001b[43m        \u001b[49m\u001b[43mlabels_train\u001b[49m\u001b[38;5;241;43m=\u001b[39;49m\u001b[43my_train\u001b[49m\u001b[43m,\u001b[49m\n\u001b[0;32m     27\u001b[0m \u001b[43m        \u001b[49m\u001b[43mlabels_test\u001b[49m\u001b[38;5;241;43m=\u001b[39;49m\u001b[43my_test\u001b[49m\u001b[43m,\u001b[49m\n\u001b[0;32m     28\u001b[0m \u001b[43m        \u001b[49m\u001b[43mprobs_train\u001b[49m\u001b[38;5;241;43m=\u001b[39;49m\u001b[43mprob_train\u001b[49m\u001b[43m,\u001b[49m\n\u001b[0;32m     29\u001b[0m \u001b[43m        \u001b[49m\u001b[43mprobs_test\u001b[49m\u001b[38;5;241;43m=\u001b[39;49m\u001b[43mprob_test\u001b[49m\n\u001b[0;32m     30\u001b[0m \u001b[43m    \u001b[49m\u001b[43m)\u001b[49m\u001b[43m,\u001b[49m\n\u001b[0;32m     31\u001b[0m \u001b[43m    \u001b[49m\u001b[43mSlicingSpec\u001b[49m\u001b[43m(\u001b[49m\u001b[43mentire_dataset\u001b[49m\u001b[38;5;241;43m=\u001b[39;49m\u001b[38;5;28;43;01mTrue\u001b[39;49;00m\u001b[43m,\u001b[49m\u001b[43m \u001b[49m\u001b[43mby_class\u001b[49m\u001b[38;5;241;43m=\u001b[39;49m\u001b[38;5;28;43;01mTrue\u001b[39;49;00m\u001b[43m)\u001b[49m\u001b[43m,\u001b[49m\n\u001b[0;32m     32\u001b[0m \u001b[43m    \u001b[49m\u001b[43mattack_types\u001b[49m\u001b[38;5;241;43m=\u001b[39;49m\u001b[43m(\u001b[49m\u001b[43mAttackType\u001b[49m\u001b[38;5;241;43m.\u001b[39;49m\u001b[43mTHRESHOLD_ATTACK\u001b[49m\u001b[43m,\u001b[49m\u001b[43m \u001b[49m\u001b[43mAttackType\u001b[49m\u001b[38;5;241;43m.\u001b[39;49m\u001b[43mLOGISTIC_REGRESSION\u001b[49m\u001b[43m)\u001b[49m\u001b[43m,\u001b[49m\n\u001b[0;32m     33\u001b[0m \u001b[43m    \u001b[49m\u001b[43mprivacy_report_metadata\u001b[49m\u001b[38;5;241;43m=\u001b[39;49m\u001b[43mprivacy_report_metadata\u001b[49m\n\u001b[0;32m     34\u001b[0m \u001b[43m\u001b[49m\u001b[43m)\u001b[49m\n\u001b[0;32m     36\u001b[0m \u001b[38;5;28mself\u001b[39m\u001b[38;5;241m.\u001b[39mattack_results\u001b[38;5;241m.\u001b[39mappend(attack_results)\n",
      "File \u001b[1;32mc:\\MONASH\\Y3S2\\FIT3164\\repo\\MDS14\\.venv\\Lib\\site-packages\\tensorflow_privacy\\privacy\\privacy_tests\\membership_inference_attack\\membership_inference_attack.py:327\u001b[0m, in \u001b[0;36mrun_attacks\u001b[1;34m(attack_input, slicing_spec, attack_types, privacy_report_metadata, balance_attacker_training, min_num_samples, backend, return_slice_indices)\u001b[0m\n\u001b[0;32m    290\u001b[0m \u001b[38;5;28;01mdef\u001b[39;00m \u001b[38;5;21mrun_attacks\u001b[39m(\n\u001b[0;32m    291\u001b[0m     attack_input: AttackInputData,\n\u001b[0;32m    292\u001b[0m     slicing_spec: SlicingSpec \u001b[38;5;241m=\u001b[39m \u001b[38;5;28;01mNone\u001b[39;00m,\n\u001b[1;32m   (...)\u001b[0m\n\u001b[0;32m    298\u001b[0m     return_slice_indices\u001b[38;5;241m=\u001b[39m\u001b[38;5;28;01mFalse\u001b[39;00m,\n\u001b[0;32m    299\u001b[0m ) \u001b[38;5;241m-\u001b[39m\u001b[38;5;241m>\u001b[39m AttackResults:\n\u001b[0;32m    300\u001b[0m \u001b[38;5;250m  \u001b[39m\u001b[38;5;124;03m\"\"\"Runs membership inference attacks on a classification model.\u001b[39;00m\n\u001b[0;32m    301\u001b[0m \n\u001b[0;32m    302\u001b[0m \u001b[38;5;124;03m  It runs attacks specified by attack_types on each attack_input slice which is\u001b[39;00m\n\u001b[1;32m   (...)\u001b[0m\n\u001b[0;32m    325\u001b[0m \u001b[38;5;124;03m    the attack result.\u001b[39;00m\n\u001b[0;32m    326\u001b[0m \u001b[38;5;124;03m  \"\"\"\u001b[39;00m\n\u001b[1;32m--> 327\u001b[0m   \u001b[43mattack_input\u001b[49m\u001b[38;5;241;43m.\u001b[39;49m\u001b[43mvalidate\u001b[49m\u001b[43m(\u001b[49m\u001b[43m)\u001b[49m\n\u001b[0;32m    328\u001b[0m   attack_results \u001b[38;5;241m=\u001b[39m []\n\u001b[0;32m    329\u001b[0m   attack_types \u001b[38;5;241m=\u001b[39m \u001b[38;5;28mlist\u001b[39m(attack_types)\n",
      "File \u001b[1;32mc:\\MONASH\\Y3S2\\FIT3164\\repo\\MDS14\\.venv\\Lib\\site-packages\\tensorflow_privacy\\privacy\\privacy_tests\\membership_inference_attack\\data_structures.py:584\u001b[0m, in \u001b[0;36mAttackInputData.validate\u001b[1;34m(self)\u001b[0m\n\u001b[0;32m    582\u001b[0m _is_np_array(\u001b[38;5;28mself\u001b[39m\u001b[38;5;241m.\u001b[39mlogits_train, \u001b[38;5;124m'\u001b[39m\u001b[38;5;124mlogits_train\u001b[39m\u001b[38;5;124m'\u001b[39m)\n\u001b[0;32m    583\u001b[0m _is_np_array(\u001b[38;5;28mself\u001b[39m\u001b[38;5;241m.\u001b[39mlogits_test, \u001b[38;5;124m'\u001b[39m\u001b[38;5;124mlogits_test\u001b[39m\u001b[38;5;124m'\u001b[39m)\n\u001b[1;32m--> 584\u001b[0m \u001b[43m_is_np_array\u001b[49m\u001b[43m(\u001b[49m\u001b[38;5;28;43mself\u001b[39;49m\u001b[38;5;241;43m.\u001b[39;49m\u001b[43mprobs_train\u001b[49m\u001b[43m,\u001b[49m\u001b[43m \u001b[49m\u001b[38;5;124;43m'\u001b[39;49m\u001b[38;5;124;43mprobs_train\u001b[39;49m\u001b[38;5;124;43m'\u001b[39;49m\u001b[43m)\u001b[49m\n\u001b[0;32m    585\u001b[0m _is_np_array(\u001b[38;5;28mself\u001b[39m\u001b[38;5;241m.\u001b[39mprobs_test, \u001b[38;5;124m'\u001b[39m\u001b[38;5;124mprobs_test\u001b[39m\u001b[38;5;124m'\u001b[39m)\n\u001b[0;32m    586\u001b[0m _is_np_array(\u001b[38;5;28mself\u001b[39m\u001b[38;5;241m.\u001b[39mlabels_train, \u001b[38;5;124m'\u001b[39m\u001b[38;5;124mlabels_train\u001b[39m\u001b[38;5;124m'\u001b[39m)\n",
      "File \u001b[1;32mc:\\MONASH\\Y3S2\\FIT3164\\repo\\MDS14\\.venv\\Lib\\site-packages\\tensorflow_privacy\\privacy\\privacy_tests\\membership_inference_attack\\data_structures.py:238\u001b[0m, in \u001b[0;36m_is_np_array\u001b[1;34m(arr, arr_name)\u001b[0m\n\u001b[0;32m    236\u001b[0m \u001b[38;5;250m\u001b[39m\u001b[38;5;124;03m\"\"\"Checks whether array is a numpy array.\"\"\"\u001b[39;00m\n\u001b[0;32m    237\u001b[0m \u001b[38;5;28;01mif\u001b[39;00m arr \u001b[38;5;129;01mis\u001b[39;00m \u001b[38;5;129;01mnot\u001b[39;00m \u001b[38;5;28;01mNone\u001b[39;00m \u001b[38;5;129;01mand\u001b[39;00m \u001b[38;5;129;01mnot\u001b[39;00m \u001b[38;5;28misinstance\u001b[39m(arr, np\u001b[38;5;241m.\u001b[39mndarray):\n\u001b[1;32m--> 238\u001b[0m   \u001b[38;5;28;01mraise\u001b[39;00m \u001b[38;5;167;01mValueError\u001b[39;00m(\u001b[38;5;124m'\u001b[39m\u001b[38;5;132;01m%s\u001b[39;00m\u001b[38;5;124m should be a numpy array.\u001b[39m\u001b[38;5;124m'\u001b[39m \u001b[38;5;241m%\u001b[39m arr_name)\n",
      "\u001b[1;31mValueError\u001b[0m: probs_train should be a numpy array."
     ]
    }
   ],
   "source": [
    "callback = PrivacyMetrics(epochs_per_report=2, model_name=\"DP Model\")\n",
    "history = model_dp.fit(\n",
    "    X_train, y_train,\n",
    "    epochs=epochs,\n",
    "    validation_data=(X_test, y_test),\n",
    "    batch_size=batch_size,\n",
    "    callbacks=[callback]\n",
    ")"
   ]
  },
  {
   "cell_type": "markdown",
   "metadata": {},
   "source": [
    "#### Visualise Privacy Metrics"
   ]
  },
  {
   "cell_type": "code",
   "execution_count": null,
   "metadata": {},
   "outputs": [],
   "source": [
    "all_reports = callback.attack_results\n",
    "results = AttackResultsCollection(all_reports)"
   ]
  },
  {
   "cell_type": "markdown",
   "metadata": {},
   "source": [
    "##### Epoch Plots"
   ]
  },
  {
   "cell_type": "code",
   "execution_count": null,
   "metadata": {},
   "outputs": [],
   "source": [
    "privacy_metrics = (PrivacyMetric.AUC, PrivacyMetric.ATTACKER_ADVANTAGE)\n",
    "epoch_plot = privacy_report.plot_by_epochs(results, privacy_metrics=privacy_metrics)"
   ]
  },
  {
   "cell_type": "markdown",
   "metadata": {},
   "source": [
    "##### Privacy VS Utility Plots"
   ]
  },
  {
   "cell_type": "code",
   "execution_count": null,
   "metadata": {},
   "outputs": [],
   "source": [
    "utility_privacy_plot = privacy_report.plot_privacy_vs_accuracy(results, privacy_metrics=privacy_metrics)\n",
    "for axis in utility_privacy_plot.axes:\n",
    "    axis.set_xlabel('Validation accuracy')"
   ]
  }
 ],
 "metadata": {
  "kernelspec": {
   "display_name": "venv",
   "language": "python",
   "name": "python3"
  },
  "language_info": {
   "codemirror_mode": {
    "name": "ipython",
    "version": 3
   },
   "file_extension": ".py",
   "mimetype": "text/x-python",
   "name": "python",
   "nbconvert_exporter": "python",
   "pygments_lexer": "ipython3",
   "version": "3.11.8"
  }
 },
 "nbformat": 4,
 "nbformat_minor": 2
}
