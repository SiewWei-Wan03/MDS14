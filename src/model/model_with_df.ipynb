{
 "cells": [
  {
   "cell_type": "markdown",
   "metadata": {},
   "source": [
    "## Data Preprocessing"
   ]
  },
  {
   "cell_type": "code",
   "execution_count": 42,
   "metadata": {},
   "outputs": [],
   "source": [
    "import pandas as pd\n",
    "import numpy as np\n",
    "from sklearn.model_selection import train_test_split\n",
    "from sklearn.preprocessing import StandardScaler\n",
    "from tensorflow.keras.utils import to_categorical\n",
    "from sklearn.utils import resample\n",
    "\n",
    "# Load the dataset\n",
    "data = pd.read_csv('../data/patient_processed.csv')\n",
    "# Select the relevant columns\n",
    "features = data[['tanimoto', 'feature_jsim', 'feature_dsim', 'feature_osim']]\n",
    "labels = data['DDI']\n",
    "\n",
    "# Map DDI levels to the numeric values\n",
    "ddi_mapping = {'no interaction found': 0, 'minor': 1, 'moderate': 2, 'major': 3}\n",
    "labels = labels.map(ddi_mapping)\n",
    "\n",
    "# Handle missing values\n",
    "features = features.fillna(features.mean())\n",
    "\n",
    "# Split the data into training and testing\n",
    "X_train, X_test, y_train, y_test = train_test_split(\n",
    "    features, \n",
    "    labels, \n",
    "    test_size=0.2, \n",
    "    random_state=42\n",
    ")\n",
    "\n",
    "# Scale the input features\n",
    "scaler = StandardScaler()\n",
    "X_train_scaled = scaler.fit_transform(X_train)\n",
    "X_test_scaled = scaler.transform(X_test)\n",
    "\n",
    "# Convert the target variable to a categorical format\n",
    "num_classes = len(ddi_mapping)\n",
    "y_train_cat = to_categorical(y_train, num_classes)\n",
    "y_test_cat = to_categorical(y_test, num_classes)\n",
    "\n",
    "# Function for augmenting the data\n",
    "def augment_data(X, y, num_samples):\n",
    "    X_aug, y_aug = resample(X, y, n_samples=num_samples, random_state=42)\n",
    "    return X_aug, y_aug\n",
    "\n",
    "# Augment the training data\n",
    "X_train_aug, y_train_aug = augment_data(X_train_scaled, y_train_cat, len(X_train_scaled) * 2)\n",
    "\n",
    "# Combine original and augmented data\n",
    "X_train_combined = np.vstack((X_train_scaled, X_train_aug))\n",
    "y_train_combined = np.vstack((y_train_cat, y_train_aug))"
   ]
  },
  {
   "cell_type": "markdown",
   "metadata": {},
   "source": [
    "## Define Hyperparameters"
   ]
  },
  {
   "cell_type": "code",
   "execution_count": 43,
   "metadata": {},
   "outputs": [],
   "source": [
    "# Model Hypeparameters\n",
    "num_features = len(ddi_mapping)\n",
    "num_classes = X_train_scaled.shape[1]\n",
    "learning_rate = 0.001\n",
    "batch_size = 32\n",
    "epochs = 100\n",
    "momentum = 0.9\n",
    "\n",
    "# Privacy Hyperparameters\n",
    "l2_norm_clip = 1.0\n",
    "noise_multiplier = 1.1\n",
    "num_microbatches = 1"
   ]
  },
  {
   "cell_type": "markdown",
   "metadata": {},
   "source": [
    "## Build and Compile the Models"
   ]
  },
  {
   "cell_type": "markdown",
   "metadata": {},
   "source": [
    "### Model Architecture"
   ]
  },
  {
   "cell_type": "code",
   "execution_count": 87,
   "metadata": {},
   "outputs": [],
   "source": [
    "import tensorflow as tf\n",
    "from tensorflow import keras\n",
    "from tensorflow.keras import layers\n",
    "from tensorflow_privacy.privacy.optimizers.dp_optimizer_keras import DPKerasSGDOptimizer\n",
    "from keras.regularizers import l2\n",
    "\n",
    "def create_model(num_features, num_classes, noise_multiplier = 1.1, learning_rate = learning_rate, optimizer=None):\n",
    "    model = keras.Sequential([\n",
    "        keras.layers.Input(shape=(num_features,)),\n",
    "        keras.layers.Dense(128, activation='relu', kernel_regularizer=l2(0.01)),\n",
    "        #keras.layers.BatchNormalization(),\n",
    "        #keras.layers.Dropout(0.3),\n",
    "        keras.layers.Dense(64, activation='relu'),\n",
    "        keras.layers.Dense(32, activation='relu'),\n",
    "        keras.layers.Dense(16, activation='relu'),\n",
    "        keras.layers.Dense(num_classes, activation='softmax')\n",
    "    ])\n",
    "    \n",
    "    if optimizer is None: \n",
    "        optimizer = DPKerasSGDOptimizer(\n",
    "                l2_norm_clip=l2_norm_clip,\n",
    "                noise_multiplier=noise_multiplier,\n",
    "                num_microbatches=num_microbatches,\n",
    "                learning_rate=learning_rate\n",
    "            )\n",
    "    \n",
    "    model.compile(\n",
    "        optimizer = optimizer,\n",
    "        loss='categorical_crossentropy',\n",
    "        metrics=['accuracy']\n",
    "    )\n",
    "    \n",
    "    return model\n",
    "\n",
    "def create_model_2(num_features, num_classes, use_dp=True, noise_multiplier=1.1, l2_norm_clip=1.0, learning_rate=0.001):\n",
    "    inputs = keras.Input(shape=(num_features,))\n",
    "    \n",
    "    x = layers.Dense(128, activation='relu', kernel_regularizer=l2(0.01))(inputs)\n",
    "    #x = layers.BatchNormalization()(x)\n",
    "    #x = layers.LeakyReLU(alpha=0.1)(x)\n",
    "    #x = layers.Dropout(0.3)(x)\n",
    "    x = layers.Dense(num_features, activation='relu', kernel_regularizer=l2(0.01))(x)\n",
    "    #x = layers.BatchNormalization()(x)\n",
    "    #x = layers.LeakyReLU(alpha=0.1)(x)\n",
    "    x = layers.Add()([x, inputs])\n",
    "    \n",
    "    x = layers.Dense(64, activation='relu', kernel_regularizer=l2(0.01))(x)\n",
    "    #x = layers.BatchNormalization()(x)\n",
    "    #x = layers.LeakyReLU(alpha=0.1)(x)\n",
    "    #x = layers.Dropout(0.3)(x)\n",
    "    \n",
    "    x = layers.Dense(32, activation='relu', kernel_regularizer=l2(0.01))(x)\n",
    "    #x = layers.BatchNormalization()(x)\n",
    "    #x = layers.LeakyReLU(alpha=0.1)(x)\n",
    "    \n",
    "    \n",
    "    outputs = layers.Dense(num_classes, activation='softmax')(x)\n",
    "    \n",
    "    model = keras.Model(inputs=inputs, outputs=outputs)\n",
    "    \n",
    "    if use_dp:\n",
    "        optimizer = DPKerasSGDOptimizer(\n",
    "            l2_norm_clip=l2_norm_clip,\n",
    "            noise_multiplier=noise_multiplier,\n",
    "            num_microbatches=1,\n",
    "            learning_rate=learning_rate\n",
    "        )\n",
    "    else:\n",
    "        optimizer = keras.optimizers.SGD(learning_rate=learning_rate)\n",
    "    \n",
    "    model.compile(optimizer=optimizer, loss='categorical_crossentropy', metrics=['accuracy'])\n",
    "    \n",
    "    return model"
   ]
  },
  {
   "cell_type": "markdown",
   "metadata": {},
   "source": [
    "### Differential Privacy Model"
   ]
  },
  {
   "cell_type": "markdown",
   "metadata": {},
   "source": [
    "#### Model Training"
   ]
  },
  {
   "cell_type": "code",
   "execution_count": 90,
   "metadata": {},
   "outputs": [
    {
     "name": "stdout",
     "output_type": "stream",
     "text": [
      "Epoch 1/100\n",
      "13/13 [==============================] - 5s 44ms/step - loss: 2.0885 - accuracy: 0.1057 - val_loss: 2.1041 - val_accuracy: 0.1122 - lr: 0.0010\n",
      "Epoch 2/100\n",
      "13/13 [==============================] - 0s 12ms/step - loss: 2.0761 - accuracy: 0.1082 - val_loss: 2.0913 - val_accuracy: 0.1122 - lr: 0.0010\n",
      "Epoch 3/100\n",
      "13/13 [==============================] - 0s 12ms/step - loss: 2.0661 - accuracy: 0.1108 - val_loss: 2.0814 - val_accuracy: 0.1122 - lr: 0.0010\n",
      "Epoch 4/100\n",
      "13/13 [==============================] - 0s 13ms/step - loss: 2.0566 - accuracy: 0.2242 - val_loss: 2.0753 - val_accuracy: 0.2653 - lr: 0.0010\n",
      "Epoch 5/100\n",
      "13/13 [==============================] - 0s 13ms/step - loss: 2.0488 - accuracy: 0.3144 - val_loss: 2.0602 - val_accuracy: 0.3673 - lr: 0.0010\n",
      "Epoch 6/100\n",
      "13/13 [==============================] - 0s 13ms/step - loss: 2.0370 - accuracy: 0.3763 - val_loss: 2.0456 - val_accuracy: 0.4184 - lr: 0.0010\n",
      "Epoch 7/100\n",
      "13/13 [==============================] - 0s 12ms/step - loss: 2.0210 - accuracy: 0.5309 - val_loss: 2.0283 - val_accuracy: 0.5306 - lr: 0.0010\n",
      "Epoch 8/100\n",
      "13/13 [==============================] - 0s 13ms/step - loss: 2.0097 - accuracy: 0.5515 - val_loss: 2.0223 - val_accuracy: 0.5714 - lr: 0.0010\n",
      "Epoch 9/100\n",
      "13/13 [==============================] - 0s 13ms/step - loss: 2.0030 - accuracy: 0.6108 - val_loss: 2.0129 - val_accuracy: 0.6020 - lr: 0.0010\n",
      "Epoch 10/100\n",
      "13/13 [==============================] - 0s 14ms/step - loss: 1.9967 - accuracy: 0.6160 - val_loss: 2.0059 - val_accuracy: 0.5918 - lr: 0.0010\n",
      "Epoch 11/100\n",
      "13/13 [==============================] - 0s 14ms/step - loss: 1.9863 - accuracy: 0.6211 - val_loss: 1.9941 - val_accuracy: 0.6020 - lr: 0.0010\n",
      "Epoch 12/100\n",
      "13/13 [==============================] - 0s 14ms/step - loss: 1.9804 - accuracy: 0.6443 - val_loss: 1.9943 - val_accuracy: 0.6327 - lr: 0.0010\n",
      "Epoch 13/100\n",
      "13/13 [==============================] - 0s 13ms/step - loss: 1.9769 - accuracy: 0.6675 - val_loss: 1.9887 - val_accuracy: 0.6429 - lr: 0.0010\n",
      "Epoch 14/100\n",
      "13/13 [==============================] - 0s 13ms/step - loss: 1.9676 - accuracy: 0.6830 - val_loss: 1.9751 - val_accuracy: 0.6429 - lr: 0.0010\n",
      "Epoch 15/100\n",
      "13/13 [==============================] - 0s 14ms/step - loss: 1.9604 - accuracy: 0.6804 - val_loss: 1.9619 - val_accuracy: 0.6429 - lr: 0.0010\n",
      "Epoch 16/100\n",
      "13/13 [==============================] - 0s 13ms/step - loss: 1.9470 - accuracy: 0.6804 - val_loss: 1.9535 - val_accuracy: 0.6531 - lr: 0.0010\n",
      "Epoch 17/100\n",
      "13/13 [==============================] - 0s 13ms/step - loss: 1.9389 - accuracy: 0.6959 - val_loss: 1.9451 - val_accuracy: 0.6735 - lr: 0.0010\n",
      "Epoch 18/100\n",
      "13/13 [==============================] - 0s 12ms/step - loss: 1.9327 - accuracy: 0.7113 - val_loss: 1.9347 - val_accuracy: 0.6837 - lr: 0.0010\n",
      "Epoch 19/100\n",
      "13/13 [==============================] - 0s 12ms/step - loss: 1.9247 - accuracy: 0.7113 - val_loss: 1.9233 - val_accuracy: 0.6837 - lr: 0.0010\n",
      "Epoch 20/100\n",
      "13/13 [==============================] - 0s 12ms/step - loss: 1.9160 - accuracy: 0.7139 - val_loss: 1.9211 - val_accuracy: 0.7041 - lr: 0.0010\n",
      "Epoch 21/100\n",
      "13/13 [==============================] - 0s 12ms/step - loss: 1.9123 - accuracy: 0.7242 - val_loss: 1.9153 - val_accuracy: 0.7041 - lr: 0.0010\n",
      "Epoch 22/100\n",
      "13/13 [==============================] - 0s 12ms/step - loss: 1.9051 - accuracy: 0.7242 - val_loss: 1.9053 - val_accuracy: 0.7041 - lr: 0.0010\n",
      "Epoch 23/100\n",
      "13/13 [==============================] - 0s 12ms/step - loss: 1.8935 - accuracy: 0.7242 - val_loss: 1.8956 - val_accuracy: 0.7041 - lr: 0.0010\n",
      "Epoch 24/100\n",
      "13/13 [==============================] - 0s 12ms/step - loss: 1.8898 - accuracy: 0.7345 - val_loss: 1.8945 - val_accuracy: 0.7041 - lr: 0.0010\n",
      "Epoch 25/100\n",
      "13/13 [==============================] - 0s 12ms/step - loss: 1.8883 - accuracy: 0.7397 - val_loss: 1.8925 - val_accuracy: 0.7041 - lr: 0.0010\n",
      "Epoch 26/100\n",
      "13/13 [==============================] - 0s 12ms/step - loss: 1.8825 - accuracy: 0.7474 - val_loss: 1.8845 - val_accuracy: 0.7041 - lr: 0.0010\n",
      "Epoch 27/100\n",
      "13/13 [==============================] - 0s 12ms/step - loss: 1.8772 - accuracy: 0.7474 - val_loss: 1.8816 - val_accuracy: 0.7041 - lr: 0.0010\n",
      "Epoch 28/100\n",
      "13/13 [==============================] - 0s 11ms/step - loss: 1.8715 - accuracy: 0.7474 - val_loss: 1.8756 - val_accuracy: 0.7041 - lr: 0.0010\n",
      "Epoch 29/100\n",
      "13/13 [==============================] - 0s 12ms/step - loss: 1.8657 - accuracy: 0.7474 - val_loss: 1.8677 - val_accuracy: 0.7041 - lr: 0.0010\n",
      "Epoch 30/100\n",
      "13/13 [==============================] - 0s 12ms/step - loss: 1.8584 - accuracy: 0.7474 - val_loss: 1.8644 - val_accuracy: 0.7041 - lr: 0.0010\n",
      "Epoch 31/100\n",
      "13/13 [==============================] - 0s 12ms/step - loss: 1.8573 - accuracy: 0.7474 - val_loss: 1.8655 - val_accuracy: 0.7041 - lr: 0.0010\n",
      "Epoch 32/100\n",
      "13/13 [==============================] - 0s 13ms/step - loss: 1.8532 - accuracy: 0.7474 - val_loss: 1.8591 - val_accuracy: 0.7041 - lr: 0.0010\n",
      "Epoch 33/100\n",
      "13/13 [==============================] - 0s 12ms/step - loss: 1.8469 - accuracy: 0.7474 - val_loss: 1.8541 - val_accuracy: 0.7041 - lr: 0.0010\n",
      "Epoch 34/100\n",
      "13/13 [==============================] - 0s 12ms/step - loss: 1.8393 - accuracy: 0.7474 - val_loss: 1.8492 - val_accuracy: 0.7041 - lr: 0.0010\n",
      "Epoch 35/100\n",
      "13/13 [==============================] - 0s 11ms/step - loss: 1.8370 - accuracy: 0.7474 - val_loss: 1.8482 - val_accuracy: 0.7041 - lr: 0.0010\n",
      "Epoch 36/100\n",
      "13/13 [==============================] - 0s 11ms/step - loss: 1.8333 - accuracy: 0.7474 - val_loss: 1.8416 - val_accuracy: 0.7041 - lr: 0.0010\n",
      "Epoch 37/100\n",
      "13/13 [==============================] - 0s 12ms/step - loss: 1.8255 - accuracy: 0.7474 - val_loss: 1.8344 - val_accuracy: 0.7041 - lr: 0.0010\n",
      "Epoch 38/100\n",
      "13/13 [==============================] - 0s 19ms/step - loss: 1.8179 - accuracy: 0.7474 - val_loss: 1.8292 - val_accuracy: 0.7041 - lr: 0.0010\n",
      "Epoch 39/100\n",
      "13/13 [==============================] - 0s 11ms/step - loss: 1.8134 - accuracy: 0.7474 - val_loss: 1.8261 - val_accuracy: 0.7041 - lr: 0.0010\n",
      "Epoch 40/100\n",
      "13/13 [==============================] - 0s 11ms/step - loss: 1.8096 - accuracy: 0.7474 - val_loss: 1.8203 - val_accuracy: 0.7041 - lr: 0.0010\n",
      "Epoch 41/100\n",
      "13/13 [==============================] - 0s 11ms/step - loss: 1.8009 - accuracy: 0.7474 - val_loss: 1.8133 - val_accuracy: 0.7041 - lr: 0.0010\n",
      "Epoch 42/100\n",
      "13/13 [==============================] - 0s 11ms/step - loss: 1.7924 - accuracy: 0.7474 - val_loss: 1.8043 - val_accuracy: 0.7041 - lr: 0.0010\n",
      "Epoch 43/100\n",
      "13/13 [==============================] - 0s 11ms/step - loss: 1.7820 - accuracy: 0.7474 - val_loss: 1.7977 - val_accuracy: 0.7041 - lr: 0.0010\n",
      "Epoch 44/100\n",
      "13/13 [==============================] - 0s 12ms/step - loss: 1.7755 - accuracy: 0.7474 - val_loss: 1.7910 - val_accuracy: 0.7041 - lr: 0.0010\n",
      "Epoch 45/100\n",
      "13/13 [==============================] - 0s 11ms/step - loss: 1.7690 - accuracy: 0.7474 - val_loss: 1.7877 - val_accuracy: 0.7041 - lr: 0.0010\n",
      "Epoch 46/100\n",
      "13/13 [==============================] - 0s 12ms/step - loss: 1.7623 - accuracy: 0.7474 - val_loss: 1.7819 - val_accuracy: 0.7041 - lr: 0.0010\n",
      "Epoch 47/100\n",
      "13/13 [==============================] - 0s 14ms/step - loss: 1.7569 - accuracy: 0.7474 - val_loss: 1.7757 - val_accuracy: 0.7041 - lr: 0.0010\n",
      "Epoch 48/100\n",
      "13/13 [==============================] - 0s 14ms/step - loss: 1.7514 - accuracy: 0.7474 - val_loss: 1.7739 - val_accuracy: 0.7041 - lr: 0.0010\n",
      "Epoch 49/100\n",
      "13/13 [==============================] - 0s 14ms/step - loss: 1.7490 - accuracy: 0.7474 - val_loss: 1.7658 - val_accuracy: 0.7041 - lr: 0.0010\n",
      "Epoch 50/100\n",
      "13/13 [==============================] - 0s 15ms/step - loss: 1.7395 - accuracy: 0.7474 - val_loss: 1.7595 - val_accuracy: 0.7041 - lr: 0.0010\n",
      "Epoch 51/100\n",
      "13/13 [==============================] - 0s 12ms/step - loss: 1.7330 - accuracy: 0.7474 - val_loss: 1.7547 - val_accuracy: 0.7041 - lr: 0.0010\n",
      "Epoch 52/100\n",
      "13/13 [==============================] - 0s 12ms/step - loss: 1.7267 - accuracy: 0.7474 - val_loss: 1.7511 - val_accuracy: 0.7041 - lr: 0.0010\n",
      "Epoch 53/100\n",
      "13/13 [==============================] - 0s 11ms/step - loss: 1.7213 - accuracy: 0.7474 - val_loss: 1.7428 - val_accuracy: 0.7041 - lr: 0.0010\n",
      "Epoch 54/100\n",
      "13/13 [==============================] - 0s 13ms/step - loss: 1.7141 - accuracy: 0.7474 - val_loss: 1.7437 - val_accuracy: 0.7041 - lr: 0.0010\n",
      "Epoch 55/100\n",
      "13/13 [==============================] - 0s 14ms/step - loss: 1.7142 - accuracy: 0.7474 - val_loss: 1.7380 - val_accuracy: 0.7041 - lr: 0.0010\n",
      "Epoch 56/100\n",
      "13/13 [==============================] - 0s 13ms/step - loss: 1.7083 - accuracy: 0.7474 - val_loss: 1.7349 - val_accuracy: 0.7041 - lr: 0.0010\n",
      "Epoch 57/100\n",
      "13/13 [==============================] - 0s 13ms/step - loss: 1.7051 - accuracy: 0.7474 - val_loss: 1.7317 - val_accuracy: 0.7041 - lr: 0.0010\n",
      "Epoch 58/100\n",
      "13/13 [==============================] - 0s 13ms/step - loss: 1.6994 - accuracy: 0.7474 - val_loss: 1.7264 - val_accuracy: 0.7041 - lr: 0.0010\n",
      "Epoch 59/100\n",
      "13/13 [==============================] - 0s 11ms/step - loss: 1.6931 - accuracy: 0.7474 - val_loss: 1.7236 - val_accuracy: 0.7041 - lr: 0.0010\n",
      "Epoch 60/100\n",
      "13/13 [==============================] - 0s 10ms/step - loss: 1.6906 - accuracy: 0.7474 - val_loss: 1.7213 - val_accuracy: 0.7041 - lr: 0.0010\n",
      "Epoch 61/100\n",
      "13/13 [==============================] - 0s 11ms/step - loss: 1.6873 - accuracy: 0.7474 - val_loss: 1.7172 - val_accuracy: 0.7041 - lr: 0.0010\n",
      "Epoch 62/100\n",
      "13/13 [==============================] - 0s 10ms/step - loss: 1.6843 - accuracy: 0.7474 - val_loss: 1.7116 - val_accuracy: 0.7041 - lr: 0.0010\n",
      "Epoch 63/100\n",
      "13/13 [==============================] - 0s 10ms/step - loss: 1.6794 - accuracy: 0.7474 - val_loss: 1.7084 - val_accuracy: 0.7041 - lr: 0.0010\n",
      "Epoch 64/100\n",
      "13/13 [==============================] - 0s 11ms/step - loss: 1.6743 - accuracy: 0.7474 - val_loss: 1.7039 - val_accuracy: 0.7041 - lr: 0.0010\n",
      "Epoch 65/100\n",
      "13/13 [==============================] - 0s 11ms/step - loss: 1.6700 - accuracy: 0.7474 - val_loss: 1.7022 - val_accuracy: 0.7041 - lr: 0.0010\n",
      "Epoch 66/100\n",
      "13/13 [==============================] - 0s 10ms/step - loss: 1.6678 - accuracy: 0.7474 - val_loss: 1.7007 - val_accuracy: 0.7041 - lr: 0.0010\n",
      "Epoch 67/100\n",
      "13/13 [==============================] - 0s 11ms/step - loss: 1.6651 - accuracy: 0.7474 - val_loss: 1.6973 - val_accuracy: 0.7041 - lr: 0.0010\n",
      "Epoch 68/100\n",
      "13/13 [==============================] - 0s 9ms/step - loss: 1.6611 - accuracy: 0.7474 - val_loss: 1.6934 - val_accuracy: 0.7041 - lr: 0.0010\n",
      "Epoch 69/100\n",
      "13/13 [==============================] - 0s 10ms/step - loss: 1.6545 - accuracy: 0.7474 - val_loss: 1.6896 - val_accuracy: 0.7041 - lr: 0.0010\n",
      "Epoch 70/100\n",
      "13/13 [==============================] - 0s 11ms/step - loss: 1.6533 - accuracy: 0.7474 - val_loss: 1.6899 - val_accuracy: 0.7041 - lr: 0.0010\n",
      "Epoch 71/100\n",
      "13/13 [==============================] - 0s 11ms/step - loss: 1.6538 - accuracy: 0.7474 - val_loss: 1.6877 - val_accuracy: 0.7041 - lr: 0.0010\n",
      "Epoch 72/100\n",
      "13/13 [==============================] - 0s 11ms/step - loss: 1.6490 - accuracy: 0.7474 - val_loss: 1.6846 - val_accuracy: 0.7041 - lr: 0.0010\n",
      "Epoch 73/100\n",
      "13/13 [==============================] - 0s 11ms/step - loss: 1.6451 - accuracy: 0.7474 - val_loss: 1.6813 - val_accuracy: 0.7041 - lr: 0.0010\n",
      "Epoch 74/100\n",
      "13/13 [==============================] - 0s 11ms/step - loss: 1.6415 - accuracy: 0.7474 - val_loss: 1.6793 - val_accuracy: 0.7041 - lr: 0.0010\n",
      "Epoch 75/100\n",
      "13/13 [==============================] - 0s 11ms/step - loss: 1.6373 - accuracy: 0.7474 - val_loss: 1.6749 - val_accuracy: 0.7041 - lr: 0.0010\n",
      "Epoch 76/100\n",
      "13/13 [==============================] - 0s 10ms/step - loss: 1.6342 - accuracy: 0.7474 - val_loss: 1.6739 - val_accuracy: 0.7041 - lr: 0.0010\n",
      "Epoch 77/100\n",
      "13/13 [==============================] - 0s 10ms/step - loss: 1.6309 - accuracy: 0.7474 - val_loss: 1.6706 - val_accuracy: 0.7041 - lr: 0.0010\n",
      "Epoch 78/100\n",
      "13/13 [==============================] - 0s 10ms/step - loss: 1.6275 - accuracy: 0.7474 - val_loss: 1.6699 - val_accuracy: 0.7041 - lr: 0.0010\n",
      "Epoch 79/100\n",
      "13/13 [==============================] - 0s 11ms/step - loss: 1.6243 - accuracy: 0.7474 - val_loss: 1.6667 - val_accuracy: 0.7041 - lr: 0.0010\n",
      "Epoch 80/100\n",
      "13/13 [==============================] - 0s 10ms/step - loss: 1.6220 - accuracy: 0.7474 - val_loss: 1.6632 - val_accuracy: 0.7041 - lr: 0.0010\n",
      "Epoch 81/100\n",
      "13/13 [==============================] - 0s 10ms/step - loss: 1.6177 - accuracy: 0.7474 - val_loss: 1.6583 - val_accuracy: 0.7041 - lr: 0.0010\n",
      "Epoch 82/100\n",
      "13/13 [==============================] - 0s 10ms/step - loss: 1.6123 - accuracy: 0.7474 - val_loss: 1.6531 - val_accuracy: 0.7041 - lr: 0.0010\n",
      "Epoch 83/100\n",
      "13/13 [==============================] - 0s 10ms/step - loss: 1.6060 - accuracy: 0.7474 - val_loss: 1.6474 - val_accuracy: 0.7041 - lr: 0.0010\n",
      "Epoch 84/100\n",
      "13/13 [==============================] - 0s 9ms/step - loss: 1.5995 - accuracy: 0.7474 - val_loss: 1.6426 - val_accuracy: 0.7041 - lr: 0.0010\n",
      "Epoch 85/100\n",
      "13/13 [==============================] - 0s 10ms/step - loss: 1.5950 - accuracy: 0.7474 - val_loss: 1.6400 - val_accuracy: 0.7041 - lr: 0.0010\n",
      "Epoch 86/100\n",
      "13/13 [==============================] - 0s 9ms/step - loss: 1.5912 - accuracy: 0.7474 - val_loss: 1.6369 - val_accuracy: 0.7041 - lr: 0.0010\n",
      "Epoch 87/100\n",
      "13/13 [==============================] - 0s 11ms/step - loss: 1.5872 - accuracy: 0.7474 - val_loss: 1.6332 - val_accuracy: 0.7041 - lr: 0.0010\n",
      "Epoch 88/100\n",
      "13/13 [==============================] - 0s 10ms/step - loss: 1.5837 - accuracy: 0.7474 - val_loss: 1.6306 - val_accuracy: 0.7041 - lr: 0.0010\n",
      "Epoch 89/100\n",
      "13/13 [==============================] - 0s 11ms/step - loss: 1.5806 - accuracy: 0.7474 - val_loss: 1.6275 - val_accuracy: 0.7041 - lr: 0.0010\n",
      "Epoch 90/100\n",
      "13/13 [==============================] - 0s 10ms/step - loss: 1.5761 - accuracy: 0.7474 - val_loss: 1.6253 - val_accuracy: 0.7041 - lr: 0.0010\n",
      "Epoch 91/100\n",
      "13/13 [==============================] - 0s 11ms/step - loss: 1.5750 - accuracy: 0.7474 - val_loss: 1.6225 - val_accuracy: 0.7041 - lr: 0.0010\n",
      "Epoch 92/100\n",
      "13/13 [==============================] - 0s 10ms/step - loss: 1.5721 - accuracy: 0.7474 - val_loss: 1.6228 - val_accuracy: 0.7041 - lr: 0.0010\n",
      "Epoch 93/100\n",
      "13/13 [==============================] - 0s 10ms/step - loss: 1.5732 - accuracy: 0.7474 - val_loss: 1.6240 - val_accuracy: 0.7041 - lr: 0.0010\n",
      "Epoch 94/100\n",
      "13/13 [==============================] - 0s 10ms/step - loss: 1.5737 - accuracy: 0.7474 - val_loss: 1.6233 - val_accuracy: 0.7041 - lr: 0.0010\n",
      "Epoch 95/100\n",
      "13/13 [==============================] - 0s 16ms/step - loss: 1.5721 - accuracy: 0.7474 - val_loss: 1.6194 - val_accuracy: 0.7041 - lr: 0.0010\n",
      "Epoch 96/100\n",
      "13/13 [==============================] - 0s 10ms/step - loss: 1.5669 - accuracy: 0.7474 - val_loss: 1.6163 - val_accuracy: 0.7041 - lr: 0.0010\n",
      "Epoch 97/100\n",
      "13/13 [==============================] - 0s 10ms/step - loss: 1.5629 - accuracy: 0.7474 - val_loss: 1.6135 - val_accuracy: 0.7041 - lr: 0.0010\n",
      "Epoch 98/100\n",
      "13/13 [==============================] - 0s 11ms/step - loss: 1.5602 - accuracy: 0.7474 - val_loss: 1.6115 - val_accuracy: 0.7041 - lr: 0.0010\n",
      "Epoch 99/100\n",
      "13/13 [==============================] - 0s 6ms/step - loss: 1.5586 - accuracy: 0.7474 - val_loss: 1.6094 - val_accuracy: 0.7041 - lr: 0.0010\n",
      "Epoch 100/100\n",
      "13/13 [==============================] - 0s 5ms/step - loss: 1.5559 - accuracy: 0.7474 - val_loss: 1.6068 - val_accuracy: 0.7041 - lr: 0.0010\n"
     ]
    }
   ],
   "source": [
    "# Build a model with differential privacy\n",
    "model_dp = create_model(num_features, num_classes)\n",
    "\n",
    "# Use callbacks for early stopping and learning rate scheduling\n",
    "early_stopping = keras.callbacks.EarlyStopping(patience=10, restore_best_weights=True)\n",
    "lr_scheduler = keras.callbacks.ReduceLROnPlateau(factor=0.5, patience=5)\n",
    "\n",
    "# Train the model\n",
    "history = model_dp.fit(\n",
    "    X_train_combined, y_train_combined,\n",
    "    epochs=epochs,\n",
    "    batch_size=batch_size,\n",
    "    validation_split=0.2,\n",
    "    verbose=1,\n",
    "    callbacks =[early_stopping, lr_scheduler]\n",
    ")"
   ]
  },
  {
   "cell_type": "markdown",
   "metadata": {},
   "source": [
    "#### Model Evaluation"
   ]
  },
  {
   "cell_type": "code",
   "execution_count": 79,
   "metadata": {},
   "outputs": [],
   "source": [
    "from sklearn.metrics import accuracy_score, precision_score, recall_score, f1_score\n",
    "\n",
    "def evaluate(model):\n",
    "\n",
    "    # Making Predictions\n",
    "    y_pred = model.predict(X_test_scaled)\n",
    "    y_pred_classes = np.argmax(y_pred, axis=1)\n",
    "    y_test_classes = np.argmax(y_test_cat, axis=1)\n",
    "\n",
    "    # Calculating the metrics\n",
    "    accuracy = accuracy_score(y_test_classes, y_pred_classes)\n",
    "    precision = precision_score(y_test_classes, y_pred_classes, average='weighted')\n",
    "    recall = recall_score(y_test_classes, y_pred_classes, average='weighted')\n",
    "    f1 = f1_score(y_test_classes, y_pred_classes, average='weighted')\n",
    "\n",
    "    # Printing out metrics\n",
    "    print(f\"Accuracy: {accuracy:.4f}\")\n",
    "    print(f\"Precision: {precision:.4f}\")\n",
    "    print(f\"Recall: {recall:.4f}\")\n",
    "    print(f\"F1 Score: {f1:.4f}\")"
   ]
  },
  {
   "cell_type": "code",
   "execution_count": 89,
   "metadata": {},
   "outputs": [
    {
     "name": "stdout",
     "output_type": "stream",
     "text": [
      "2/2 [==============================] - 0s 5ms/step\n",
      "Accuracy: 0.8537\n",
      "Precision: 0.7287\n",
      "Recall: 0.8537\n",
      "F1 Score: 0.7863\n"
     ]
    },
    {
     "name": "stderr",
     "output_type": "stream",
     "text": [
      "c:\\MONASH\\Y3S2\\FIT3164\\repo\\MDS14\\.venv\\Lib\\site-packages\\sklearn\\metrics\\_classification.py:1531: UndefinedMetricWarning: Precision is ill-defined and being set to 0.0 in labels with no predicted samples. Use `zero_division` parameter to control this behavior.\n",
      "  _warn_prf(average, modifier, f\"{metric.capitalize()} is\", len(result))\n"
     ]
    }
   ],
   "source": [
    "evaluate(model_dp)"
   ]
  },
  {
   "cell_type": "code",
   "execution_count": 47,
   "metadata": {},
   "outputs": [
    {
     "data": {
      "image/png": "[encoded data removed]",
      "text/plain": [
       "<Figure size 640x480 with 1 Axes>"
      ]
     },
     "metadata": {},
     "output_type": "display_data"
    }
   ],
   "source": [
    "import matplotlib.pyplot as plt\n",
    "\n",
    "plt.plot(history.history['accuracy'], label='accuracy')\n",
    "plt.plot(history.history['val_accuracy'], label='val_accuracy')\n",
    "plt.xlabel('Epoch')\n",
    "plt.ylabel('Accuracy')\n",
    "plt.legend()\n",
    "plt.show()"
   ]
  },
  {
   "cell_type": "markdown",
   "metadata": {},
   "source": [
    "### Non-Differential Privacy Model"
   ]
  },
  {
   "cell_type": "code",
   "execution_count": 56,
   "metadata": {},
   "outputs": [
    {
     "name": "stdout",
     "output_type": "stream",
     "text": [
      "Epoch 1/100\n",
      "13/13 [==============================] - 2s 49ms/step - loss: 1.3521 - accuracy: 0.2191 - val_loss: 1.3298 - val_accuracy: 0.4694 - lr: 0.0010\n",
      "Epoch 2/100\n",
      "13/13 [==============================] - 0s 11ms/step - loss: 1.2942 - accuracy: 0.6443 - val_loss: 1.2657 - val_accuracy: 0.7041 - lr: 0.0010\n",
      "Epoch 3/100\n",
      "13/13 [==============================] - 0s 10ms/step - loss: 1.2213 - accuracy: 0.7474 - val_loss: 1.1994 - val_accuracy: 0.7041 - lr: 0.0010\n",
      "Epoch 4/100\n",
      "13/13 [==============================] - 0s 17ms/step - loss: 1.1504 - accuracy: 0.7474 - val_loss: 1.1383 - val_accuracy: 0.7041 - lr: 0.0010\n",
      "Epoch 5/100\n",
      "13/13 [==============================] - 0s 15ms/step - loss: 1.0871 - accuracy: 0.7474 - val_loss: 1.0867 - val_accuracy: 0.7041 - lr: 0.0010\n",
      "Epoch 6/100\n",
      "13/13 [==============================] - 0s 15ms/step - loss: 1.0326 - accuracy: 0.7474 - val_loss: 1.0421 - val_accuracy: 0.7041 - lr: 0.0010\n",
      "Epoch 7/100\n",
      "13/13 [==============================] - 0s 15ms/step - loss: 0.9855 - accuracy: 0.7474 - val_loss: 1.0030 - val_accuracy: 0.7041 - lr: 0.0010\n",
      "Epoch 8/100\n",
      "13/13 [==============================] - 0s 16ms/step - loss: 0.9428 - accuracy: 0.7474 - val_loss: 0.9704 - val_accuracy: 0.7041 - lr: 0.0010\n",
      "Epoch 9/100\n",
      "13/13 [==============================] - 1s 51ms/step - loss: 0.9052 - accuracy: 0.7474 - val_loss: 0.9414 - val_accuracy: 0.7041 - lr: 0.0010\n",
      "Epoch 10/100\n",
      "13/13 [==============================] - 0s 16ms/step - loss: 0.8737 - accuracy: 0.7474 - val_loss: 0.9175 - val_accuracy: 0.7041 - lr: 0.0010\n",
      "Epoch 11/100\n",
      "13/13 [==============================] - 0s 16ms/step - loss: 0.8475 - accuracy: 0.7474 - val_loss: 0.8998 - val_accuracy: 0.7041 - lr: 0.0010\n",
      "Epoch 12/100\n",
      "13/13 [==============================] - 0s 14ms/step - loss: 0.8276 - accuracy: 0.7474 - val_loss: 0.8868 - val_accuracy: 0.7041 - lr: 0.0010\n",
      "Epoch 13/100\n",
      "13/13 [==============================] - 0s 13ms/step - loss: 0.8135 - accuracy: 0.7474 - val_loss: 0.8765 - val_accuracy: 0.7041 - lr: 0.0010\n",
      "Epoch 14/100\n",
      "13/13 [==============================] - 0s 14ms/step - loss: 0.8014 - accuracy: 0.7474 - val_loss: 0.8680 - val_accuracy: 0.7041 - lr: 0.0010\n",
      "Epoch 15/100\n",
      "13/13 [==============================] - 0s 14ms/step - loss: 0.7920 - accuracy: 0.7474 - val_loss: 0.8612 - val_accuracy: 0.7041 - lr: 0.0010\n",
      "Epoch 16/100\n",
      "13/13 [==============================] - 0s 13ms/step - loss: 0.7838 - accuracy: 0.7474 - val_loss: 0.8559 - val_accuracy: 0.7041 - lr: 0.0010\n",
      "Epoch 17/100\n",
      "13/13 [==============================] - 0s 12ms/step - loss: 0.7775 - accuracy: 0.7474 - val_loss: 0.8512 - val_accuracy: 0.7041 - lr: 0.0010\n",
      "Epoch 18/100\n",
      "13/13 [==============================] - 0s 13ms/step - loss: 0.7720 - accuracy: 0.7474 - val_loss: 0.8466 - val_accuracy: 0.7041 - lr: 0.0010\n",
      "Epoch 19/100\n",
      "13/13 [==============================] - 0s 14ms/step - loss: 0.7679 - accuracy: 0.7474 - val_loss: 0.8439 - val_accuracy: 0.7041 - lr: 0.0010\n",
      "Epoch 20/100\n",
      "13/13 [==============================] - 0s 12ms/step - loss: 0.7640 - accuracy: 0.7474 - val_loss: 0.8408 - val_accuracy: 0.7041 - lr: 0.0010\n",
      "Epoch 21/100\n",
      "13/13 [==============================] - 0s 11ms/step - loss: 0.7604 - accuracy: 0.7474 - val_loss: 0.8390 - val_accuracy: 0.7041 - lr: 0.0010\n",
      "Epoch 22/100\n",
      "13/13 [==============================] - 0s 17ms/step - loss: 0.7573 - accuracy: 0.7474 - val_loss: 0.8368 - val_accuracy: 0.7041 - lr: 0.0010\n",
      "Epoch 23/100\n",
      "13/13 [==============================] - 0s 14ms/step - loss: 0.7546 - accuracy: 0.7474 - val_loss: 0.8349 - val_accuracy: 0.7041 - lr: 0.0010\n",
      "Epoch 24/100\n",
      "13/13 [==============================] - 0s 34ms/step - loss: 0.7523 - accuracy: 0.7474 - val_loss: 0.8322 - val_accuracy: 0.7041 - lr: 0.0010\n",
      "Epoch 25/100\n",
      "13/13 [==============================] - 0s 21ms/step - loss: 0.7500 - accuracy: 0.7474 - val_loss: 0.8289 - val_accuracy: 0.7041 - lr: 0.0010\n",
      "Epoch 26/100\n",
      "13/13 [==============================] - 0s 15ms/step - loss: 0.7479 - accuracy: 0.7474 - val_loss: 0.8266 - val_accuracy: 0.7041 - lr: 0.0010\n",
      "Epoch 27/100\n",
      "13/13 [==============================] - 0s 18ms/step - loss: 0.7457 - accuracy: 0.7474 - val_loss: 0.8234 - val_accuracy: 0.7041 - lr: 0.0010\n",
      "Epoch 28/100\n",
      "13/13 [==============================] - 0s 13ms/step - loss: 0.7436 - accuracy: 0.7474 - val_loss: 0.8209 - val_accuracy: 0.7041 - lr: 0.0010\n",
      "Epoch 29/100\n",
      "13/13 [==============================] - 0s 21ms/step - loss: 0.7419 - accuracy: 0.7474 - val_loss: 0.8187 - val_accuracy: 0.7041 - lr: 0.0010\n",
      "Epoch 30/100\n",
      "13/13 [==============================] - 0s 39ms/step - loss: 0.7402 - accuracy: 0.7474 - val_loss: 0.8174 - val_accuracy: 0.7041 - lr: 0.0010\n",
      "Epoch 31/100\n",
      "13/13 [==============================] - 0s 19ms/step - loss: 0.7386 - accuracy: 0.7474 - val_loss: 0.8157 - val_accuracy: 0.7041 - lr: 0.0010\n",
      "Epoch 32/100\n",
      "13/13 [==============================] - 0s 16ms/step - loss: 0.7373 - accuracy: 0.7474 - val_loss: 0.8138 - val_accuracy: 0.7041 - lr: 0.0010\n",
      "Epoch 33/100\n",
      "13/13 [==============================] - 0s 12ms/step - loss: 0.7359 - accuracy: 0.7474 - val_loss: 0.8120 - val_accuracy: 0.7041 - lr: 0.0010\n",
      "Epoch 34/100\n",
      "13/13 [==============================] - 0s 20ms/step - loss: 0.7346 - accuracy: 0.7474 - val_loss: 0.8102 - val_accuracy: 0.7041 - lr: 0.0010\n",
      "Epoch 35/100\n",
      "13/13 [==============================] - 0s 17ms/step - loss: 0.7331 - accuracy: 0.7474 - val_loss: 0.8093 - val_accuracy: 0.7041 - lr: 0.0010\n",
      "Epoch 36/100\n",
      "13/13 [==============================] - 0s 13ms/step - loss: 0.7321 - accuracy: 0.7474 - val_loss: 0.8080 - val_accuracy: 0.7041 - lr: 0.0010\n",
      "Epoch 37/100\n",
      "13/13 [==============================] - 0s 13ms/step - loss: 0.7311 - accuracy: 0.7474 - val_loss: 0.8073 - val_accuracy: 0.7041 - lr: 0.0010\n",
      "Epoch 38/100\n",
      "13/13 [==============================] - 0s 10ms/step - loss: 0.7299 - accuracy: 0.7474 - val_loss: 0.8054 - val_accuracy: 0.7041 - lr: 0.0010\n",
      "Epoch 39/100\n",
      "13/13 [==============================] - 0s 11ms/step - loss: 0.7286 - accuracy: 0.7474 - val_loss: 0.8046 - val_accuracy: 0.7041 - lr: 0.0010\n",
      "Epoch 40/100\n",
      "13/13 [==============================] - 0s 10ms/step - loss: 0.7276 - accuracy: 0.7474 - val_loss: 0.8040 - val_accuracy: 0.7041 - lr: 0.0010\n",
      "Epoch 41/100\n",
      "13/13 [==============================] - 0s 10ms/step - loss: 0.7271 - accuracy: 0.7474 - val_loss: 0.8033 - val_accuracy: 0.7041 - lr: 0.0010\n",
      "Epoch 42/100\n",
      "13/13 [==============================] - 0s 9ms/step - loss: 0.7261 - accuracy: 0.7474 - val_loss: 0.8025 - val_accuracy: 0.7041 - lr: 0.0010\n",
      "Epoch 43/100\n",
      "13/13 [==============================] - 0s 9ms/step - loss: 0.7255 - accuracy: 0.7474 - val_loss: 0.8003 - val_accuracy: 0.7041 - lr: 0.0010\n",
      "Epoch 44/100\n",
      "13/13 [==============================] - 0s 9ms/step - loss: 0.7243 - accuracy: 0.7474 - val_loss: 0.7993 - val_accuracy: 0.7041 - lr: 0.0010\n",
      "Epoch 45/100\n",
      "13/13 [==============================] - 0s 10ms/step - loss: 0.7236 - accuracy: 0.7474 - val_loss: 0.7982 - val_accuracy: 0.7041 - lr: 0.0010\n",
      "Epoch 46/100\n",
      "13/13 [==============================] - 0s 12ms/step - loss: 0.7231 - accuracy: 0.7474 - val_loss: 0.7981 - val_accuracy: 0.7041 - lr: 0.0010\n",
      "Epoch 47/100\n",
      "13/13 [==============================] - 0s 14ms/step - loss: 0.7224 - accuracy: 0.7474 - val_loss: 0.7961 - val_accuracy: 0.7041 - lr: 0.0010\n",
      "Epoch 48/100\n",
      "13/13 [==============================] - 0s 11ms/step - loss: 0.7215 - accuracy: 0.7474 - val_loss: 0.7949 - val_accuracy: 0.7041 - lr: 0.0010\n",
      "Epoch 49/100\n",
      "13/13 [==============================] - 0s 11ms/step - loss: 0.7214 - accuracy: 0.7474 - val_loss: 0.7925 - val_accuracy: 0.7041 - lr: 0.0010\n",
      "Epoch 50/100\n",
      "13/13 [==============================] - 0s 14ms/step - loss: 0.7204 - accuracy: 0.7474 - val_loss: 0.7917 - val_accuracy: 0.7041 - lr: 0.0010\n",
      "Epoch 51/100\n",
      "13/13 [==============================] - 0s 13ms/step - loss: 0.7195 - accuracy: 0.7474 - val_loss: 0.7916 - val_accuracy: 0.7041 - lr: 0.0010\n",
      "Epoch 52/100\n",
      "13/13 [==============================] - 0s 14ms/step - loss: 0.7186 - accuracy: 0.7474 - val_loss: 0.7915 - val_accuracy: 0.7041 - lr: 0.0010\n",
      "Epoch 53/100\n",
      "13/13 [==============================] - 0s 12ms/step - loss: 0.7181 - accuracy: 0.7474 - val_loss: 0.7910 - val_accuracy: 0.7041 - lr: 0.0010\n",
      "Epoch 54/100\n",
      "13/13 [==============================] - 0s 11ms/step - loss: 0.7173 - accuracy: 0.7474 - val_loss: 0.7904 - val_accuracy: 0.7041 - lr: 0.0010\n",
      "Epoch 55/100\n",
      "13/13 [==============================] - 0s 12ms/step - loss: 0.7169 - accuracy: 0.7474 - val_loss: 0.7903 - val_accuracy: 0.7041 - lr: 0.0010\n",
      "Epoch 56/100\n",
      "13/13 [==============================] - 0s 10ms/step - loss: 0.7163 - accuracy: 0.7474 - val_loss: 0.7900 - val_accuracy: 0.7041 - lr: 0.0010\n",
      "Epoch 57/100\n",
      "13/13 [==============================] - 0s 13ms/step - loss: 0.7158 - accuracy: 0.7474 - val_loss: 0.7886 - val_accuracy: 0.7041 - lr: 0.0010\n",
      "Epoch 58/100\n",
      "13/13 [==============================] - 0s 12ms/step - loss: 0.7150 - accuracy: 0.7474 - val_loss: 0.7873 - val_accuracy: 0.7041 - lr: 0.0010\n",
      "Epoch 59/100\n",
      "13/13 [==============================] - 0s 13ms/step - loss: 0.7145 - accuracy: 0.7474 - val_loss: 0.7872 - val_accuracy: 0.7041 - lr: 0.0010\n",
      "Epoch 60/100\n",
      "13/13 [==============================] - 0s 19ms/step - loss: 0.7140 - accuracy: 0.7474 - val_loss: 0.7870 - val_accuracy: 0.7041 - lr: 0.0010\n",
      "Epoch 61/100\n",
      "13/13 [==============================] - 0s 10ms/step - loss: 0.7136 - accuracy: 0.7474 - val_loss: 0.7865 - val_accuracy: 0.7041 - lr: 0.0010\n",
      "Epoch 62/100\n",
      "13/13 [==============================] - 0s 14ms/step - loss: 0.7130 - accuracy: 0.7474 - val_loss: 0.7864 - val_accuracy: 0.7041 - lr: 0.0010\n",
      "Epoch 63/100\n",
      "13/13 [==============================] - 0s 15ms/step - loss: 0.7127 - accuracy: 0.7474 - val_loss: 0.7858 - val_accuracy: 0.7041 - lr: 0.0010\n",
      "Epoch 64/100\n",
      "13/13 [==============================] - 0s 12ms/step - loss: 0.7122 - accuracy: 0.7474 - val_loss: 0.7860 - val_accuracy: 0.7041 - lr: 0.0010\n",
      "Epoch 65/100\n",
      "13/13 [==============================] - 0s 12ms/step - loss: 0.7117 - accuracy: 0.7474 - val_loss: 0.7851 - val_accuracy: 0.7041 - lr: 0.0010\n",
      "Epoch 66/100\n",
      "13/13 [==============================] - 0s 13ms/step - loss: 0.7112 - accuracy: 0.7474 - val_loss: 0.7846 - val_accuracy: 0.7041 - lr: 0.0010\n",
      "Epoch 67/100\n",
      "13/13 [==============================] - 0s 14ms/step - loss: 0.7107 - accuracy: 0.7474 - val_loss: 0.7845 - val_accuracy: 0.7041 - lr: 0.0010\n",
      "Epoch 68/100\n",
      "13/13 [==============================] - 0s 10ms/step - loss: 0.7102 - accuracy: 0.7474 - val_loss: 0.7832 - val_accuracy: 0.7041 - lr: 0.0010\n",
      "Epoch 69/100\n",
      "13/13 [==============================] - 0s 12ms/step - loss: 0.7096 - accuracy: 0.7474 - val_loss: 0.7828 - val_accuracy: 0.7041 - lr: 0.0010\n",
      "Epoch 70/100\n",
      "13/13 [==============================] - 0s 9ms/step - loss: 0.7093 - accuracy: 0.7474 - val_loss: 0.7821 - val_accuracy: 0.7041 - lr: 0.0010\n",
      "Epoch 71/100\n",
      "13/13 [==============================] - 0s 9ms/step - loss: 0.7084 - accuracy: 0.7474 - val_loss: 0.7794 - val_accuracy: 0.7041 - lr: 0.0010\n",
      "Epoch 72/100\n",
      "13/13 [==============================] - 0s 13ms/step - loss: 0.7074 - accuracy: 0.7474 - val_loss: 0.7769 - val_accuracy: 0.7041 - lr: 0.0010\n",
      "Epoch 73/100\n",
      "13/13 [==============================] - 0s 10ms/step - loss: 0.7079 - accuracy: 0.7474 - val_loss: 0.7761 - val_accuracy: 0.7041 - lr: 0.0010\n",
      "Epoch 74/100\n",
      "13/13 [==============================] - 0s 11ms/step - loss: 0.7072 - accuracy: 0.7474 - val_loss: 0.7758 - val_accuracy: 0.7041 - lr: 0.0010\n",
      "Epoch 75/100\n",
      "13/13 [==============================] - 0s 10ms/step - loss: 0.7065 - accuracy: 0.7474 - val_loss: 0.7759 - val_accuracy: 0.7041 - lr: 0.0010\n",
      "Epoch 76/100\n",
      "13/13 [==============================] - 0s 11ms/step - loss: 0.7063 - accuracy: 0.7474 - val_loss: 0.7757 - val_accuracy: 0.7041 - lr: 0.0010\n",
      "Epoch 77/100\n",
      "13/13 [==============================] - 0s 10ms/step - loss: 0.7058 - accuracy: 0.7474 - val_loss: 0.7750 - val_accuracy: 0.7041 - lr: 0.0010\n",
      "Epoch 78/100\n",
      "13/13 [==============================] - 0s 10ms/step - loss: 0.7058 - accuracy: 0.7474 - val_loss: 0.7753 - val_accuracy: 0.7041 - lr: 0.0010\n",
      "Epoch 79/100\n",
      "13/13 [==============================] - 0s 9ms/step - loss: 0.7050 - accuracy: 0.7474 - val_loss: 0.7732 - val_accuracy: 0.7041 - lr: 0.0010\n",
      "Epoch 80/100\n",
      "13/13 [==============================] - 0s 9ms/step - loss: 0.7047 - accuracy: 0.7474 - val_loss: 0.7733 - val_accuracy: 0.7041 - lr: 0.0010\n",
      "Epoch 81/100\n",
      "13/13 [==============================] - 0s 9ms/step - loss: 0.7044 - accuracy: 0.7474 - val_loss: 0.7732 - val_accuracy: 0.7041 - lr: 0.0010\n",
      "Epoch 82/100\n",
      "13/13 [==============================] - 0s 9ms/step - loss: 0.7038 - accuracy: 0.7474 - val_loss: 0.7720 - val_accuracy: 0.7041 - lr: 0.0010\n",
      "Epoch 83/100\n",
      "13/13 [==============================] - 0s 8ms/step - loss: 0.7035 - accuracy: 0.7474 - val_loss: 0.7720 - val_accuracy: 0.7041 - lr: 0.0010\n",
      "Epoch 84/100\n",
      "13/13 [==============================] - 0s 8ms/step - loss: 0.7031 - accuracy: 0.7474 - val_loss: 0.7716 - val_accuracy: 0.7041 - lr: 0.0010\n",
      "Epoch 85/100\n",
      "13/13 [==============================] - 0s 9ms/step - loss: 0.7027 - accuracy: 0.7474 - val_loss: 0.7714 - val_accuracy: 0.7041 - lr: 0.0010\n",
      "Epoch 86/100\n",
      "13/13 [==============================] - 0s 10ms/step - loss: 0.7022 - accuracy: 0.7474 - val_loss: 0.7711 - val_accuracy: 0.7041 - lr: 0.0010\n",
      "Epoch 87/100\n",
      "13/13 [==============================] - 0s 11ms/step - loss: 0.7018 - accuracy: 0.7474 - val_loss: 0.7709 - val_accuracy: 0.7041 - lr: 0.0010\n",
      "Epoch 88/100\n",
      "13/13 [==============================] - 0s 24ms/step - loss: 0.7012 - accuracy: 0.7474 - val_loss: 0.7704 - val_accuracy: 0.7041 - lr: 0.0010\n",
      "Epoch 89/100\n",
      "13/13 [==============================] - 0s 11ms/step - loss: 0.7009 - accuracy: 0.7474 - val_loss: 0.7699 - val_accuracy: 0.7041 - lr: 0.0010\n",
      "Epoch 90/100\n",
      "13/13 [==============================] - 0s 9ms/step - loss: 0.7006 - accuracy: 0.7474 - val_loss: 0.7696 - val_accuracy: 0.7041 - lr: 0.0010\n",
      "Epoch 91/100\n",
      "13/13 [==============================] - 0s 10ms/step - loss: 0.7002 - accuracy: 0.7474 - val_loss: 0.7685 - val_accuracy: 0.7041 - lr: 0.0010\n",
      "Epoch 92/100\n",
      "13/13 [==============================] - 0s 13ms/step - loss: 0.6997 - accuracy: 0.7474 - val_loss: 0.7684 - val_accuracy: 0.7041 - lr: 0.0010\n",
      "Epoch 93/100\n",
      "13/13 [==============================] - 0s 13ms/step - loss: 0.6992 - accuracy: 0.7474 - val_loss: 0.7686 - val_accuracy: 0.7041 - lr: 0.0010\n",
      "Epoch 94/100\n",
      "13/13 [==============================] - 0s 11ms/step - loss: 0.6991 - accuracy: 0.7474 - val_loss: 0.7676 - val_accuracy: 0.7041 - lr: 0.0010\n",
      "Epoch 95/100\n",
      "13/13 [==============================] - 0s 13ms/step - loss: 0.6984 - accuracy: 0.7474 - val_loss: 0.7672 - val_accuracy: 0.7041 - lr: 0.0010\n",
      "Epoch 96/100\n",
      "13/13 [==============================] - 0s 16ms/step - loss: 0.6983 - accuracy: 0.7474 - val_loss: 0.7668 - val_accuracy: 0.7041 - lr: 0.0010\n",
      "Epoch 97/100\n",
      "13/13 [==============================] - 0s 13ms/step - loss: 0.6979 - accuracy: 0.7474 - val_loss: 0.7664 - val_accuracy: 0.7041 - lr: 0.0010\n",
      "Epoch 98/100\n",
      "13/13 [==============================] - 0s 11ms/step - loss: 0.6974 - accuracy: 0.7474 - val_loss: 0.7655 - val_accuracy: 0.7041 - lr: 0.0010\n",
      "Epoch 99/100\n",
      "13/13 [==============================] - 0s 11ms/step - loss: 0.6974 - accuracy: 0.7474 - val_loss: 0.7660 - val_accuracy: 0.7041 - lr: 0.0010\n",
      "Epoch 100/100\n",
      "13/13 [==============================] - 0s 11ms/step - loss: 0.6966 - accuracy: 0.7474 - val_loss: 0.7646 - val_accuracy: 0.7041 - lr: 0.0010\n"
     ]
    }
   ],
   "source": [
    "from keras.optimizers import SGD\n",
    "\n",
    "sgd = SGD(learning_rate=learning_rate, momentum=momentum)\n",
    "\n",
    "model = create_model(num_features, num_classes, optimizer=sgd)\n",
    "\n",
    "history = model.fit(\n",
    "    X_train_combined, y_train_combined,\n",
    "    epochs=epochs,\n",
    "    batch_size=batch_size,\n",
    "    validation_split=0.2,\n",
    "    verbose=1,\n",
    "    callbacks =[early_stopping, lr_scheduler]\n",
    ")"
   ]
  },
  {
   "cell_type": "code",
   "execution_count": 57,
   "metadata": {},
   "outputs": [
    {
     "name": "stdout",
     "output_type": "stream",
     "text": [
      "2/2 [==============================] - 0s 3ms/step\n",
      "Accuracy: 0.8537\n",
      "Precision: 0.7287\n",
      "Recall: 0.8537\n",
      "F1 Score: 0.7863\n"
     ]
    },
    {
     "name": "stderr",
     "output_type": "stream",
     "text": [
      "c:\\MONASH\\Y3S2\\FIT3164\\repo\\MDS14\\.venv\\Lib\\site-packages\\sklearn\\metrics\\_classification.py:1531: UndefinedMetricWarning: Precision is ill-defined and being set to 0.0 in labels with no predicted samples. Use `zero_division` parameter to control this behavior.\n",
      "  _warn_prf(average, modifier, f\"{metric.capitalize()} is\", len(result))\n"
     ]
    }
   ],
   "source": [
    "# Evaluate the model\n",
    "evaluate(model)"
   ]
  },
  {
   "cell_type": "code",
   "execution_count": 31,
   "metadata": {},
   "outputs": [
    {
     "data": {
      "image/png": "[encoded data removed]",
      "text/plain": [
       "<Figure size 640x480 with 1 Axes>"
      ]
     },
     "metadata": {},
     "output_type": "display_data"
    }
   ],
   "source": [
    "import matplotlib.pyplot as plt\n",
    "\n",
    "plt.plot(history.history['accuracy'], label='accuracy')\n",
    "plt.plot(history.history['val_accuracy'], label='val_accuracy')\n",
    "plt.xlabel('Epoch')\n",
    "plt.ylabel('Accuracy')\n",
    "plt.legend()\n",
    "plt.show()"
   ]
  },
  {
   "cell_type": "markdown",
   "metadata": {},
   "source": [
    "### Saving Models"
   ]
  },
  {
   "cell_type": "code",
   "execution_count": null,
   "metadata": {},
   "outputs": [],
   "source": [
    "model_dp.save('src/model')"
   ]
  },
  {
   "cell_type": "markdown",
   "metadata": {},
   "source": [
    "### Evaluating Privacy"
   ]
  },
  {
   "cell_type": "markdown",
   "metadata": {},
   "source": [
    "#### Evaluating Privacy Budget"
   ]
  },
  {
   "cell_type": "code",
   "execution_count": 61,
   "metadata": {},
   "outputs": [
    {
     "name": "stderr",
     "output_type": "stream",
     "text": [
      "WARNING:absl:`compute_dp_sgd_privacy` is deprecated. It does not account for doubling of sensitivity with microbatching, and assumes Poisson subsampling, which is rarely used in practice. Please use `compute_dp_sgd_privacy_statement`, which provides appropriate context for the guarantee. To compute epsilon under different assumptions than those in `compute_dp_sgd_privacy_statement`, call the `dp_accounting` libraries directly.\n"
     ]
    },
    {
     "name": "stdout",
     "output_type": "stream",
     "text": [
      "The privacy budget (epsilon) is: 34.40521375867571\n"
     ]
    }
   ],
   "source": [
    "from tensorflow_privacy.privacy.analysis import compute_dp_sgd_privacy_lib\n",
    "\n",
    "epsilon, alpha = compute_dp_sgd_privacy_lib.compute_dp_sgd_privacy(\n",
    "    n=X_train.shape[0],\n",
    "    batch_size=batch_size,\n",
    "    noise_multiplier=noise_multiplier,\n",
    "    epochs=epochs,\n",
    "    delta=1e-5\n",
    ")\n",
    "\n",
    "print(f\"The privacy budget (epsilon) is: {epsilon}\")"
   ]
  },
  {
   "cell_type": "markdown",
   "metadata": {},
   "source": [
    "#### Observing Privacy-Utility Tradeoff"
   ]
  },
  {
   "cell_type": "code",
   "execution_count": 38,
   "metadata": {},
   "outputs": [
    {
     "name": "stdout",
     "output_type": "stream",
     "text": [
      "\n",
      "Training with noise multiplier: 0.1\n"
     ]
    },
    {
     "name": "stderr",
     "output_type": "stream",
     "text": [
      "WARNING:absl:`compute_dp_sgd_privacy` is deprecated. It does not account for doubling of sensitivity with microbatching, and assumes Poisson subsampling, which is rarely used in practice. Please use `compute_dp_sgd_privacy_statement`, which provides appropriate context for the guarantee. To compute epsilon under different assumptions than those in `compute_dp_sgd_privacy_statement`, call the `dp_accounting` libraries directly.\n"
     ]
    },
    {
     "name": "stdout",
     "output_type": "stream",
     "text": [
      "Test accuracy: 0.8537\n",
      "Epsilon: 27619.6354\n",
      "\n",
      "Training with noise multiplier: 0.5\n"
     ]
    },
    {
     "name": "stderr",
     "output_type": "stream",
     "text": [
      "WARNING:absl:`compute_dp_sgd_privacy` is deprecated. It does not account for doubling of sensitivity with microbatching, and assumes Poisson subsampling, which is rarely used in practice. Please use `compute_dp_sgd_privacy_statement`, which provides appropriate context for the guarantee. To compute epsilon under different assumptions than those in `compute_dp_sgd_privacy_statement`, call the `dp_accounting` libraries directly.\n"
     ]
    },
    {
     "name": "stdout",
     "output_type": "stream",
     "text": [
      "Test accuracy: 0.8537\n",
      "Epsilon: 177.5309\n",
      "\n",
      "Training with noise multiplier: 1.0\n"
     ]
    },
    {
     "name": "stderr",
     "output_type": "stream",
     "text": [
      "WARNING:absl:`compute_dp_sgd_privacy` is deprecated. It does not account for doubling of sensitivity with microbatching, and assumes Poisson subsampling, which is rarely used in practice. Please use `compute_dp_sgd_privacy_statement`, which provides appropriate context for the guarantee. To compute epsilon under different assumptions than those in `compute_dp_sgd_privacy_statement`, call the `dp_accounting` libraries directly.\n"
     ]
    },
    {
     "name": "stdout",
     "output_type": "stream",
     "text": [
      "Test accuracy: 0.8293\n",
      "Epsilon: 40.7370\n",
      "\n",
      "Training with noise multiplier: 2.0\n"
     ]
    },
    {
     "name": "stderr",
     "output_type": "stream",
     "text": [
      "WARNING:absl:`compute_dp_sgd_privacy` is deprecated. It does not account for doubling of sensitivity with microbatching, and assumes Poisson subsampling, which is rarely used in practice. Please use `compute_dp_sgd_privacy_statement`, which provides appropriate context for the guarantee. To compute epsilon under different assumptions than those in `compute_dp_sgd_privacy_statement`, call the `dp_accounting` libraries directly.\n"
     ]
    },
    {
     "name": "stdout",
     "output_type": "stream",
     "text": [
      "Test accuracy: 0.8537\n",
      "Epsilon: 13.5931\n",
      "\n",
      "Noise Multiplier: 0.1\n",
      "Test Accuracy: 0.8537\n",
      "Epsilon: 27619.6354\n",
      "\n",
      "Noise Multiplier: 0.5\n",
      "Test Accuracy: 0.8537\n",
      "Epsilon: 177.5309\n",
      "\n",
      "Noise Multiplier: 1.0\n",
      "Test Accuracy: 0.8293\n",
      "Epsilon: 40.7370\n",
      "\n",
      "Noise Multiplier: 2.0\n",
      "Test Accuracy: 0.8537\n",
      "Epsilon: 13.5931\n"
     ]
    }
   ],
   "source": [
    "noise_multipliers = [0.1, 0.5, 1.0, 2.0]\n",
    "results = []\n",
    "\n",
    "for noise_multiplier in noise_multipliers:\n",
    "    \n",
    "    print(f\"\\nTraining with noise multiplier: {noise_multiplier}\")\n",
    "    \n",
    "    # Create the model\n",
    "    model = create_model(num_features, num_classes, noise_multiplier)\n",
    "    \n",
    "    # Train the model\n",
    "    history = model.fit(\n",
    "        X_train_scaled, y_train_cat,\n",
    "        epochs=epochs,\n",
    "        batch_size=batch_size,\n",
    "        validation_split=0.2,\n",
    "        verbose=0\n",
    "    )\n",
    "    \n",
    "    # Evaluate the model\n",
    "    test_loss, test_accuracy = model.evaluate(X_test_scaled, y_test_cat, verbose=0)\n",
    "    \n",
    "    # Calculate epsilon\n",
    "    epsilon, _ = compute_dp_sgd_privacy_lib.compute_dp_sgd_privacy(\n",
    "        n=len(X_train),\n",
    "        batch_size=batch_size,\n",
    "        noise_multiplier=noise_multiplier,\n",
    "        epochs=epochs,\n",
    "        delta=1e-5\n",
    "    )\n",
    "    \n",
    "    results.append({\n",
    "        'noise_multiplier': noise_multiplier,\n",
    "        'test_accuracy': test_accuracy,\n",
    "        'epsilon': epsilon\n",
    "    })\n",
    "    \n",
    "    print(f\"Test accuracy: {test_accuracy:.4f}\")\n",
    "    print(f\"Epsilon: {epsilon:.4f}\")\n",
    "    \n",
    "# Display results\n",
    "for result in results:\n",
    "    print(f\"\\nNoise Multiplier: {result['noise_multiplier']}\")\n",
    "    print(f\"Test Accuracy: {result['test_accuracy']:.4f}\")\n",
    "    print(f\"Epsilon: {result['epsilon']:.4f}\")"
   ]
  },
  {
   "cell_type": "code",
   "execution_count": 39,
   "metadata": {},
   "outputs": [
    {
     "data": {
      "image/png": "[encoded data removed]",
      "text/plain": [
       "<Figure size 1000x600 with 1 Axes>"
      ]
     },
     "metadata": {},
     "output_type": "display_data"
    }
   ],
   "source": [
    "import matplotlib.pyplot as plt\n",
    "\n",
    "epsilons = [result['epsilon'] for result in results]\n",
    "accuracies = [result['test_accuracy'] for result in results]\n",
    "\n",
    "plt.figure(figsize=(10, 6))\n",
    "plt.plot(epsilons, accuracies, 'bo-')\n",
    "plt.xlabel('Epsilon (Privacy Budget)')\n",
    "plt.ylabel('Test Accuracy')\n",
    "plt.title('Privacy-Accuracy Trade-off')\n",
    "plt.show()"
   ]
  },
  {
   "cell_type": "markdown",
   "metadata": {},
   "source": [
    "#### Define Callback for Privacy Metrics"
   ]
  },
  {
   "cell_type": "code",
   "execution_count": 40,
   "metadata": {},
   "outputs": [],
   "source": [
    "from tensorflow_privacy.privacy.privacy_tests.membership_inference_attack import membership_inference_attack as mia\n",
    "from tensorflow_privacy.privacy.privacy_tests.membership_inference_attack.data_structures import AttackInputData\n",
    "from tensorflow_privacy.privacy.privacy_tests.membership_inference_attack.data_structures import AttackResultsCollection\n",
    "from tensorflow_privacy.privacy.privacy_tests.membership_inference_attack.data_structures import AttackType\n",
    "from tensorflow_privacy.privacy.privacy_tests.membership_inference_attack.data_structures import PrivacyMetric\n",
    "from tensorflow_privacy.privacy.privacy_tests.membership_inference_attack.data_structures import PrivacyReportMetadata\n",
    "from tensorflow_privacy.privacy.privacy_tests.membership_inference_attack.data_structures import SlicingSpec\n",
    "from tensorflow_privacy.privacy.privacy_tests.membership_inference_attack import privacy_report"
   ]
  },
  {
   "cell_type": "code",
   "execution_count": 41,
   "metadata": {},
   "outputs": [],
   "source": [
    "class PrivacyMetrics(tf.keras.callbacks.Callback):\n",
    "  def __init__(self, epochs_per_report, model_name):\n",
    "    self.epochs_per_report = epochs_per_report\n",
    "    self.model_name = model_name\n",
    "    self.attack_results = []\n",
    "\n",
    "  def on_epoch_end(self, epoch, logs=None):\n",
    "    epoch = epoch+1\n",
    "\n",
    "    if epoch % self.epochs_per_report != 0:\n",
    "      return\n",
    "\n",
    "    print(f'\\nRunning privacy report for epoch: {epoch}\\n')\n",
    "\n",
    "    logits_train = self.model.predict(x_train, batch_size=batch_size)\n",
    "    logits_test = self.model.predict(x_test, batch_size=batch_size)\n",
    "\n",
    "    prob_train = special.softmax(logits_train, axis=1)\n",
    "    prob_test = special.softmax(logits_test, axis=1)\n",
    "\n",
    "    # Add metadata to generate a privacy report.\n",
    "    privacy_report_metadata = PrivacyReportMetadata(\n",
    "        # Show the validation accuracy on the plot\n",
    "        # It's what you send to train_accuracy that gets plotted.\n",
    "        accuracy_train=logs['val_accuracy'], \n",
    "        accuracy_test=logs['val_accuracy'],\n",
    "        epoch_num=epoch,\n",
    "        model_variant_label=self.model_name)\n",
    "\n",
    "    attack_results = mia.run_attacks(\n",
    "        AttackInputData(\n",
    "            labels_train=y_train_indices[:, 0],\n",
    "            labels_test=y_test_indices[:, 0],\n",
    "            probs_train=prob_train,\n",
    "            probs_test=prob_test),\n",
    "        SlicingSpec(entire_dataset=True, by_class=True),\n",
    "        attack_types=(AttackType.THRESHOLD_ATTACK,\n",
    "                      AttackType.LOGISTIC_REGRESSION),\n",
    "        privacy_report_metadata=privacy_report_metadata)\n",
    "\n",
    "    self.attack_results.append(attack_results)"
   ]
  },
  {
   "cell_type": "markdown",
   "metadata": {},
   "source": [
    "#### Train Model and Collect Privacy Metrics"
   ]
  },
  {
   "cell_type": "code",
   "execution_count": 42,
   "metadata": {},
   "outputs": [
    {
     "name": "stdout",
     "output_type": "stream",
     "text": [
      "Epoch 1/100\n"
     ]
    },
    {
     "ename": "ValueError",
     "evalue": "in user code:\n\n    File \"c:\\MONASH\\Y3S2\\FIT3164\\repo\\MDS14\\.venv\\Lib\\site-packages\\keras\\src\\engine\\training.py\", line 1401, in train_function  *\n        return step_function(self, iterator)\n    File \"c:\\MONASH\\Y3S2\\FIT3164\\repo\\MDS14\\.venv\\Lib\\site-packages\\keras\\src\\engine\\training.py\", line 1384, in step_function  **\n        outputs = model.distribute_strategy.run(run_step, args=(data,))\n    File \"c:\\MONASH\\Y3S2\\FIT3164\\repo\\MDS14\\.venv\\Lib\\site-packages\\keras\\src\\engine\\training.py\", line 1373, in run_step  **\n        outputs = model.train_step(data)\n    File \"c:\\MONASH\\Y3S2\\FIT3164\\repo\\MDS14\\.venv\\Lib\\site-packages\\keras\\src\\engine\\training.py\", line 1151, in train_step\n        loss = self.compute_loss(x, y, y_pred, sample_weight)\n    File \"c:\\MONASH\\Y3S2\\FIT3164\\repo\\MDS14\\.venv\\Lib\\site-packages\\keras\\src\\engine\\training.py\", line 1209, in compute_loss\n        return self.compiled_loss(\n    File \"c:\\MONASH\\Y3S2\\FIT3164\\repo\\MDS14\\.venv\\Lib\\site-packages\\keras\\src\\engine\\compile_utils.py\", line 277, in __call__\n        loss_value = loss_obj(y_t, y_p, sample_weight=sw)\n    File \"c:\\MONASH\\Y3S2\\FIT3164\\repo\\MDS14\\.venv\\Lib\\site-packages\\keras\\src\\losses.py\", line 143, in __call__\n        losses = call_fn(y_true, y_pred)\n    File \"c:\\MONASH\\Y3S2\\FIT3164\\repo\\MDS14\\.venv\\Lib\\site-packages\\keras\\src\\losses.py\", line 270, in call  **\n        return ag_fn(y_true, y_pred, **self._fn_kwargs)\n    File \"c:\\MONASH\\Y3S2\\FIT3164\\repo\\MDS14\\.venv\\Lib\\site-packages\\keras\\src\\losses.py\", line 2221, in categorical_crossentropy\n        return backend.categorical_crossentropy(\n    File \"c:\\MONASH\\Y3S2\\FIT3164\\repo\\MDS14\\.venv\\Lib\\site-packages\\keras\\src\\backend.py\", line 5573, in categorical_crossentropy\n        target.shape.assert_is_compatible_with(output.shape)\n\n    ValueError: Shapes (None, 1) and (None, 4) are incompatible\n",
     "output_type": "error",
     "traceback": [
      "\u001b[1;31m---------------------------------------------------------------------------\u001b[0m",
      "\u001b[1;31mValueError\u001b[0m                                Traceback (most recent call last)",
      "Cell \u001b[1;32mIn[42], line 2\u001b[0m\n\u001b[0;32m      1\u001b[0m callback \u001b[38;5;241m=\u001b[39m PrivacyMetrics(epochs_per_report\u001b[38;5;241m=\u001b[39m\u001b[38;5;241m2\u001b[39m, model_name\u001b[38;5;241m=\u001b[39m\u001b[38;5;124m\"\u001b[39m\u001b[38;5;124mDP Model\u001b[39m\u001b[38;5;124m\"\u001b[39m)\n\u001b[1;32m----> 2\u001b[0m history \u001b[38;5;241m=\u001b[39m \u001b[43mmodel_dp\u001b[49m\u001b[38;5;241;43m.\u001b[39;49m\u001b[43mfit\u001b[49m\u001b[43m(\u001b[49m\n\u001b[0;32m      3\u001b[0m \u001b[43m    \u001b[49m\u001b[43mX_train\u001b[49m\u001b[43m,\u001b[49m\u001b[43m \u001b[49m\n\u001b[0;32m      4\u001b[0m \u001b[43m    \u001b[49m\u001b[43my_train\u001b[49m\u001b[43m,\u001b[49m\n\u001b[0;32m      5\u001b[0m \u001b[43m    \u001b[49m\u001b[43mepochs\u001b[49m\u001b[38;5;241;43m=\u001b[39;49m\u001b[43mepochs\u001b[49m\u001b[43m,\u001b[49m\n\u001b[0;32m      6\u001b[0m \u001b[43m    \u001b[49m\u001b[43mvalidation_data\u001b[49m\u001b[38;5;241;43m=\u001b[39;49m\u001b[43m(\u001b[49m\u001b[43mX_test\u001b[49m\u001b[43m,\u001b[49m\u001b[43m \u001b[49m\u001b[43my_test\u001b[49m\u001b[43m)\u001b[49m\u001b[43m,\u001b[49m\n\u001b[0;32m      7\u001b[0m \u001b[43m    \u001b[49m\u001b[43mbatch_size\u001b[49m\u001b[38;5;241;43m=\u001b[39;49m\u001b[43mbatch_size\u001b[49m\u001b[43m,\u001b[49m\n\u001b[0;32m      8\u001b[0m \u001b[43m    \u001b[49m\u001b[43mcallbacks\u001b[49m\u001b[38;5;241;43m=\u001b[39;49m\u001b[43m[\u001b[49m\u001b[43mcallback\u001b[49m\u001b[43m]\u001b[49m\u001b[43m,\u001b[49m\n\u001b[0;32m      9\u001b[0m \u001b[43m    \u001b[49m\u001b[43mshuffle\u001b[49m\u001b[38;5;241;43m=\u001b[39;49m\u001b[38;5;28;43;01mTrue\u001b[39;49;00m\n\u001b[0;32m     10\u001b[0m \u001b[43m)\u001b[49m\n",
      "File \u001b[1;32mc:\\MONASH\\Y3S2\\FIT3164\\repo\\MDS14\\.venv\\Lib\\site-packages\\keras\\src\\utils\\traceback_utils.py:70\u001b[0m, in \u001b[0;36mfilter_traceback.<locals>.error_handler\u001b[1;34m(*args, **kwargs)\u001b[0m\n\u001b[0;32m     67\u001b[0m     filtered_tb \u001b[38;5;241m=\u001b[39m _process_traceback_frames(e\u001b[38;5;241m.\u001b[39m__traceback__)\n\u001b[0;32m     68\u001b[0m     \u001b[38;5;66;03m# To get the full stack trace, call:\u001b[39;00m\n\u001b[0;32m     69\u001b[0m     \u001b[38;5;66;03m# `tf.debugging.disable_traceback_filtering()`\u001b[39;00m\n\u001b[1;32m---> 70\u001b[0m     \u001b[38;5;28;01mraise\u001b[39;00m e\u001b[38;5;241m.\u001b[39mwith_traceback(filtered_tb) \u001b[38;5;28;01mfrom\u001b[39;00m \u001b[38;5;28;01mNone\u001b[39;00m\n\u001b[0;32m     71\u001b[0m \u001b[38;5;28;01mfinally\u001b[39;00m:\n\u001b[0;32m     72\u001b[0m     \u001b[38;5;28;01mdel\u001b[39;00m filtered_tb\n",
      "File \u001b[1;32m~\\AppData\\Local\\Temp\\__autograph_generated_fileq61llb44.py:15\u001b[0m, in \u001b[0;36mouter_factory.<locals>.inner_factory.<locals>.tf__train_function\u001b[1;34m(iterator)\u001b[0m\n\u001b[0;32m     13\u001b[0m \u001b[38;5;28;01mtry\u001b[39;00m:\n\u001b[0;32m     14\u001b[0m     do_return \u001b[38;5;241m=\u001b[39m \u001b[38;5;28;01mTrue\u001b[39;00m\n\u001b[1;32m---> 15\u001b[0m     retval_ \u001b[38;5;241m=\u001b[39m ag__\u001b[38;5;241m.\u001b[39mconverted_call(ag__\u001b[38;5;241m.\u001b[39mld(step_function), (ag__\u001b[38;5;241m.\u001b[39mld(\u001b[38;5;28mself\u001b[39m), ag__\u001b[38;5;241m.\u001b[39mld(iterator)), \u001b[38;5;28;01mNone\u001b[39;00m, fscope)\n\u001b[0;32m     16\u001b[0m \u001b[38;5;28;01mexcept\u001b[39;00m:\n\u001b[0;32m     17\u001b[0m     do_return \u001b[38;5;241m=\u001b[39m \u001b[38;5;28;01mFalse\u001b[39;00m\n",
      "\u001b[1;31mValueError\u001b[0m: in user code:\n\n    File \"c:\\MONASH\\Y3S2\\FIT3164\\repo\\MDS14\\.venv\\Lib\\site-packages\\keras\\src\\engine\\training.py\", line 1401, in train_function  *\n        return step_function(self, iterator)\n    File \"c:\\MONASH\\Y3S2\\FIT3164\\repo\\MDS14\\.venv\\Lib\\site-packages\\keras\\src\\engine\\training.py\", line 1384, in step_function  **\n        outputs = model.distribute_strategy.run(run_step, args=(data,))\n    File \"c:\\MONASH\\Y3S2\\FIT3164\\repo\\MDS14\\.venv\\Lib\\site-packages\\keras\\src\\engine\\training.py\", line 1373, in run_step  **\n        outputs = model.train_step(data)\n    File \"c:\\MONASH\\Y3S2\\FIT3164\\repo\\MDS14\\.venv\\Lib\\site-packages\\keras\\src\\engine\\training.py\", line 1151, in train_step\n        loss = self.compute_loss(x, y, y_pred, sample_weight)\n    File \"c:\\MONASH\\Y3S2\\FIT3164\\repo\\MDS14\\.venv\\Lib\\site-packages\\keras\\src\\engine\\training.py\", line 1209, in compute_loss\n        return self.compiled_loss(\n    File \"c:\\MONASH\\Y3S2\\FIT3164\\repo\\MDS14\\.venv\\Lib\\site-packages\\keras\\src\\engine\\compile_utils.py\", line 277, in __call__\n        loss_value = loss_obj(y_t, y_p, sample_weight=sw)\n    File \"c:\\MONASH\\Y3S2\\FIT3164\\repo\\MDS14\\.venv\\Lib\\site-packages\\keras\\src\\losses.py\", line 143, in __call__\n        losses = call_fn(y_true, y_pred)\n    File \"c:\\MONASH\\Y3S2\\FIT3164\\repo\\MDS14\\.venv\\Lib\\site-packages\\keras\\src\\losses.py\", line 270, in call  **\n        return ag_fn(y_true, y_pred, **self._fn_kwargs)\n    File \"c:\\MONASH\\Y3S2\\FIT3164\\repo\\MDS14\\.venv\\Lib\\site-packages\\keras\\src\\losses.py\", line 2221, in categorical_crossentropy\n        return backend.categorical_crossentropy(\n    File \"c:\\MONASH\\Y3S2\\FIT3164\\repo\\MDS14\\.venv\\Lib\\site-packages\\keras\\src\\backend.py\", line 5573, in categorical_crossentropy\n        target.shape.assert_is_compatible_with(output.shape)\n\n    ValueError: Shapes (None, 1) and (None, 4) are incompatible\n"
     ]
    }
   ],
   "source": [
    "callback = PrivacyMetrics(epochs_per_report=2, model_name=\"DP Model\")\n",
    "history = model_dp.fit(\n",
    "    X_train, \n",
    "    y_train,\n",
    "    epochs=epochs,\n",
    "    validation_data=(X_test, y_test),\n",
    "    batch_size=batch_size,\n",
    "    callbacks=[callback],\n",
    "    shuffle=True\n",
    ")"
   ]
  },
  {
   "cell_type": "markdown",
   "metadata": {},
   "source": [
    "#### Visualise Privacy Metrics"
   ]
  },
  {
   "cell_type": "code",
   "execution_count": null,
   "metadata": {},
   "outputs": [],
   "source": [
    "all_reports = callback.attack_results\n",
    "results = AttackResultsCollection(all_reports)"
   ]
  },
  {
   "cell_type": "markdown",
   "metadata": {},
   "source": [
    "##### Epoch Plots"
   ]
  },
  {
   "cell_type": "code",
   "execution_count": null,
   "metadata": {},
   "outputs": [],
   "source": [
    "privacy_metrics = (PrivacyMetric.AUC, PrivacyMetric.ATTACKER_ADVANTAGE)\n",
    "epoch_plot = privacy_report.plot_by_epochs(results, privacy_metrics=privacy_metrics)"
   ]
  },
  {
   "cell_type": "markdown",
   "metadata": {},
   "source": [
    "##### Privacy VS Utility Plots"
   ]
  },
  {
   "cell_type": "code",
   "execution_count": null,
   "metadata": {},
   "outputs": [],
   "source": [
    "utility_privacy_plot = privacy_report.plot_privacy_vs_accuracy(results, privacy_metrics=privacy_metrics)\n",
    "for axis in utility_privacy_plot.axes:\n",
    "    axis.set_xlabel('Validation accuracy')"
   ]
  }
 ],
 "metadata": {
  "kernelspec": {
   "display_name": ".venv",
   "language": "python",
   "name": "python3"
  },
  "language_info": {
   "codemirror_mode": {
    "name": "ipython",
    "version": 3
   },
   "file_extension": ".py",
   "mimetype": "text/x-python",
   "name": "python",
   "nbconvert_exporter": "python",
   "pygments_lexer": "ipython3",
   "version": "3.11.8"
  }
 },
 "nbformat": 4,
 "nbformat_minor": 4
}
