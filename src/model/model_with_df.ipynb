{
 "cells": [
  {
   "cell_type": "markdown",
   "metadata": {},
   "source": [
    "#### Import Libraries"
   ]
  },
  {
   "cell_type": "code",
   "execution_count": 5,
   "metadata": {},
   "outputs": [],
   "source": [
    "import tensorflow as tf\n",
    "import pandas as pd\n",
    "from sklearn.model_selection import train_test_split\n",
    "from sklearn.preprocessing import LabelEncoder\n",
    "from keras.optimizers import SGD\n",
    "from tensorflow_privacy.privacy.optimizers.dp_optimizer_keras import DPKerasSGDOptimizer\n",
    "from tensorflow_privacy.privacy.privacy_tests.membership_inference_attack import membership_inference_attack as mia\n",
    "from tensorflow_privacy.privacy.privacy_tests.membership_inference_attack.data_structures import AttackInputData, AttackResultsCollection, AttackType, PrivacyMetric, PrivacyReportMetadata, SlicingSpec\n",
    "from tensorflow_privacy.privacy.privacy_tests.membership_inference_attack import privacy_report"
   ]
  },
  {
   "cell_type": "markdown",
   "metadata": {},
   "source": [
    "#### Data Preprocessing"
   ]
  },
  {
   "cell_type": "code",
   "execution_count": 10,
   "metadata": {},
   "outputs": [],
   "source": [
    "import pandas as pd\n",
    "from sklearn.model_selection import train_test_split\n",
    "from sklearn.preprocessing import LabelEncoder\n",
    "\n",
    "# Load the dataset\n",
    "data = pd.read_csv('../data/patient_processed.csv')\n",
    "\n",
    "# Select features and labels\n",
    "features = data[['tanimoto', 'feature_jsim', 'feature_dsim', 'feature_osim']]\n",
    "labels = data['DDI']\n",
    "\n",
    "# Drop rows with NaN values in the feature columns\n",
    "features_clean = features.dropna()\n",
    "\n",
    "# Select features and labels after cleaning\n",
    "labels_clean = data['DDI'].loc[features_clean.index]\n",
    "features_clean = features_clean[['tanimoto', 'feature_jsim', 'feature_dsim', 'feature_osim']]\n",
    "\n",
    "# Encode labels\n",
    "label_encoder = LabelEncoder()\n",
    "labels_encoded = label_encoder.fit_transform(labels_clean)\n",
    "\n",
    "# Split into train and test sets\n",
    "X_train, X_test, y_train, y_test = train_test_split(features_clean, labels_encoded, test_size=0.2, random_state=42)"
   ]
  },
  {
   "cell_type": "markdown",
   "metadata": {},
   "source": [
    "#### Define Hyperparameters"
   ]
  },
  {
   "cell_type": "code",
   "execution_count": 11,
   "metadata": {},
   "outputs": [],
   "source": [
    "l2_norm_clip = 1.0\n",
    "noise_multiplier = 1.1\n",
    "num_microbatches = 1\n",
    "learning_rate = 0.01\n",
    "batch_size = 32\n",
    "epochs = 10"
   ]
  },
  {
   "cell_type": "markdown",
   "metadata": {},
   "source": [
    "#### Build and Compile the Models"
   ]
  },
  {
   "cell_type": "markdown",
   "metadata": {},
   "source": [
    "##### Differential Privacy Model"
   ]
  },
  {
   "cell_type": "code",
   "execution_count": 12,
   "metadata": {},
   "outputs": [
    {
     "name": "stdout",
     "output_type": "stream",
     "text": [
      "WARNING:tensorflow:From c:\\MONASH\\Y3S2\\FIT3164\\repo\\MDS14\\.venv\\Lib\\site-packages\\keras\\src\\backend.py:873: The name tf.get_default_graph is deprecated. Please use tf.compat.v1.get_default_graph instead.\n",
      "\n",
      "Epoch 1/10\n",
      "WARNING:tensorflow:From c:\\MONASH\\Y3S2\\FIT3164\\repo\\MDS14\\.venv\\Lib\\site-packages\\keras\\src\\utils\\tf_utils.py:492: The name tf.ragged.RaggedTensorValue is deprecated. Please use tf.compat.v1.ragged.RaggedTensorValue instead.\n",
      "\n"
     ]
    },
    {
     "name": "stderr",
     "output_type": "stream",
     "text": [
      "c:\\MONASH\\Y3S2\\FIT3164\\repo\\MDS14\\.venv\\Lib\\site-packages\\keras\\src\\backend.py:5727: UserWarning: \"`sparse_categorical_crossentropy` received `from_logits=True`, but the `output` argument was produced by a Softmax activation and thus does not represent logits. Was this intended?\n",
      "  output, from_logits = _get_logits(\n"
     ]
    },
    {
     "name": "stdout",
     "output_type": "stream",
     "text": [
      "4/4 [==============================] - 2s 83ms/step - loss: 1.3733 - accuracy: 0.4775 - val_loss: 1.3643 - val_accuracy: 0.0811\n",
      "Epoch 2/10\n",
      "4/4 [==============================] - 0s 19ms/step - loss: 1.3607 - accuracy: 0.1441 - val_loss: 1.3250 - val_accuracy: 0.7477\n",
      "Epoch 3/10\n",
      "1/4 [======>.......................] - ETA: 0s - loss: 1.3336 - accuracy: 0.6875"
     ]
    },
    {
     "name": "stderr",
     "output_type": "stream",
     "text": [
      "c:\\MONASH\\Y3S2\\FIT3164\\repo\\MDS14\\.venv\\Lib\\site-packages\\keras\\src\\backend.py:5727: UserWarning: \"`sparse_categorical_crossentropy` received `from_logits=True`, but the `output` argument was produced by a Softmax activation and thus does not represent logits. Was this intended?\n",
      "  output, from_logits = _get_logits(\n"
     ]
    },
    {
     "name": "stdout",
     "output_type": "stream",
     "text": [
      "4/4 [==============================] - 0s 19ms/step - loss: 1.2943 - accuracy: 0.7477 - val_loss: 1.2620 - val_accuracy: 0.7477\n",
      "Epoch 4/10\n",
      "4/4 [==============================] - 0s 23ms/step - loss: 1.2577 - accuracy: 0.7477 - val_loss: 1.2507 - val_accuracy: 0.7477\n",
      "Epoch 5/10\n",
      "4/4 [==============================] - 0s 17ms/step - loss: 1.2293 - accuracy: 0.7477 - val_loss: 1.1870 - val_accuracy: 0.7477\n",
      "Epoch 6/10\n",
      "4/4 [==============================] - 0s 19ms/step - loss: 1.1806 - accuracy: 0.7477 - val_loss: 1.1585 - val_accuracy: 0.7477\n",
      "Epoch 7/10\n",
      "4/4 [==============================] - 0s 17ms/step - loss: 1.1612 - accuracy: 0.7477 - val_loss: 1.1485 - val_accuracy: 0.7477\n",
      "Epoch 8/10\n",
      "4/4 [==============================] - 0s 20ms/step - loss: 1.1512 - accuracy: 0.7477 - val_loss: 1.1348 - val_accuracy: 0.7477\n",
      "Epoch 9/10\n",
      "4/4 [==============================] - 0s 19ms/step - loss: 1.1186 - accuracy: 0.7477 - val_loss: 1.1049 - val_accuracy: 0.7477\n",
      "Epoch 10/10\n",
      "4/4 [==============================] - 0s 18ms/step - loss: 1.1004 - accuracy: 0.7477 - val_loss: 1.0918 - val_accuracy: 0.7477\n"
     ]
    },
    {
     "data": {
      "text/plain": [
       "<keras.src.callbacks.History at 0x1cea86f2b50>"
      ]
     },
     "execution_count": 12,
     "metadata": {},
     "output_type": "execute_result"
    }
   ],
   "source": [
    "import tensorflow as tf\n",
    "from tensorflow_privacy.privacy.optimizers.dp_optimizer_keras import DPKerasSGDOptimizer\n",
    "\n",
    "# Define the model\n",
    "model_dp = tf.keras.Sequential([\n",
    "    tf.keras.layers.Dense(64, activation='relu', input_shape=(4,)),\n",
    "    tf.keras.layers.Dense(32, activation='relu'),\n",
    "    tf.keras.layers.Dense(len(label_encoder.classes_), activation='softmax')\n",
    "])\n",
    "\n",
    "optimizer_dp = DPKerasSGDOptimizer(\n",
    "    l2_norm_clip=l2_norm_clip,\n",
    "    noise_multiplier=noise_multiplier,\n",
    "    num_microbatches=num_microbatches,\n",
    "    learning_rate=learning_rate\n",
    ")\n",
    "\n",
    "loss_dp = tf.keras.losses.SparseCategoricalCrossentropy(from_logits=True, reduction=tf.losses.Reduction.NONE)\n",
    "\n",
    "model_dp.compile(optimizer=optimizer_dp, loss=loss_dp, metrics=['accuracy'])\n",
    "\n",
    "# Train the DP model\n",
    "model_dp.fit(X_train, y_train, epochs=10, validation_data=(X_train, y_train), batch_size=32)"
   ]
  },
  {
   "cell_type": "markdown",
   "metadata": {},
   "source": [
    "##### Non-Differential Privacy Model"
   ]
  },
  {
   "cell_type": "code",
   "execution_count": 13,
   "metadata": {},
   "outputs": [
    {
     "name": "stdout",
     "output_type": "stream",
     "text": [
      "Epoch 1/10\n"
     ]
    },
    {
     "name": "stderr",
     "output_type": "stream",
     "text": [
      "c:\\MONASH\\Y3S2\\FIT3164\\repo\\MDS14\\.venv\\Lib\\site-packages\\keras\\src\\backend.py:5727: UserWarning: \"`sparse_categorical_crossentropy` received `from_logits=True`, but the `output` argument was produced by a Softmax activation and thus does not represent logits. Was this intended?\n",
      "  output, from_logits = _get_logits(\n"
     ]
    },
    {
     "name": "stdout",
     "output_type": "stream",
     "text": [
      "4/4 [==============================] - 1s 79ms/step - loss: 0.9976 - accuracy: 0.7477 - val_loss: 0.9142 - val_accuracy: 0.7477\n",
      "Epoch 2/10\n",
      "4/4 [==============================] - 0s 20ms/step - loss: 0.8618 - accuracy: 0.7477 - val_loss: 0.8698 - val_accuracy: 0.7477\n"
     ]
    },
    {
     "name": "stderr",
     "output_type": "stream",
     "text": [
      "c:\\MONASH\\Y3S2\\FIT3164\\repo\\MDS14\\.venv\\Lib\\site-packages\\keras\\src\\backend.py:5727: UserWarning: \"`sparse_categorical_crossentropy` received `from_logits=True`, but the `output` argument was produced by a Softmax activation and thus does not represent logits. Was this intended?\n",
      "  output, from_logits = _get_logits(\n"
     ]
    },
    {
     "name": "stdout",
     "output_type": "stream",
     "text": [
      "Epoch 3/10\n",
      "4/4 [==============================] - 0s 22ms/step - loss: 0.9042 - accuracy: 0.7477 - val_loss: 0.8240 - val_accuracy: 0.7477\n",
      "Epoch 4/10\n",
      "4/4 [==============================] - 0s 20ms/step - loss: 0.8530 - accuracy: 0.7477 - val_loss: 0.8421 - val_accuracy: 0.7477\n",
      "Epoch 5/10\n",
      "4/4 [==============================] - 0s 22ms/step - loss: 0.8419 - accuracy: 0.7477 - val_loss: 0.8354 - val_accuracy: 0.7477\n",
      "Epoch 6/10\n",
      "4/4 [==============================] - 0s 25ms/step - loss: 0.8570 - accuracy: 0.7477 - val_loss: 0.8169 - val_accuracy: 0.7477\n",
      "Epoch 7/10\n",
      "4/4 [==============================] - 0s 21ms/step - loss: 0.8081 - accuracy: 0.7477 - val_loss: 0.8361 - val_accuracy: 0.7477\n",
      "Epoch 8/10\n",
      "4/4 [==============================] - 0s 19ms/step - loss: 0.8319 - accuracy: 0.7477 - val_loss: 0.8129 - val_accuracy: 0.7477\n",
      "Epoch 9/10\n",
      "4/4 [==============================] - 0s 21ms/step - loss: 0.8095 - accuracy: 0.7477 - val_loss: 0.8077 - val_accuracy: 0.7477\n",
      "Epoch 10/10\n",
      "4/4 [==============================] - 0s 18ms/step - loss: 0.7885 - accuracy: 0.7477 - val_loss: 0.7950 - val_accuracy: 0.7477\n"
     ]
    },
    {
     "data": {
      "text/plain": [
       "<keras.src.callbacks.History at 0x1cea8c7dad0>"
      ]
     },
     "execution_count": 13,
     "metadata": {},
     "output_type": "execute_result"
    }
   ],
   "source": [
    "from keras.optimizers import SGD\n",
    "\n",
    "# Define the model\n",
    "model = tf.keras.Sequential([\n",
    "    tf.keras.layers.Dense(64, activation='relu', input_shape=(4,)),\n",
    "    tf.keras.layers.Dense(32, activation='relu'),\n",
    "    tf.keras.layers.Dense(len(label_encoder.classes_), activation='softmax')\n",
    "])\n",
    "\n",
    "optimizer_dp = DPKerasSGDOptimizer(\n",
    "    l2_norm_clip=l2_norm_clip,\n",
    "    noise_multiplier=noise_multiplier,\n",
    "    num_microbatches=num_microbatches,\n",
    "    learning_rate=learning_rate\n",
    ")\n",
    "\n",
    "loss_dp = tf.keras.losses.SparseCategoricalCrossentropy(from_logits=True, reduction=tf.losses.Reduction.NONE)\n",
    "\n",
    "model_dp.compile(optimizer=SGD(learning_rate=0.01, momentum=0.9), loss=loss_dp, metrics=['accuracy'])\n",
    "\n",
    "# Train the DP model\n",
    "model_dp.fit(X_train, y_train, epochs=10, validation_data=(X_train, y_train), batch_size=32)"
   ]
  },
  {
   "cell_type": "markdown",
   "metadata": {},
   "source": [
    "#### Define Callback for Privacy Metrics"
   ]
  },
  {
   "cell_type": "code",
   "execution_count": 14,
   "metadata": {},
   "outputs": [],
   "source": [
    "class PrivacyMetrics(tf.keras.callbacks.Callback):\n",
    "    def __init__(self, epochs_per_report, model_name):\n",
    "        self.epochs_per_report = epochs_per_report\n",
    "        self.model_name = model_name\n",
    "        self.attack_results = []\n",
    "\n",
    "    def on_epoch_end(self, epoch, logs=None):\n",
    "        if (epoch + 1) % self.epochs_per_report != 0:\n",
    "            return\n",
    "\n",
    "        logits_train = self.model.predict(X_train, batch_size=batch_size)\n",
    "        logits_test = self.model.predict(X_test, batch_size=batch_size)\n",
    "\n",
    "        prob_train = tf.nn.softmax(logits_train, axis=1)\n",
    "        prob_test = tf.nn.softmax(logits_test, axis=1)\n",
    "\n",
    "        privacy_report_metadata = PrivacyReportMetadata(\n",
    "            accuracy_train=logs['accuracy'],\n",
    "            accuracy_test=logs['val_accuracy'],\n",
    "            epoch_num=epoch + 1,\n",
    "            model_variant_label=self.model_name\n",
    "        )\n",
    "\n",
    "        attack_results = mia.run_attacks(\n",
    "            AttackInputData(\n",
    "                labels_train=y_train,\n",
    "                labels_test=y_test,\n",
    "                probs_train=prob_train,\n",
    "                probs_test=prob_test\n",
    "            ),\n",
    "            SlicingSpec(entire_dataset=True, by_class=True),\n",
    "            attack_types=(AttackType.THRESHOLD_ATTACK, AttackType.LOGISTIC_REGRESSION),\n",
    "            privacy_report_metadata=privacy_report_metadata\n",
    "        )\n",
    "\n",
    "        self.attack_results.append(attack_results)"
   ]
  },
  {
   "cell_type": "markdown",
   "metadata": {},
   "source": [
    "#### Train Model and Collect Privacy Metrics"
   ]
  },
  {
   "cell_type": "code",
   "execution_count": 15,
   "metadata": {},
   "outputs": [
    {
     "name": "stdout",
     "output_type": "stream",
     "text": [
      "Epoch 1/10\n",
      "4/4 [==============================] - 0s 33ms/step - loss: 0.7836 - accuracy: 0.7477 - val_loss: 1.0185 - val_accuracy: 0.6071\n",
      "Epoch 2/10\n",
      "4/4 [==============================] - 0s 2ms/steposs: 0.5385 - accuracy: 0.87\n",
      "1/1 [==============================] - 0s 24ms/step\n"
     ]
    },
    {
     "ename": "ValueError",
     "evalue": "probs_train should be a numpy array.",
     "output_type": "error",
     "traceback": [
      "\u001b[1;31m---------------------------------------------------------------------------\u001b[0m",
      "\u001b[1;31mValueError\u001b[0m                                Traceback (most recent call last)",
      "Cell \u001b[1;32mIn[15], line 2\u001b[0m\n\u001b[0;32m      1\u001b[0m callback \u001b[38;5;241m=\u001b[39m PrivacyMetrics(epochs_per_report\u001b[38;5;241m=\u001b[39m\u001b[38;5;241m2\u001b[39m, model_name\u001b[38;5;241m=\u001b[39m\u001b[38;5;124m\"\u001b[39m\u001b[38;5;124mDP Model\u001b[39m\u001b[38;5;124m\"\u001b[39m)\n\u001b[1;32m----> 2\u001b[0m history \u001b[38;5;241m=\u001b[39m \u001b[43mmodel_dp\u001b[49m\u001b[38;5;241;43m.\u001b[39;49m\u001b[43mfit\u001b[49m\u001b[43m(\u001b[49m\n\u001b[0;32m      3\u001b[0m \u001b[43m    \u001b[49m\u001b[43mX_train\u001b[49m\u001b[43m,\u001b[49m\u001b[43m \u001b[49m\u001b[43my_train\u001b[49m\u001b[43m,\u001b[49m\n\u001b[0;32m      4\u001b[0m \u001b[43m    \u001b[49m\u001b[43mepochs\u001b[49m\u001b[38;5;241;43m=\u001b[39;49m\u001b[43mepochs\u001b[49m\u001b[43m,\u001b[49m\n\u001b[0;32m      5\u001b[0m \u001b[43m    \u001b[49m\u001b[43mvalidation_data\u001b[49m\u001b[38;5;241;43m=\u001b[39;49m\u001b[43m(\u001b[49m\u001b[43mX_test\u001b[49m\u001b[43m,\u001b[49m\u001b[43m \u001b[49m\u001b[43my_test\u001b[49m\u001b[43m)\u001b[49m\u001b[43m,\u001b[49m\n\u001b[0;32m      6\u001b[0m \u001b[43m    \u001b[49m\u001b[43mbatch_size\u001b[49m\u001b[38;5;241;43m=\u001b[39;49m\u001b[43mbatch_size\u001b[49m\u001b[43m,\u001b[49m\n\u001b[0;32m      7\u001b[0m \u001b[43m    \u001b[49m\u001b[43mcallbacks\u001b[49m\u001b[38;5;241;43m=\u001b[39;49m\u001b[43m[\u001b[49m\u001b[43mcallback\u001b[49m\u001b[43m]\u001b[49m\n\u001b[0;32m      8\u001b[0m \u001b[43m)\u001b[49m\n",
      "File \u001b[1;32mc:\\MONASH\\Y3S2\\FIT3164\\repo\\MDS14\\.venv\\Lib\\site-packages\\keras\\src\\utils\\traceback_utils.py:70\u001b[0m, in \u001b[0;36mfilter_traceback.<locals>.error_handler\u001b[1;34m(*args, **kwargs)\u001b[0m\n\u001b[0;32m     67\u001b[0m     filtered_tb \u001b[38;5;241m=\u001b[39m _process_traceback_frames(e\u001b[38;5;241m.\u001b[39m__traceback__)\n\u001b[0;32m     68\u001b[0m     \u001b[38;5;66;03m# To get the full stack trace, call:\u001b[39;00m\n\u001b[0;32m     69\u001b[0m     \u001b[38;5;66;03m# `tf.debugging.disable_traceback_filtering()`\u001b[39;00m\n\u001b[1;32m---> 70\u001b[0m     \u001b[38;5;28;01mraise\u001b[39;00m e\u001b[38;5;241m.\u001b[39mwith_traceback(filtered_tb) \u001b[38;5;28;01mfrom\u001b[39;00m \u001b[38;5;28;01mNone\u001b[39;00m\n\u001b[0;32m     71\u001b[0m \u001b[38;5;28;01mfinally\u001b[39;00m:\n\u001b[0;32m     72\u001b[0m     \u001b[38;5;28;01mdel\u001b[39;00m filtered_tb\n",
      "Cell \u001b[1;32mIn[14], line 24\u001b[0m, in \u001b[0;36mPrivacyMetrics.on_epoch_end\u001b[1;34m(self, epoch, logs)\u001b[0m\n\u001b[0;32m     15\u001b[0m prob_test \u001b[38;5;241m=\u001b[39m tf\u001b[38;5;241m.\u001b[39mnn\u001b[38;5;241m.\u001b[39msoftmax(logits_test, axis\u001b[38;5;241m=\u001b[39m\u001b[38;5;241m1\u001b[39m)\n\u001b[0;32m     17\u001b[0m privacy_report_metadata \u001b[38;5;241m=\u001b[39m PrivacyReportMetadata(\n\u001b[0;32m     18\u001b[0m     accuracy_train\u001b[38;5;241m=\u001b[39mlogs[\u001b[38;5;124m'\u001b[39m\u001b[38;5;124maccuracy\u001b[39m\u001b[38;5;124m'\u001b[39m],\n\u001b[0;32m     19\u001b[0m     accuracy_test\u001b[38;5;241m=\u001b[39mlogs[\u001b[38;5;124m'\u001b[39m\u001b[38;5;124mval_accuracy\u001b[39m\u001b[38;5;124m'\u001b[39m],\n\u001b[0;32m     20\u001b[0m     epoch_num\u001b[38;5;241m=\u001b[39mepoch \u001b[38;5;241m+\u001b[39m \u001b[38;5;241m1\u001b[39m,\n\u001b[0;32m     21\u001b[0m     model_variant_label\u001b[38;5;241m=\u001b[39m\u001b[38;5;28mself\u001b[39m\u001b[38;5;241m.\u001b[39mmodel_name\n\u001b[0;32m     22\u001b[0m )\n\u001b[1;32m---> 24\u001b[0m attack_results \u001b[38;5;241m=\u001b[39m \u001b[43mmia\u001b[49m\u001b[38;5;241;43m.\u001b[39;49m\u001b[43mrun_attacks\u001b[49m\u001b[43m(\u001b[49m\n\u001b[0;32m     25\u001b[0m \u001b[43m    \u001b[49m\u001b[43mAttackInputData\u001b[49m\u001b[43m(\u001b[49m\n\u001b[0;32m     26\u001b[0m \u001b[43m        \u001b[49m\u001b[43mlabels_train\u001b[49m\u001b[38;5;241;43m=\u001b[39;49m\u001b[43my_train\u001b[49m\u001b[43m,\u001b[49m\n\u001b[0;32m     27\u001b[0m \u001b[43m        \u001b[49m\u001b[43mlabels_test\u001b[49m\u001b[38;5;241;43m=\u001b[39;49m\u001b[43my_test\u001b[49m\u001b[43m,\u001b[49m\n\u001b[0;32m     28\u001b[0m \u001b[43m        \u001b[49m\u001b[43mprobs_train\u001b[49m\u001b[38;5;241;43m=\u001b[39;49m\u001b[43mprob_train\u001b[49m\u001b[43m,\u001b[49m\n\u001b[0;32m     29\u001b[0m \u001b[43m        \u001b[49m\u001b[43mprobs_test\u001b[49m\u001b[38;5;241;43m=\u001b[39;49m\u001b[43mprob_test\u001b[49m\n\u001b[0;32m     30\u001b[0m \u001b[43m    \u001b[49m\u001b[43m)\u001b[49m\u001b[43m,\u001b[49m\n\u001b[0;32m     31\u001b[0m \u001b[43m    \u001b[49m\u001b[43mSlicingSpec\u001b[49m\u001b[43m(\u001b[49m\u001b[43mentire_dataset\u001b[49m\u001b[38;5;241;43m=\u001b[39;49m\u001b[38;5;28;43;01mTrue\u001b[39;49;00m\u001b[43m,\u001b[49m\u001b[43m \u001b[49m\u001b[43mby_class\u001b[49m\u001b[38;5;241;43m=\u001b[39;49m\u001b[38;5;28;43;01mTrue\u001b[39;49;00m\u001b[43m)\u001b[49m\u001b[43m,\u001b[49m\n\u001b[0;32m     32\u001b[0m \u001b[43m    \u001b[49m\u001b[43mattack_types\u001b[49m\u001b[38;5;241;43m=\u001b[39;49m\u001b[43m(\u001b[49m\u001b[43mAttackType\u001b[49m\u001b[38;5;241;43m.\u001b[39;49m\u001b[43mTHRESHOLD_ATTACK\u001b[49m\u001b[43m,\u001b[49m\u001b[43m \u001b[49m\u001b[43mAttackType\u001b[49m\u001b[38;5;241;43m.\u001b[39;49m\u001b[43mLOGISTIC_REGRESSION\u001b[49m\u001b[43m)\u001b[49m\u001b[43m,\u001b[49m\n\u001b[0;32m     33\u001b[0m \u001b[43m    \u001b[49m\u001b[43mprivacy_report_metadata\u001b[49m\u001b[38;5;241;43m=\u001b[39;49m\u001b[43mprivacy_report_metadata\u001b[49m\n\u001b[0;32m     34\u001b[0m \u001b[43m\u001b[49m\u001b[43m)\u001b[49m\n\u001b[0;32m     36\u001b[0m \u001b[38;5;28mself\u001b[39m\u001b[38;5;241m.\u001b[39mattack_results\u001b[38;5;241m.\u001b[39mappend(attack_results)\n",
      "File \u001b[1;32mc:\\MONASH\\Y3S2\\FIT3164\\repo\\MDS14\\.venv\\Lib\\site-packages\\tensorflow_privacy\\privacy\\privacy_tests\\membership_inference_attack\\membership_inference_attack.py:327\u001b[0m, in \u001b[0;36mrun_attacks\u001b[1;34m(attack_input, slicing_spec, attack_types, privacy_report_metadata, balance_attacker_training, min_num_samples, backend, return_slice_indices)\u001b[0m\n\u001b[0;32m    290\u001b[0m \u001b[38;5;28;01mdef\u001b[39;00m \u001b[38;5;21mrun_attacks\u001b[39m(\n\u001b[0;32m    291\u001b[0m     attack_input: AttackInputData,\n\u001b[0;32m    292\u001b[0m     slicing_spec: SlicingSpec \u001b[38;5;241m=\u001b[39m \u001b[38;5;28;01mNone\u001b[39;00m,\n\u001b[1;32m   (...)\u001b[0m\n\u001b[0;32m    298\u001b[0m     return_slice_indices\u001b[38;5;241m=\u001b[39m\u001b[38;5;28;01mFalse\u001b[39;00m,\n\u001b[0;32m    299\u001b[0m ) \u001b[38;5;241m-\u001b[39m\u001b[38;5;241m>\u001b[39m AttackResults:\n\u001b[0;32m    300\u001b[0m \u001b[38;5;250m  \u001b[39m\u001b[38;5;124;03m\"\"\"Runs membership inference attacks on a classification model.\u001b[39;00m\n\u001b[0;32m    301\u001b[0m \n\u001b[0;32m    302\u001b[0m \u001b[38;5;124;03m  It runs attacks specified by attack_types on each attack_input slice which is\u001b[39;00m\n\u001b[1;32m   (...)\u001b[0m\n\u001b[0;32m    325\u001b[0m \u001b[38;5;124;03m    the attack result.\u001b[39;00m\n\u001b[0;32m    326\u001b[0m \u001b[38;5;124;03m  \"\"\"\u001b[39;00m\n\u001b[1;32m--> 327\u001b[0m   \u001b[43mattack_input\u001b[49m\u001b[38;5;241;43m.\u001b[39;49m\u001b[43mvalidate\u001b[49m\u001b[43m(\u001b[49m\u001b[43m)\u001b[49m\n\u001b[0;32m    328\u001b[0m   attack_results \u001b[38;5;241m=\u001b[39m []\n\u001b[0;32m    329\u001b[0m   attack_types \u001b[38;5;241m=\u001b[39m \u001b[38;5;28mlist\u001b[39m(attack_types)\n",
      "File \u001b[1;32mc:\\MONASH\\Y3S2\\FIT3164\\repo\\MDS14\\.venv\\Lib\\site-packages\\tensorflow_privacy\\privacy\\privacy_tests\\membership_inference_attack\\data_structures.py:584\u001b[0m, in \u001b[0;36mAttackInputData.validate\u001b[1;34m(self)\u001b[0m\n\u001b[0;32m    582\u001b[0m _is_np_array(\u001b[38;5;28mself\u001b[39m\u001b[38;5;241m.\u001b[39mlogits_train, \u001b[38;5;124m'\u001b[39m\u001b[38;5;124mlogits_train\u001b[39m\u001b[38;5;124m'\u001b[39m)\n\u001b[0;32m    583\u001b[0m _is_np_array(\u001b[38;5;28mself\u001b[39m\u001b[38;5;241m.\u001b[39mlogits_test, \u001b[38;5;124m'\u001b[39m\u001b[38;5;124mlogits_test\u001b[39m\u001b[38;5;124m'\u001b[39m)\n\u001b[1;32m--> 584\u001b[0m \u001b[43m_is_np_array\u001b[49m\u001b[43m(\u001b[49m\u001b[38;5;28;43mself\u001b[39;49m\u001b[38;5;241;43m.\u001b[39;49m\u001b[43mprobs_train\u001b[49m\u001b[43m,\u001b[49m\u001b[43m \u001b[49m\u001b[38;5;124;43m'\u001b[39;49m\u001b[38;5;124;43mprobs_train\u001b[39;49m\u001b[38;5;124;43m'\u001b[39;49m\u001b[43m)\u001b[49m\n\u001b[0;32m    585\u001b[0m _is_np_array(\u001b[38;5;28mself\u001b[39m\u001b[38;5;241m.\u001b[39mprobs_test, \u001b[38;5;124m'\u001b[39m\u001b[38;5;124mprobs_test\u001b[39m\u001b[38;5;124m'\u001b[39m)\n\u001b[0;32m    586\u001b[0m _is_np_array(\u001b[38;5;28mself\u001b[39m\u001b[38;5;241m.\u001b[39mlabels_train, \u001b[38;5;124m'\u001b[39m\u001b[38;5;124mlabels_train\u001b[39m\u001b[38;5;124m'\u001b[39m)\n",
      "File \u001b[1;32mc:\\MONASH\\Y3S2\\FIT3164\\repo\\MDS14\\.venv\\Lib\\site-packages\\tensorflow_privacy\\privacy\\privacy_tests\\membership_inference_attack\\data_structures.py:238\u001b[0m, in \u001b[0;36m_is_np_array\u001b[1;34m(arr, arr_name)\u001b[0m\n\u001b[0;32m    236\u001b[0m \u001b[38;5;250m\u001b[39m\u001b[38;5;124;03m\"\"\"Checks whether array is a numpy array.\"\"\"\u001b[39;00m\n\u001b[0;32m    237\u001b[0m \u001b[38;5;28;01mif\u001b[39;00m arr \u001b[38;5;129;01mis\u001b[39;00m \u001b[38;5;129;01mnot\u001b[39;00m \u001b[38;5;28;01mNone\u001b[39;00m \u001b[38;5;129;01mand\u001b[39;00m \u001b[38;5;129;01mnot\u001b[39;00m \u001b[38;5;28misinstance\u001b[39m(arr, np\u001b[38;5;241m.\u001b[39mndarray):\n\u001b[1;32m--> 238\u001b[0m   \u001b[38;5;28;01mraise\u001b[39;00m \u001b[38;5;167;01mValueError\u001b[39;00m(\u001b[38;5;124m'\u001b[39m\u001b[38;5;132;01m%s\u001b[39;00m\u001b[38;5;124m should be a numpy array.\u001b[39m\u001b[38;5;124m'\u001b[39m \u001b[38;5;241m%\u001b[39m arr_name)\n",
      "\u001b[1;31mValueError\u001b[0m: probs_train should be a numpy array."
     ]
    }
   ],
   "source": [
    "callback = PrivacyMetrics(epochs_per_report=2, model_name=\"DP Model\")\n",
    "history = model_dp.fit(\n",
    "    X_train, y_train,\n",
    "    epochs=epochs,\n",
    "    validation_data=(X_test, y_test),\n",
    "    batch_size=batch_size,\n",
    "    callbacks=[callback]\n",
    ")"
   ]
  },
  {
   "cell_type": "markdown",
   "metadata": {},
   "source": [
    "#### Visualise Privacy Metrics"
   ]
  },
  {
   "cell_type": "code",
   "execution_count": null,
   "metadata": {},
   "outputs": [],
   "source": [
    "all_reports = callback.attack_results\n",
    "results = AttackResultsCollection(all_reports)"
   ]
  },
  {
   "cell_type": "markdown",
   "metadata": {},
   "source": [
    "##### Epoch Plots"
   ]
  },
  {
   "cell_type": "code",
   "execution_count": null,
   "metadata": {},
   "outputs": [],
   "source": [
    "privacy_metrics = (PrivacyMetric.AUC, PrivacyMetric.ATTACKER_ADVANTAGE)\n",
    "epoch_plot = privacy_report.plot_by_epochs(results, privacy_metrics=privacy_metrics)"
   ]
  },
  {
   "cell_type": "markdown",
   "metadata": {},
   "source": [
    "##### Privacy VS Utility Plots"
   ]
  },
  {
   "cell_type": "code",
   "execution_count": null,
   "metadata": {},
   "outputs": [],
   "source": [
    "utility_privacy_plot = privacy_report.plot_privacy_vs_accuracy(results, privacy_metrics=privacy_metrics)\n",
    "for axis in utility_privacy_plot.axes:\n",
    "    axis.set_xlabel('Validation accuracy')"
   ]
  }
 ],
 "metadata": {
  "kernelspec": {
   "display_name": "venv",
   "language": "python",
   "name": "python3"
  },
  "language_info": {
   "codemirror_mode": {
    "name": "ipython",
    "version": 3
   },
   "file_extension": ".py",
   "mimetype": "text/x-python",
   "name": "python",
   "nbconvert_exporter": "python",
   "pygments_lexer": "ipython3",
   "version": "3.11.8"
  }
 },
 "nbformat": 4,
 "nbformat_minor": 2
}
