{
 "cells": [
  {
   "cell_type": "markdown",
   "metadata": {},
   "source": [
    "#### Import Libraries"
   ]
  },
  {
   "cell_type": "code",
   "execution_count": 1,
   "metadata": {},
   "outputs": [
    {
     "name": "stdout",
     "output_type": "stream",
     "text": [
      "WARNING:tensorflow:From c:\\MONASH\\Y3S2\\FIT3164\\repo\\MDS14\\.venv\\Lib\\site-packages\\keras\\src\\losses.py:2976: The name tf.losses.sparse_softmax_cross_entropy is deprecated. Please use tf.compat.v1.losses.sparse_softmax_cross_entropy instead.\n",
      "\n",
      "WARNING:tensorflow:From c:\\MONASH\\Y3S2\\FIT3164\\repo\\MDS14\\.venv\\Lib\\site-packages\\tensorflow_estimator\\python\\estimator\\util.py:74: The name tf.train.SessionRunHook is deprecated. Please use tf.estimator.SessionRunHook instead.\n",
      "\n",
      "WARNING:tensorflow:From c:\\MONASH\\Y3S2\\FIT3164\\repo\\MDS14\\.venv\\Lib\\site-packages\\tensorflow_probability\\python\\internal\\backend\\numpy\\_utils.py:48: The name tf.logging.TaskLevelStatusMessage is deprecated. Please use tf.compat.v1.logging.TaskLevelStatusMessage instead.\n",
      "\n",
      "WARNING:tensorflow:From c:\\MONASH\\Y3S2\\FIT3164\\repo\\MDS14\\.venv\\Lib\\site-packages\\tensorflow_probability\\python\\internal\\backend\\numpy\\_utils.py:48: The name tf.control_flow_v2_enabled is deprecated. Please use tf.compat.v1.control_flow_v2_enabled instead.\n",
      "\n"
     ]
    }
   ],
   "source": [
    "import tensorflow as tf\n",
    "import pandas as pd\n",
    "from sklearn.model_selection import train_test_split\n",
    "from sklearn.preprocessing import LabelEncoder\n",
    "from keras.optimizers import SGD\n",
    "from tensorflow_privacy.privacy.optimizers.dp_optimizer_keras import DPKerasSGDOptimizer\n",
    "from tensorflow_privacy.privacy.privacy_tests.membership_inference_attack import membership_inference_attack as mia\n",
    "from tensorflow_privacy.privacy.privacy_tests.membership_inference_attack.data_structures import AttackInputData, AttackResultsCollection, AttackType, PrivacyMetric, PrivacyReportMetadata, SlicingSpec\n",
    "from tensorflow_privacy.privacy.privacy_tests.membership_inference_attack import privacy_report"
   ]
  },
  {
   "cell_type": "markdown",
   "metadata": {},
   "source": [
    "#### Data Preprocessing"
   ]
  },
  {
   "cell_type": "code",
   "execution_count": 2,
   "metadata": {},
   "outputs": [],
   "source": [
    "import pandas as pd\n",
    "import numpy as np\n",
    "from sklearn.model_selection import train_test_split\n",
    "from sklearn.preprocessing import StandardScaler\n",
    "from tensorflow.keras.utils import to_categorical\n",
    "\n",
    "# Load the dataset\n",
    "data = pd.read_csv('../data/patient_processed.csv')"
   ]
  },
  {
   "cell_type": "code",
   "execution_count": 3,
   "metadata": {},
   "outputs": [],
   "source": [
    "# Select the relevant columns\n",
    "features = data[['tanimoto', 'feature_jsim', 'feature_dsim', 'feature_osim']]\n",
    "labels = data['DDI']\n",
    "\n",
    "# Map DDI levels to the numeric values\n",
    "ddi_mapping = {'no interaction found': 0, 'minor': 1, 'moderate': 2, 'major': 3}\n",
    "labels = labels.map(ddi_mapping)"
   ]
  },
  {
   "cell_type": "code",
   "execution_count": 4,
   "metadata": {},
   "outputs": [],
   "source": [
    "# Handle missing values\n",
    "features = features.fillna(features.mean())"
   ]
  },
  {
   "cell_type": "code",
   "execution_count": 5,
   "metadata": {},
   "outputs": [],
   "source": [
    "# Split the data into training and testing\n",
    "X_train, X_test, y_train, y_test = train_test_split(\n",
    "    features, \n",
    "    labels, \n",
    "    test_size=0.2, \n",
    "    random_state=42\n",
    ")"
   ]
  },
  {
   "cell_type": "code",
   "execution_count": 6,
   "metadata": {},
   "outputs": [],
   "source": [
    "# Scale the input features\n",
    "scaler = StandardScaler()\n",
    "X_train_scaled = scaler.fit_transform(X_train)\n",
    "X_test_scaled = scaler.transform(X_test)"
   ]
  },
  {
   "cell_type": "code",
   "execution_count": 7,
   "metadata": {},
   "outputs": [],
   "source": [
    "# Convert the target variable to a categorical format\n",
    "num_classes = len(ddi_mapping)\n",
    "y_train_cat = to_categorical(y_train, num_classes)\n",
    "y_test_cat = to_categorical(y_test, num_classes)"
   ]
  },
  {
   "cell_type": "markdown",
   "metadata": {},
   "source": [
    "#### Define Hyperparameters"
   ]
  },
  {
   "cell_type": "code",
   "execution_count": 8,
   "metadata": {},
   "outputs": [],
   "source": [
    "# Model Hypeparameters\n",
    "num_features = len(ddi_mapping)\n",
    "num_classes = X_train_scaled.shape[1]\n",
    "learning_rate = 0.01\n",
    "batch_size = 32\n",
    "epochs = 100\n",
    "\n",
    "# Privacy Hyperparameters\n",
    "l2_norm_clip = 1.0\n",
    "noise_multiplier = 1.1\n",
    "num_microbatches = 1"
   ]
  },
  {
   "cell_type": "markdown",
   "metadata": {},
   "source": [
    "#### Build and Compile the Models"
   ]
  },
  {
   "cell_type": "markdown",
   "metadata": {},
   "source": [
    "##### Model Architecture"
   ]
  },
  {
   "cell_type": "code",
   "execution_count": 25,
   "metadata": {},
   "outputs": [],
   "source": [
    "import tensorflow as tf\n",
    "from tensorflow import keras\n",
    "\n",
    "def create_model(num_features, num_classes, noise_multiplier = 1.1):\n",
    "    model = keras.Sequential([\n",
    "        keras.layers.Input(shape=(num_features,)),\n",
    "        keras.layers.Dense(64, activation='relu'),\n",
    "        keras.layers.Dense(32, activation='relu'),\n",
    "        keras.layers.Dense(16, activation='relu'),\n",
    "        keras.layers.Dense(num_classes, activation='softmax')\n",
    "    ])\n",
    "    \n",
    "    optimizer = DPKerasSGDOptimizer(\n",
    "            l2_norm_clip=l2_norm_clip,\n",
    "            noise_multiplier=noise_multiplier,\n",
    "            num_microbatches=num_microbatches,\n",
    "            learning_rate=learning_rate\n",
    "        )\n",
    "    \n",
    "    model.compile(\n",
    "        optimizer = optimizer,\n",
    "        loss='categorical_crossentropy',\n",
    "        metrics=['accuracy']\n",
    "    )\n",
    "    \n",
    "    return model"
   ]
  },
  {
   "cell_type": "markdown",
   "metadata": {},
   "source": [
    "##### Differential Privacy Model"
   ]
  },
  {
   "cell_type": "code",
   "execution_count": 29,
   "metadata": {},
   "outputs": [
    {
     "name": "stdout",
     "output_type": "stream",
     "text": [
      "Epoch 1/10\n",
      "5/5 [==============================] - 2s 60ms/step - loss: 1.4662 - accuracy: 0.0930 - val_loss: 1.4417 - val_accuracy: 0.0303 - lr: 0.0100\n",
      "Epoch 2/10\n",
      "5/5 [==============================] - 0s 14ms/step - loss: 1.4555 - accuracy: 0.0930 - val_loss: 1.4581 - val_accuracy: 0.0303 - lr: 0.0100\n",
      "Epoch 3/10\n",
      "5/5 [==============================] - 0s 14ms/step - loss: 1.4610 - accuracy: 0.1008 - val_loss: 1.4520 - val_accuracy: 0.0303 - lr: 0.0100\n",
      "Epoch 4/10\n",
      "5/5 [==============================] - 0s 16ms/step - loss: 1.4537 - accuracy: 0.1085 - val_loss: 1.3906 - val_accuracy: 0.3333 - lr: 0.0100\n",
      "Epoch 5/10\n",
      "5/5 [==============================] - 0s 17ms/step - loss: 1.4008 - accuracy: 0.3953 - val_loss: 1.3495 - val_accuracy: 0.6061 - lr: 0.0100\n",
      "Epoch 6/10\n",
      "5/5 [==============================] - 0s 16ms/step - loss: 1.3609 - accuracy: 0.5504 - val_loss: 1.2590 - val_accuracy: 0.6970 - lr: 0.0100\n",
      "Epoch 7/10\n",
      "5/5 [==============================] - 0s 15ms/step - loss: 1.2901 - accuracy: 0.6822 - val_loss: 1.2327 - val_accuracy: 0.8182 - lr: 0.0100\n",
      "Epoch 8/10\n",
      "5/5 [==============================] - 0s 14ms/step - loss: 1.2611 - accuracy: 0.7519 - val_loss: 1.1811 - val_accuracy: 0.8485 - lr: 0.0100\n",
      "Epoch 9/10\n",
      "5/5 [==============================] - 0s 16ms/step - loss: 1.2405 - accuracy: 0.7287 - val_loss: 1.1394 - val_accuracy: 0.8788 - lr: 0.0100\n",
      "Epoch 10/10\n",
      "5/5 [==============================] - 0s 14ms/step - loss: 1.2032 - accuracy: 0.7364 - val_loss: 1.1177 - val_accuracy: 0.8788 - lr: 0.0100\n"
     ]
    }
   ],
   "source": [
    "# Build a model with differential privacy\n",
    "model_dp = create_model(num_features, num_classes)\n",
    "\n",
    "# Use callbacks for early stopping and learning rate scheduling\n",
    "early_stopping = keras.callbacks.EarlyStopping(patience=10, restore_best_weights=True)\n",
    "lr_scheduler = keras.callbacks.ReduceLROnPlateau(factor=0.5, patience=5)\n",
    "\n",
    "# Train the model\n",
    "history = model_dp.fit(\n",
    "    X_train_scaled, y_train_cat,\n",
    "    epochs=epochs,\n",
    "    batch_size=batch_size,\n",
    "    validation_split=0.2,\n",
    "    verbose=1,\n",
    "    callbacks =[early_stopping, lr_scheduler]\n",
    ")"
   ]
  },
  {
   "cell_type": "code",
   "execution_count": 30,
   "metadata": {},
   "outputs": [
    {
     "name": "stdout",
     "output_type": "stream",
     "text": [
      "2/2 [==============================] - 0s 7ms/step - loss: 1.1640 - accuracy: 0.8293\n",
      "Test accuracy: 0.8292682766914368\n"
     ]
    }
   ],
   "source": [
    "# Evaluate the model\n",
    "test_loss, test_accuracy = model_dp.evaluate(X_test_scaled, y_test_cat)\n",
    "print(f\"Test accuracy: {test_accuracy}\")"
   ]
  },
  {
   "cell_type": "code",
   "execution_count": 31,
   "metadata": {},
   "outputs": [
    {
     "data": {
      "image/png": "[encoded data removed]",
      "text/plain": [
       "<Figure size 640x480 with 1 Axes>"
      ]
     },
     "metadata": {},
     "output_type": "display_data"
    }
   ],
   "source": [
    "import matplotlib.pyplot as plt\n",
    "\n",
    "plt.plot(history.history['accuracy'], label='accuracy')\n",
    "plt.plot(history.history['val_accuracy'], label='val_accuracy')\n",
    "plt.xlabel('Epoch')\n",
    "plt.ylabel('Accuracy')\n",
    "plt.legend()\n",
    "plt.show()"
   ]
  },
  {
   "cell_type": "markdown",
   "metadata": {},
   "source": [
    "##### Non-Differential Privacy Model"
   ]
  },
  {
   "cell_type": "code",
   "execution_count": 13,
   "metadata": {},
   "outputs": [
    {
     "name": "stdout",
     "output_type": "stream",
     "text": [
      "Epoch 1/10\n"
     ]
    },
    {
     "name": "stderr",
     "output_type": "stream",
     "text": [
      "c:\\MONASH\\Y3S2\\FIT3164\\repo\\MDS14\\.venv\\Lib\\site-packages\\keras\\src\\backend.py:5727: UserWarning: \"`sparse_categorical_crossentropy` received `from_logits=True`, but the `output` argument was produced by a Softmax activation and thus does not represent logits. Was this intended?\n",
      "  output, from_logits = _get_logits(\n"
     ]
    },
    {
     "name": "stdout",
     "output_type": "stream",
     "text": [
      "4/4 [==============================] - 1s 79ms/step - loss: 0.9976 - accuracy: 0.7477 - val_loss: 0.9142 - val_accuracy: 0.7477\n",
      "Epoch 2/10\n",
      "4/4 [==============================] - 0s 20ms/step - loss: 0.8618 - accuracy: 0.7477 - val_loss: 0.8698 - val_accuracy: 0.7477\n"
     ]
    },
    {
     "name": "stderr",
     "output_type": "stream",
     "text": [
      "c:\\MONASH\\Y3S2\\FIT3164\\repo\\MDS14\\.venv\\Lib\\site-packages\\keras\\src\\backend.py:5727: UserWarning: \"`sparse_categorical_crossentropy` received `from_logits=True`, but the `output` argument was produced by a Softmax activation and thus does not represent logits. Was this intended?\n",
      "  output, from_logits = _get_logits(\n"
     ]
    },
    {
     "name": "stdout",
     "output_type": "stream",
     "text": [
      "Epoch 3/10\n",
      "4/4 [==============================] - 0s 22ms/step - loss: 0.9042 - accuracy: 0.7477 - val_loss: 0.8240 - val_accuracy: 0.7477\n",
      "Epoch 4/10\n",
      "4/4 [==============================] - 0s 20ms/step - loss: 0.8530 - accuracy: 0.7477 - val_loss: 0.8421 - val_accuracy: 0.7477\n",
      "Epoch 5/10\n",
      "4/4 [==============================] - 0s 22ms/step - loss: 0.8419 - accuracy: 0.7477 - val_loss: 0.8354 - val_accuracy: 0.7477\n",
      "Epoch 6/10\n",
      "4/4 [==============================] - 0s 25ms/step - loss: 0.8570 - accuracy: 0.7477 - val_loss: 0.8169 - val_accuracy: 0.7477\n",
      "Epoch 7/10\n",
      "4/4 [==============================] - 0s 21ms/step - loss: 0.8081 - accuracy: 0.7477 - val_loss: 0.8361 - val_accuracy: 0.7477\n",
      "Epoch 8/10\n",
      "4/4 [==============================] - 0s 19ms/step - loss: 0.8319 - accuracy: 0.7477 - val_loss: 0.8129 - val_accuracy: 0.7477\n",
      "Epoch 9/10\n",
      "4/4 [==============================] - 0s 21ms/step - loss: 0.8095 - accuracy: 0.7477 - val_loss: 0.8077 - val_accuracy: 0.7477\n",
      "Epoch 10/10\n",
      "4/4 [==============================] - 0s 18ms/step - loss: 0.7885 - accuracy: 0.7477 - val_loss: 0.7950 - val_accuracy: 0.7477\n"
     ]
    },
    {
     "data": {
      "text/plain": [
       "<keras.src.callbacks.History at 0x1cea8c7dad0>"
      ]
     },
     "execution_count": 13,
     "metadata": {},
     "output_type": "execute_result"
    }
   ],
   "source": [
    "from keras.optimizers import SGD\n",
    "\n",
    "# Define the model\n",
    "model = tf.keras.Sequential([\n",
    "    tf.keras.layers.Dense(64, activation='relu', input_shape=(4,)),\n",
    "    tf.keras.layers.Dense(32, activation='relu'),\n",
    "    tf.keras.layers.Dense(len(label_encoder.classes_), activation='softmax')\n",
    "])\n",
    "\n",
    "optimizer_dp = DPKerasSGDOptimizer(\n",
    "    l2_norm_clip=l2_norm_clip,\n",
    "    noise_multiplier=noise_multiplier,\n",
    "    num_microbatches=num_microbatches,\n",
    "    learning_rate=learning_rate\n",
    ")\n",
    "\n",
    "loss_dp = tf.keras.losses.SparseCategoricalCrossentropy(from_logits=True, reduction=tf.losses.Reduction.NONE)\n",
    "\n",
    "model_dp.compile(optimizer=SGD(learning_rate=0.01, momentum=0.9), loss=loss_dp, metrics=['accuracy'])\n",
    "\n",
    "# Train the DP model\n",
    "model_dp.fit(X_train, y_train, epochs=10, validation_data=(X_train, y_train), batch_size=32)"
   ]
  },
  {
   "cell_type": "markdown",
   "metadata": {},
   "source": [
    "#### Evaluating Privacy"
   ]
  },
  {
   "cell_type": "markdown",
   "metadata": {},
   "source": [
    "##### Evaluating Privacy Budget"
   ]
  },
  {
   "cell_type": "code",
   "execution_count": 23,
   "metadata": {},
   "outputs": [
    {
     "name": "stderr",
     "output_type": "stream",
     "text": [
      "WARNING:absl:`compute_dp_sgd_privacy` is deprecated. It does not account for doubling of sensitivity with microbatching, and assumes Poisson subsampling, which is rarely used in practice. Please use `compute_dp_sgd_privacy_statement`, which provides appropriate context for the guarantee. To compute epsilon under different assumptions than those in `compute_dp_sgd_privacy_statement`, call the `dp_accounting` libraries directly.\n"
     ]
    },
    {
     "name": "stdout",
     "output_type": "stream",
     "text": [
      "The privacy budget (epsilon) is: 9.556683175552717\n"
     ]
    }
   ],
   "source": [
    "from tensorflow_privacy.privacy.analysis import compute_dp_sgd_privacy_lib\n",
    "\n",
    "epsilon, alpha = compute_dp_sgd_privacy_lib.compute_dp_sgd_privacy(\n",
    "    n=X_train.shape[0],\n",
    "    batch_size=batch_size,\n",
    "    noise_multiplier=noise_multiplier,\n",
    "    epochs=epochs,\n",
    "    delta=1e-5\n",
    ")\n",
    "\n",
    "print(f\"The privacy budget (epsilon) is: {epsilon}\")"
   ]
  },
  {
   "cell_type": "markdown",
   "metadata": {},
   "source": [
    "##### Observing Privacy-Utility Tradeoff"
   ]
  },
  {
   "cell_type": "code",
   "execution_count": 32,
   "metadata": {},
   "outputs": [
    {
     "name": "stdout",
     "output_type": "stream",
     "text": [
      "\n",
      "Training with noise multiplier: 0.1\n"
     ]
    },
    {
     "name": "stderr",
     "output_type": "stream",
     "text": [
      "WARNING:absl:`compute_dp_sgd_privacy` is deprecated. It does not account for doubling of sensitivity with microbatching, and assumes Poisson subsampling, which is rarely used in practice. Please use `compute_dp_sgd_privacy_statement`, which provides appropriate context for the guarantee. To compute epsilon under different assumptions than those in `compute_dp_sgd_privacy_statement`, call the `dp_accounting` libraries directly.\n"
     ]
    },
    {
     "name": "stdout",
     "output_type": "stream",
     "text": [
      "Test accuracy: 0.8537\n",
      "Epsilon: 2817.4755\n",
      "\n",
      "Training with noise multiplier: 0.5\n"
     ]
    },
    {
     "name": "stderr",
     "output_type": "stream",
     "text": [
      "WARNING:absl:`compute_dp_sgd_privacy` is deprecated. It does not account for doubling of sensitivity with microbatching, and assumes Poisson subsampling, which is rarely used in practice. Please use `compute_dp_sgd_privacy_statement`, which provides appropriate context for the guarantee. To compute epsilon under different assumptions than those in `compute_dp_sgd_privacy_statement`, call the `dp_accounting` libraries directly.\n"
     ]
    },
    {
     "name": "stdout",
     "output_type": "stream",
     "text": [
      "Test accuracy: 0.8537\n",
      "Epsilon: 42.9487\n",
      "\n",
      "Training with noise multiplier: 1.0\n"
     ]
    },
    {
     "name": "stderr",
     "output_type": "stream",
     "text": [
      "WARNING:absl:`compute_dp_sgd_privacy` is deprecated. It does not account for doubling of sensitivity with microbatching, and assumes Poisson subsampling, which is rarely used in practice. Please use `compute_dp_sgd_privacy_statement`, which provides appropriate context for the guarantee. To compute epsilon under different assumptions than those in `compute_dp_sgd_privacy_statement`, call the `dp_accounting` libraries directly.\n"
     ]
    },
    {
     "name": "stdout",
     "output_type": "stream",
     "text": [
      "Test accuracy: 0.8537\n",
      "Epsilon: 11.3460\n",
      "\n",
      "Training with noise multiplier: 2.0\n"
     ]
    },
    {
     "name": "stderr",
     "output_type": "stream",
     "text": [
      "WARNING:absl:`compute_dp_sgd_privacy` is deprecated. It does not account for doubling of sensitivity with microbatching, and assumes Poisson subsampling, which is rarely used in practice. Please use `compute_dp_sgd_privacy_statement`, which provides appropriate context for the guarantee. To compute epsilon under different assumptions than those in `compute_dp_sgd_privacy_statement`, call the `dp_accounting` libraries directly.\n"
     ]
    },
    {
     "name": "stdout",
     "output_type": "stream",
     "text": [
      "Test accuracy: 0.8049\n",
      "Epsilon: 3.8549\n",
      "\n",
      "Noise Multiplier: 0.1\n",
      "Test Accuracy: 0.8537\n",
      "Epsilon: 2817.4755\n",
      "\n",
      "Noise Multiplier: 0.5\n",
      "Test Accuracy: 0.8537\n",
      "Epsilon: 42.9487\n",
      "\n",
      "Noise Multiplier: 1.0\n",
      "Test Accuracy: 0.8537\n",
      "Epsilon: 11.3460\n",
      "\n",
      "Noise Multiplier: 2.0\n",
      "Test Accuracy: 0.8049\n",
      "Epsilon: 3.8549\n"
     ]
    }
   ],
   "source": [
    "noise_multipliers = [0.1, 0.5, 1.0, 2.0]\n",
    "results = []\n",
    "\n",
    "for noise_multiplier in noise_multipliers:\n",
    "    \n",
    "    print(f\"\\nTraining with noise multiplier: {noise_multiplier}\")\n",
    "    \n",
    "    # Create the model\n",
    "    model = create_model(num_features, num_classes, noise_multiplier)\n",
    "    \n",
    "    # Train the model\n",
    "    history = model.fit(\n",
    "        X_train_scaled, y_train_cat,\n",
    "        epochs=epochs,\n",
    "        batch_size=batch_size,\n",
    "        validation_split=0.2,\n",
    "        verbose=0\n",
    "    )\n",
    "    \n",
    "    # Evaluate the model\n",
    "    test_loss, test_accuracy = model.evaluate(X_test_scaled, y_test_cat, verbose=0)\n",
    "    \n",
    "    # Calculate epsilon\n",
    "    epsilon, _ = compute_dp_sgd_privacy_lib.compute_dp_sgd_privacy(\n",
    "        n=len(X_train),\n",
    "        batch_size=batch_size,\n",
    "        noise_multiplier=noise_multiplier,\n",
    "        epochs=epochs,\n",
    "        delta=1e-5\n",
    "    )\n",
    "    \n",
    "    results.append({\n",
    "        'noise_multiplier': noise_multiplier,\n",
    "        'test_accuracy': test_accuracy,\n",
    "        'epsilon': epsilon\n",
    "    })\n",
    "    \n",
    "    print(f\"Test accuracy: {test_accuracy:.4f}\")\n",
    "    print(f\"Epsilon: {epsilon:.4f}\")\n",
    "    \n",
    "# Display results\n",
    "for result in results:\n",
    "    print(f\"\\nNoise Multiplier: {result['noise_multiplier']}\")\n",
    "    print(f\"Test Accuracy: {result['test_accuracy']:.4f}\")\n",
    "    print(f\"Epsilon: {result['epsilon']:.4f}\")"
   ]
  },
  {
   "cell_type": "code",
   "execution_count": 33,
   "metadata": {},
   "outputs": [
    {
     "data": {
      "image/png": "[encoded data removed]",
      "text/plain": [
       "<Figure size 1000x600 with 1 Axes>"
      ]
     },
     "metadata": {},
     "output_type": "display_data"
    }
   ],
   "source": [
    "import matplotlib.pyplot as plt\n",
    "\n",
    "epsilons = [result['epsilon'] for result in results]\n",
    "accuracies = [result['test_accuracy'] for result in results]\n",
    "\n",
    "plt.figure(figsize=(10, 6))\n",
    "plt.plot(epsilons, accuracies, 'bo-')\n",
    "plt.xlabel('Epsilon (Privacy Budget)')\n",
    "plt.ylabel('Test Accuracy')\n",
    "plt.title('Privacy-Accuracy Trade-off')\n",
    "plt.show()"
   ]
  },
  {
   "cell_type": "markdown",
   "metadata": {},
   "source": [
    "#### Define Callback for Privacy Metrics"
   ]
  },
  {
   "cell_type": "code",
   "execution_count": 14,
   "metadata": {},
   "outputs": [],
   "source": [
    "class PrivacyMetrics(tf.keras.callbacks.Callback):\n",
    "    def __init__(self, epochs_per_report, model_name):\n",
    "        self.epochs_per_report = epochs_per_report\n",
    "        self.model_name = model_name\n",
    "        self.attack_results = []\n",
    "\n",
    "    def on_epoch_end(self, epoch, logs=None):\n",
    "        if (epoch + 1) % self.epochs_per_report != 0:\n",
    "            return\n",
    "\n",
    "        logits_train = self.model.predict(X_train, batch_size=batch_size)\n",
    "        logits_test = self.model.predict(X_test, batch_size=batch_size)\n",
    "\n",
    "        prob_train = tf.nn.softmax(logits_train, axis=1)\n",
    "        prob_test = tf.nn.softmax(logits_test, axis=1)\n",
    "\n",
    "        privacy_report_metadata = PrivacyReportMetadata(\n",
    "            accuracy_train=logs['accuracy'],\n",
    "            accuracy_test=logs['val_accuracy'],\n",
    "            epoch_num=epoch + 1,\n",
    "            model_variant_label=self.model_name\n",
    "        )\n",
    "\n",
    "        attack_results = mia.run_attacks(\n",
    "            AttackInputData(\n",
    "                labels_train=y_train,\n",
    "                labels_test=y_test,\n",
    "                probs_train=prob_train,\n",
    "                probs_test=prob_test\n",
    "            ),\n",
    "            SlicingSpec(entire_dataset=True, by_class=True),\n",
    "            attack_types=(AttackType.THRESHOLD_ATTACK, AttackType.LOGISTIC_REGRESSION),\n",
    "            privacy_report_metadata=privacy_report_metadata\n",
    "        )\n",
    "\n",
    "        self.attack_results.append(attack_results)"
   ]
  },
  {
   "cell_type": "markdown",
   "metadata": {},
   "source": [
    "#### Train Model and Collect Privacy Metrics"
   ]
  },
  {
   "cell_type": "code",
   "execution_count": 15,
   "metadata": {},
   "outputs": [
    {
     "name": "stdout",
     "output_type": "stream",
     "text": [
      "Epoch 1/10\n",
      "4/4 [==============================] - 0s 33ms/step - loss: 0.7836 - accuracy: 0.7477 - val_loss: 1.0185 - val_accuracy: 0.6071\n",
      "Epoch 2/10\n",
      "4/4 [==============================] - 0s 2ms/steposs: 0.5385 - accuracy: 0.87\n",
      "1/1 [==============================] - 0s 24ms/step\n"
     ]
    },
    {
     "ename": "ValueError",
     "evalue": "probs_train should be a numpy array.",
     "output_type": "error",
     "traceback": [
      "\u001b[1;31m---------------------------------------------------------------------------\u001b[0m",
      "\u001b[1;31mValueError\u001b[0m                                Traceback (most recent call last)",
      "Cell \u001b[1;32mIn[15], line 2\u001b[0m\n\u001b[0;32m      1\u001b[0m callback \u001b[38;5;241m=\u001b[39m PrivacyMetrics(epochs_per_report\u001b[38;5;241m=\u001b[39m\u001b[38;5;241m2\u001b[39m, model_name\u001b[38;5;241m=\u001b[39m\u001b[38;5;124m\"\u001b[39m\u001b[38;5;124mDP Model\u001b[39m\u001b[38;5;124m\"\u001b[39m)\n\u001b[1;32m----> 2\u001b[0m history \u001b[38;5;241m=\u001b[39m \u001b[43mmodel_dp\u001b[49m\u001b[38;5;241;43m.\u001b[39;49m\u001b[43mfit\u001b[49m\u001b[43m(\u001b[49m\n\u001b[0;32m      3\u001b[0m \u001b[43m    \u001b[49m\u001b[43mX_train\u001b[49m\u001b[43m,\u001b[49m\u001b[43m \u001b[49m\u001b[43my_train\u001b[49m\u001b[43m,\u001b[49m\n\u001b[0;32m      4\u001b[0m \u001b[43m    \u001b[49m\u001b[43mepochs\u001b[49m\u001b[38;5;241;43m=\u001b[39;49m\u001b[43mepochs\u001b[49m\u001b[43m,\u001b[49m\n\u001b[0;32m      5\u001b[0m \u001b[43m    \u001b[49m\u001b[43mvalidation_data\u001b[49m\u001b[38;5;241;43m=\u001b[39;49m\u001b[43m(\u001b[49m\u001b[43mX_test\u001b[49m\u001b[43m,\u001b[49m\u001b[43m \u001b[49m\u001b[43my_test\u001b[49m\u001b[43m)\u001b[49m\u001b[43m,\u001b[49m\n\u001b[0;32m      6\u001b[0m \u001b[43m    \u001b[49m\u001b[43mbatch_size\u001b[49m\u001b[38;5;241;43m=\u001b[39;49m\u001b[43mbatch_size\u001b[49m\u001b[43m,\u001b[49m\n\u001b[0;32m      7\u001b[0m \u001b[43m    \u001b[49m\u001b[43mcallbacks\u001b[49m\u001b[38;5;241;43m=\u001b[39;49m\u001b[43m[\u001b[49m\u001b[43mcallback\u001b[49m\u001b[43m]\u001b[49m\n\u001b[0;32m      8\u001b[0m \u001b[43m)\u001b[49m\n",
      "File \u001b[1;32mc:\\MONASH\\Y3S2\\FIT3164\\repo\\MDS14\\.venv\\Lib\\site-packages\\keras\\src\\utils\\traceback_utils.py:70\u001b[0m, in \u001b[0;36mfilter_traceback.<locals>.error_handler\u001b[1;34m(*args, **kwargs)\u001b[0m\n\u001b[0;32m     67\u001b[0m     filtered_tb \u001b[38;5;241m=\u001b[39m _process_traceback_frames(e\u001b[38;5;241m.\u001b[39m__traceback__)\n\u001b[0;32m     68\u001b[0m     \u001b[38;5;66;03m# To get the full stack trace, call:\u001b[39;00m\n\u001b[0;32m     69\u001b[0m     \u001b[38;5;66;03m# `tf.debugging.disable_traceback_filtering()`\u001b[39;00m\n\u001b[1;32m---> 70\u001b[0m     \u001b[38;5;28;01mraise\u001b[39;00m e\u001b[38;5;241m.\u001b[39mwith_traceback(filtered_tb) \u001b[38;5;28;01mfrom\u001b[39;00m \u001b[38;5;28;01mNone\u001b[39;00m\n\u001b[0;32m     71\u001b[0m \u001b[38;5;28;01mfinally\u001b[39;00m:\n\u001b[0;32m     72\u001b[0m     \u001b[38;5;28;01mdel\u001b[39;00m filtered_tb\n",
      "Cell \u001b[1;32mIn[14], line 24\u001b[0m, in \u001b[0;36mPrivacyMetrics.on_epoch_end\u001b[1;34m(self, epoch, logs)\u001b[0m\n\u001b[0;32m     15\u001b[0m prob_test \u001b[38;5;241m=\u001b[39m tf\u001b[38;5;241m.\u001b[39mnn\u001b[38;5;241m.\u001b[39msoftmax(logits_test, axis\u001b[38;5;241m=\u001b[39m\u001b[38;5;241m1\u001b[39m)\n\u001b[0;32m     17\u001b[0m privacy_report_metadata \u001b[38;5;241m=\u001b[39m PrivacyReportMetadata(\n\u001b[0;32m     18\u001b[0m     accuracy_train\u001b[38;5;241m=\u001b[39mlogs[\u001b[38;5;124m'\u001b[39m\u001b[38;5;124maccuracy\u001b[39m\u001b[38;5;124m'\u001b[39m],\n\u001b[0;32m     19\u001b[0m     accuracy_test\u001b[38;5;241m=\u001b[39mlogs[\u001b[38;5;124m'\u001b[39m\u001b[38;5;124mval_accuracy\u001b[39m\u001b[38;5;124m'\u001b[39m],\n\u001b[0;32m     20\u001b[0m     epoch_num\u001b[38;5;241m=\u001b[39mepoch \u001b[38;5;241m+\u001b[39m \u001b[38;5;241m1\u001b[39m,\n\u001b[0;32m     21\u001b[0m     model_variant_label\u001b[38;5;241m=\u001b[39m\u001b[38;5;28mself\u001b[39m\u001b[38;5;241m.\u001b[39mmodel_name\n\u001b[0;32m     22\u001b[0m )\n\u001b[1;32m---> 24\u001b[0m attack_results \u001b[38;5;241m=\u001b[39m \u001b[43mmia\u001b[49m\u001b[38;5;241;43m.\u001b[39;49m\u001b[43mrun_attacks\u001b[49m\u001b[43m(\u001b[49m\n\u001b[0;32m     25\u001b[0m \u001b[43m    \u001b[49m\u001b[43mAttackInputData\u001b[49m\u001b[43m(\u001b[49m\n\u001b[0;32m     26\u001b[0m \u001b[43m        \u001b[49m\u001b[43mlabels_train\u001b[49m\u001b[38;5;241;43m=\u001b[39;49m\u001b[43my_train\u001b[49m\u001b[43m,\u001b[49m\n\u001b[0;32m     27\u001b[0m \u001b[43m        \u001b[49m\u001b[43mlabels_test\u001b[49m\u001b[38;5;241;43m=\u001b[39;49m\u001b[43my_test\u001b[49m\u001b[43m,\u001b[49m\n\u001b[0;32m     28\u001b[0m \u001b[43m        \u001b[49m\u001b[43mprobs_train\u001b[49m\u001b[38;5;241;43m=\u001b[39;49m\u001b[43mprob_train\u001b[49m\u001b[43m,\u001b[49m\n\u001b[0;32m     29\u001b[0m \u001b[43m        \u001b[49m\u001b[43mprobs_test\u001b[49m\u001b[38;5;241;43m=\u001b[39;49m\u001b[43mprob_test\u001b[49m\n\u001b[0;32m     30\u001b[0m \u001b[43m    \u001b[49m\u001b[43m)\u001b[49m\u001b[43m,\u001b[49m\n\u001b[0;32m     31\u001b[0m \u001b[43m    \u001b[49m\u001b[43mSlicingSpec\u001b[49m\u001b[43m(\u001b[49m\u001b[43mentire_dataset\u001b[49m\u001b[38;5;241;43m=\u001b[39;49m\u001b[38;5;28;43;01mTrue\u001b[39;49;00m\u001b[43m,\u001b[49m\u001b[43m \u001b[49m\u001b[43mby_class\u001b[49m\u001b[38;5;241;43m=\u001b[39;49m\u001b[38;5;28;43;01mTrue\u001b[39;49;00m\u001b[43m)\u001b[49m\u001b[43m,\u001b[49m\n\u001b[0;32m     32\u001b[0m \u001b[43m    \u001b[49m\u001b[43mattack_types\u001b[49m\u001b[38;5;241;43m=\u001b[39;49m\u001b[43m(\u001b[49m\u001b[43mAttackType\u001b[49m\u001b[38;5;241;43m.\u001b[39;49m\u001b[43mTHRESHOLD_ATTACK\u001b[49m\u001b[43m,\u001b[49m\u001b[43m \u001b[49m\u001b[43mAttackType\u001b[49m\u001b[38;5;241;43m.\u001b[39;49m\u001b[43mLOGISTIC_REGRESSION\u001b[49m\u001b[43m)\u001b[49m\u001b[43m,\u001b[49m\n\u001b[0;32m     33\u001b[0m \u001b[43m    \u001b[49m\u001b[43mprivacy_report_metadata\u001b[49m\u001b[38;5;241;43m=\u001b[39;49m\u001b[43mprivacy_report_metadata\u001b[49m\n\u001b[0;32m     34\u001b[0m \u001b[43m\u001b[49m\u001b[43m)\u001b[49m\n\u001b[0;32m     36\u001b[0m \u001b[38;5;28mself\u001b[39m\u001b[38;5;241m.\u001b[39mattack_results\u001b[38;5;241m.\u001b[39mappend(attack_results)\n",
      "File \u001b[1;32mc:\\MONASH\\Y3S2\\FIT3164\\repo\\MDS14\\.venv\\Lib\\site-packages\\tensorflow_privacy\\privacy\\privacy_tests\\membership_inference_attack\\membership_inference_attack.py:327\u001b[0m, in \u001b[0;36mrun_attacks\u001b[1;34m(attack_input, slicing_spec, attack_types, privacy_report_metadata, balance_attacker_training, min_num_samples, backend, return_slice_indices)\u001b[0m\n\u001b[0;32m    290\u001b[0m \u001b[38;5;28;01mdef\u001b[39;00m \u001b[38;5;21mrun_attacks\u001b[39m(\n\u001b[0;32m    291\u001b[0m     attack_input: AttackInputData,\n\u001b[0;32m    292\u001b[0m     slicing_spec: SlicingSpec \u001b[38;5;241m=\u001b[39m \u001b[38;5;28;01mNone\u001b[39;00m,\n\u001b[1;32m   (...)\u001b[0m\n\u001b[0;32m    298\u001b[0m     return_slice_indices\u001b[38;5;241m=\u001b[39m\u001b[38;5;28;01mFalse\u001b[39;00m,\n\u001b[0;32m    299\u001b[0m ) \u001b[38;5;241m-\u001b[39m\u001b[38;5;241m>\u001b[39m AttackResults:\n\u001b[0;32m    300\u001b[0m \u001b[38;5;250m  \u001b[39m\u001b[38;5;124;03m\"\"\"Runs membership inference attacks on a classification model.\u001b[39;00m\n\u001b[0;32m    301\u001b[0m \n\u001b[0;32m    302\u001b[0m \u001b[38;5;124;03m  It runs attacks specified by attack_types on each attack_input slice which is\u001b[39;00m\n\u001b[1;32m   (...)\u001b[0m\n\u001b[0;32m    325\u001b[0m \u001b[38;5;124;03m    the attack result.\u001b[39;00m\n\u001b[0;32m    326\u001b[0m \u001b[38;5;124;03m  \"\"\"\u001b[39;00m\n\u001b[1;32m--> 327\u001b[0m   \u001b[43mattack_input\u001b[49m\u001b[38;5;241;43m.\u001b[39;49m\u001b[43mvalidate\u001b[49m\u001b[43m(\u001b[49m\u001b[43m)\u001b[49m\n\u001b[0;32m    328\u001b[0m   attack_results \u001b[38;5;241m=\u001b[39m []\n\u001b[0;32m    329\u001b[0m   attack_types \u001b[38;5;241m=\u001b[39m \u001b[38;5;28mlist\u001b[39m(attack_types)\n",
      "File \u001b[1;32mc:\\MONASH\\Y3S2\\FIT3164\\repo\\MDS14\\.venv\\Lib\\site-packages\\tensorflow_privacy\\privacy\\privacy_tests\\membership_inference_attack\\data_structures.py:584\u001b[0m, in \u001b[0;36mAttackInputData.validate\u001b[1;34m(self)\u001b[0m\n\u001b[0;32m    582\u001b[0m _is_np_array(\u001b[38;5;28mself\u001b[39m\u001b[38;5;241m.\u001b[39mlogits_train, \u001b[38;5;124m'\u001b[39m\u001b[38;5;124mlogits_train\u001b[39m\u001b[38;5;124m'\u001b[39m)\n\u001b[0;32m    583\u001b[0m _is_np_array(\u001b[38;5;28mself\u001b[39m\u001b[38;5;241m.\u001b[39mlogits_test, \u001b[38;5;124m'\u001b[39m\u001b[38;5;124mlogits_test\u001b[39m\u001b[38;5;124m'\u001b[39m)\n\u001b[1;32m--> 584\u001b[0m \u001b[43m_is_np_array\u001b[49m\u001b[43m(\u001b[49m\u001b[38;5;28;43mself\u001b[39;49m\u001b[38;5;241;43m.\u001b[39;49m\u001b[43mprobs_train\u001b[49m\u001b[43m,\u001b[49m\u001b[43m \u001b[49m\u001b[38;5;124;43m'\u001b[39;49m\u001b[38;5;124;43mprobs_train\u001b[39;49m\u001b[38;5;124;43m'\u001b[39;49m\u001b[43m)\u001b[49m\n\u001b[0;32m    585\u001b[0m _is_np_array(\u001b[38;5;28mself\u001b[39m\u001b[38;5;241m.\u001b[39mprobs_test, \u001b[38;5;124m'\u001b[39m\u001b[38;5;124mprobs_test\u001b[39m\u001b[38;5;124m'\u001b[39m)\n\u001b[0;32m    586\u001b[0m _is_np_array(\u001b[38;5;28mself\u001b[39m\u001b[38;5;241m.\u001b[39mlabels_train, \u001b[38;5;124m'\u001b[39m\u001b[38;5;124mlabels_train\u001b[39m\u001b[38;5;124m'\u001b[39m)\n",
      "File \u001b[1;32mc:\\MONASH\\Y3S2\\FIT3164\\repo\\MDS14\\.venv\\Lib\\site-packages\\tensorflow_privacy\\privacy\\privacy_tests\\membership_inference_attack\\data_structures.py:238\u001b[0m, in \u001b[0;36m_is_np_array\u001b[1;34m(arr, arr_name)\u001b[0m\n\u001b[0;32m    236\u001b[0m \u001b[38;5;250m\u001b[39m\u001b[38;5;124;03m\"\"\"Checks whether array is a numpy array.\"\"\"\u001b[39;00m\n\u001b[0;32m    237\u001b[0m \u001b[38;5;28;01mif\u001b[39;00m arr \u001b[38;5;129;01mis\u001b[39;00m \u001b[38;5;129;01mnot\u001b[39;00m \u001b[38;5;28;01mNone\u001b[39;00m \u001b[38;5;129;01mand\u001b[39;00m \u001b[38;5;129;01mnot\u001b[39;00m \u001b[38;5;28misinstance\u001b[39m(arr, np\u001b[38;5;241m.\u001b[39mndarray):\n\u001b[1;32m--> 238\u001b[0m   \u001b[38;5;28;01mraise\u001b[39;00m \u001b[38;5;167;01mValueError\u001b[39;00m(\u001b[38;5;124m'\u001b[39m\u001b[38;5;132;01m%s\u001b[39;00m\u001b[38;5;124m should be a numpy array.\u001b[39m\u001b[38;5;124m'\u001b[39m \u001b[38;5;241m%\u001b[39m arr_name)\n",
      "\u001b[1;31mValueError\u001b[0m: probs_train should be a numpy array."
     ]
    }
   ],
   "source": [
    "callback = PrivacyMetrics(epochs_per_report=2, model_name=\"DP Model\")\n",
    "history = model_dp.fit(\n",
    "    X_train, y_train,\n",
    "    epochs=epochs,\n",
    "    validation_data=(X_test, y_test),\n",
    "    batch_size=batch_size,\n",
    "    callbacks=[callback]\n",
    ")"
   ]
  },
  {
   "cell_type": "markdown",
   "metadata": {},
   "source": [
    "#### Visualise Privacy Metrics"
   ]
  },
  {
   "cell_type": "code",
   "execution_count": null,
   "metadata": {},
   "outputs": [],
   "source": [
    "all_reports = callback.attack_results\n",
    "results = AttackResultsCollection(all_reports)"
   ]
  },
  {
   "cell_type": "markdown",
   "metadata": {},
   "source": [
    "##### Epoch Plots"
   ]
  },
  {
   "cell_type": "code",
   "execution_count": null,
   "metadata": {},
   "outputs": [],
   "source": [
    "privacy_metrics = (PrivacyMetric.AUC, PrivacyMetric.ATTACKER_ADVANTAGE)\n",
    "epoch_plot = privacy_report.plot_by_epochs(results, privacy_metrics=privacy_metrics)"
   ]
  },
  {
   "cell_type": "markdown",
   "metadata": {},
   "source": [
    "##### Privacy VS Utility Plots"
   ]
  },
  {
   "cell_type": "code",
   "execution_count": null,
   "metadata": {},
   "outputs": [],
   "source": [
    "utility_privacy_plot = privacy_report.plot_privacy_vs_accuracy(results, privacy_metrics=privacy_metrics)\n",
    "for axis in utility_privacy_plot.axes:\n",
    "    axis.set_xlabel('Validation accuracy')"
   ]
  }
 ],
 "metadata": {
  "kernelspec": {
   "display_name": "venv",
   "language": "python",
   "name": "python3"
  },
  "language_info": {
   "codemirror_mode": {
    "name": "ipython",
    "version": 3
   },
   "file_extension": ".py",
   "mimetype": "text/x-python",
   "name": "python",
   "nbconvert_exporter": "python",
   "pygments_lexer": "ipython3",
   "version": "3.11.8"
  }
 },
 "nbformat": 4,
 "nbformat_minor": 2
}
