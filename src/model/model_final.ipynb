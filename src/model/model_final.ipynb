{
 "cells": [
  {
   "cell_type": "markdown",
   "metadata": {},
   "source": [
    "## Data Preprocessing"
   ]
  },
  {
   "cell_type": "code",
   "execution_count": 1,
   "metadata": {},
   "outputs": [
    {
     "name": "stdout",
     "output_type": "stream",
     "text": [
      "WARNING:tensorflow:From c:\\Users\\chery\\anaconda3\\envs\\fyp1\\Lib\\site-packages\\keras\\src\\losses.py:2976: The name tf.losses.sparse_softmax_cross_entropy is deprecated. Please use tf.compat.v1.losses.sparse_softmax_cross_entropy instead.\n",
      "\n"
     ]
    }
   ],
   "source": [
    "import pandas as pd\n",
    "import numpy as np\n",
    "from sklearn.model_selection import train_test_split\n",
    "from sklearn.preprocessing import StandardScaler\n",
    "from tensorflow.keras.utils import to_categorical\n",
    "from sklearn.utils import resample\n",
    "\n",
    "# Load the dataset\n",
    "data = pd.read_csv('../data/patient_processed.csv')\n",
    "# Select the relevant columns\n",
    "features = data[['tanimoto', 'feature_jsim', 'feature_dsim', 'feature_osim']]\n",
    "labels = data['DDI']\n",
    "\n",
    "# Map DDI levels to the numeric values\n",
    "ddi_mapping = {'no interaction found': 0, 'minor': 1, 'moderate': 2, 'major': 3}\n",
    "labels = labels.map(ddi_mapping)\n",
    "\n",
    "# Handle missing values\n",
    "features = features.fillna(features.mean())\n",
    "\n",
    "# Split the data into training and testing\n",
    "X_train, X_test, y_train, y_test = train_test_split(\n",
    "    features, \n",
    "    labels, \n",
    "    test_size=0.2, \n",
    "    random_state=42\n",
    ")\n",
    "\n",
    "# Scale the input features\n",
    "scaler = StandardScaler()\n",
    "X_train_scaled = scaler.fit_transform(X_train)\n",
    "X_test_scaled = scaler.transform(X_test)\n",
    "\n",
    "# Convert the target variable to a categorical format\n",
    "num_classes = len(ddi_mapping)\n",
    "y_train_cat = to_categorical(y_train, num_classes)\n",
    "y_test_cat = to_categorical(y_test, num_classes)\n",
    "\n",
    "# Function for augmenting the data\n",
    "def augment_data(X, y, num_samples):\n",
    "    X_aug, y_aug = resample(X, y, n_samples=num_samples, random_state=42)\n",
    "    return X_aug, y_aug\n",
    "\n",
    "# Augment the training data\n",
    "X_train_aug, y_train_aug = augment_data(X_train_scaled, y_train_cat, len(X_train_scaled) * 2)\n",
    "\n",
    "# Combine original and augmented data\n",
    "X_train_scaled = np.vstack((X_train_scaled, X_train_aug))\n",
    "y_train_cat = np.vstack((y_train_cat, y_train_aug))"
   ]
  },
  {
   "cell_type": "markdown",
   "metadata": {},
   "source": [
    "## Define Hyperparameters"
   ]
  },
  {
   "cell_type": "code",
   "execution_count": 2,
   "metadata": {},
   "outputs": [],
   "source": [
    "# Model Hypeparameters\n",
    "num_features = len(ddi_mapping)\n",
    "num_classes = X_train_scaled.shape[1]\n",
    "learning_rate = 0.001\n",
    "batch_size = 32\n",
    "epochs = 100\n",
    "\n",
    "# Privacy Hyperparameters\n",
    "l2_norm_clip = 1.0\n",
    "noise_multiplier = 1.1\n",
    "num_microbatches = 1"
   ]
  },
  {
   "cell_type": "markdown",
   "metadata": {},
   "source": [
    "## Build and Compile the Models"
   ]
  },
  {
   "cell_type": "markdown",
   "metadata": {},
   "source": [
    "### Model Architecture"
   ]
  },
  {
   "cell_type": "code",
   "execution_count": 3,
   "metadata": {},
   "outputs": [
    {
     "name": "stdout",
     "output_type": "stream",
     "text": [
      "WARNING:tensorflow:From c:\\Users\\chery\\anaconda3\\envs\\fyp1\\Lib\\site-packages\\tensorflow_estimator\\python\\estimator\\util.py:74: The name tf.train.SessionRunHook is deprecated. Please use tf.estimator.SessionRunHook instead.\n",
      "\n",
      "WARNING:tensorflow:From c:\\Users\\chery\\anaconda3\\envs\\fyp1\\Lib\\site-packages\\tensorflow_probability\\python\\internal\\backend\\numpy\\_utils.py:48: The name tf.logging.TaskLevelStatusMessage is deprecated. Please use tf.compat.v1.logging.TaskLevelStatusMessage instead.\n",
      "\n",
      "WARNING:tensorflow:From c:\\Users\\chery\\anaconda3\\envs\\fyp1\\Lib\\site-packages\\tensorflow_probability\\python\\internal\\backend\\numpy\\_utils.py:48: The name tf.control_flow_v2_enabled is deprecated. Please use tf.compat.v1.control_flow_v2_enabled instead.\n",
      "\n"
     ]
    }
   ],
   "source": [
    "import tensorflow as tf\n",
    "from tensorflow import keras\n",
    "from tensorflow.keras import layers\n",
    "from tensorflow_privacy.privacy.optimizers.dp_optimizer_keras import DPKerasSGDOptimizer\n",
    "from keras.regularizers import l2\n",
    "\n",
    "def create_model(num_features, num_classes, noise_multiplier = 1.1, learning_rate = learning_rate, optimizer=None):\n",
    "    \"\"\"\n",
    "    This function creates a deep learning model with three hidden layers and applies differential privacy\n",
    "    using a differentially private SGD optimizer.\n",
    "\n",
    "    Input:\n",
    "    num_features: The number of input features for the model.\n",
    "    num_classes: The number of output classes for classification.\n",
    "    noise_multiplier: The noise multiplier used for differential privacy (default is 1.1).\n",
    "    learning_rate: The learning rate for the optimiser.\n",
    "    optimiser: The optimiser used to trained the model\n",
    "\n",
    "    Output:\n",
    "    A compiled TensorFlow model ready for training.\n",
    "\n",
    "    \"\"\"\n",
    "    \n",
    "    model = keras.Sequential([\n",
    "        keras.layers.Input(shape=(num_features,)),\n",
    "        keras.layers.Dense(128, activation='relu', kernel_regularizer=l2(0.01)),\n",
    "        #keras.layers.BatchNormalization(),\n",
    "        #keras.layers.Dropout(0.3),\n",
    "        keras.layers.Dense(64, activation='relu'),\n",
    "        keras.layers.Dense(32, activation='relu'),\n",
    "        keras.layers.Dense(16, activation='relu'),\n",
    "        keras.layers.Dense(num_classes, activation='softmax')\n",
    "    ])\n",
    "    \n",
    "    if optimizer is None: \n",
    "        optimizer = DPKerasSGDOptimizer(\n",
    "                l2_norm_clip=l2_norm_clip,\n",
    "                noise_multiplier=noise_multiplier,\n",
    "                num_microbatches=num_microbatches,\n",
    "                learning_rate=learning_rate\n",
    "            )\n",
    "    \n",
    "    model.compile(\n",
    "        optimizer = optimizer,\n",
    "        loss='categorical_crossentropy',\n",
    "        metrics=['accuracy']\n",
    "    )\n",
    "    \n",
    "    return model"
   ]
  },
  {
   "cell_type": "markdown",
   "metadata": {},
   "source": [
    "### Differential Privacy Model"
   ]
  },
  {
   "cell_type": "markdown",
   "metadata": {},
   "source": [
    "#### Model Training"
   ]
  },
  {
   "cell_type": "code",
   "execution_count": 6,
   "metadata": {},
   "outputs": [
    {
     "name": "stdout",
     "output_type": "stream",
     "text": [
      "WARNING:tensorflow:From c:\\Users\\chery\\anaconda3\\envs\\fyp1\\Lib\\site-packages\\keras\\src\\backend.py:1398: The name tf.executing_eagerly_outside_functions is deprecated. Please use tf.compat.v1.executing_eagerly_outside_functions instead.\n",
      "\n",
      "Epoch 1/100\n",
      "WARNING:tensorflow:From c:\\Users\\chery\\anaconda3\\envs\\fyp1\\Lib\\site-packages\\keras\\src\\utils\\tf_utils.py:492: The name tf.ragged.RaggedTensorValue is deprecated. Please use tf.compat.v1.ragged.RaggedTensorValue instead.\n",
      "\n",
      "13/13 [==============================] - 3s 25ms/step - loss: 1.5290 - accuracy: 0.0412 - val_loss: 1.5327 - val_accuracy: 0.0510 - lr: 0.0010\n",
      "Epoch 2/100\n",
      "13/13 [==============================] - 0s 17ms/step - loss: 1.5191 - accuracy: 0.0412 - val_loss: 1.5216 - val_accuracy: 0.0510 - lr: 0.0010\n",
      "Epoch 3/100\n",
      "13/13 [==============================] - 0s 5ms/step - loss: 1.5069 - accuracy: 0.0438 - val_loss: 1.5010 - val_accuracy: 0.0714 - lr: 0.0010\n",
      "Epoch 4/100\n",
      "13/13 [==============================] - 0s 10ms/step - loss: 1.4904 - accuracy: 0.0928 - val_loss: 1.4897 - val_accuracy: 0.0918 - lr: 0.0010\n",
      "Epoch 5/100\n",
      "13/13 [==============================] - 0s 10ms/step - loss: 1.4778 - accuracy: 0.2113 - val_loss: 1.4717 - val_accuracy: 0.3980 - lr: 0.0010\n",
      "Epoch 6/100\n",
      "13/13 [==============================] - 0s 15ms/step - loss: 1.4671 - accuracy: 0.3402 - val_loss: 1.4663 - val_accuracy: 0.4694 - lr: 0.0010\n",
      "Epoch 7/100\n",
      "13/13 [==============================] - 0s 6ms/step - loss: 1.4581 - accuracy: 0.4175 - val_loss: 1.4548 - val_accuracy: 0.5204 - lr: 0.0010\n",
      "Epoch 8/100\n",
      "13/13 [==============================] - 0s 4ms/step - loss: 1.4490 - accuracy: 0.5180 - val_loss: 1.4496 - val_accuracy: 0.5918 - lr: 0.0010\n",
      "Epoch 9/100\n",
      "13/13 [==============================] - 0s 6ms/step - loss: 1.4417 - accuracy: 0.5876 - val_loss: 1.4413 - val_accuracy: 0.6020 - lr: 0.0010\n",
      "Epoch 10/100\n",
      "13/13 [==============================] - 0s 9ms/step - loss: 1.4375 - accuracy: 0.6289 - val_loss: 1.4360 - val_accuracy: 0.7041 - lr: 0.0010\n",
      "Epoch 11/100\n",
      "13/13 [==============================] - 0s 7ms/step - loss: 1.4288 - accuracy: 0.7113 - val_loss: 1.4266 - val_accuracy: 0.7041 - lr: 0.0010\n",
      "Epoch 12/100\n",
      "13/13 [==============================] - 0s 7ms/step - loss: 1.4189 - accuracy: 0.7320 - val_loss: 1.4130 - val_accuracy: 0.7041 - lr: 0.0010\n",
      "Epoch 13/100\n",
      "13/13 [==============================] - 0s 7ms/step - loss: 1.4066 - accuracy: 0.7320 - val_loss: 1.4066 - val_accuracy: 0.6735 - lr: 0.0010\n",
      "Epoch 14/100\n",
      "13/13 [==============================] - 0s 8ms/step - loss: 1.4013 - accuracy: 0.7320 - val_loss: 1.3999 - val_accuracy: 0.6735 - lr: 0.0010\n",
      "Epoch 15/100\n",
      "13/13 [==============================] - 0s 5ms/step - loss: 1.3942 - accuracy: 0.7345 - val_loss: 1.3939 - val_accuracy: 0.6735 - lr: 0.0010\n",
      "Epoch 16/100\n",
      "13/13 [==============================] - 0s 6ms/step - loss: 1.3874 - accuracy: 0.7345 - val_loss: 1.3871 - val_accuracy: 0.6735 - lr: 0.0010\n",
      "Epoch 17/100\n",
      "13/13 [==============================] - 0s 8ms/step - loss: 1.3815 - accuracy: 0.7371 - val_loss: 1.3826 - val_accuracy: 0.6735 - lr: 0.0010\n",
      "Epoch 18/100\n",
      "13/13 [==============================] - 0s 6ms/step - loss: 1.3758 - accuracy: 0.7423 - val_loss: 1.3767 - val_accuracy: 0.6735 - lr: 0.0010\n",
      "Epoch 19/100\n",
      "13/13 [==============================] - 0s 6ms/step - loss: 1.3715 - accuracy: 0.7448 - val_loss: 1.3744 - val_accuracy: 0.6735 - lr: 0.0010\n",
      "Epoch 20/100\n",
      "13/13 [==============================] - 0s 6ms/step - loss: 1.3684 - accuracy: 0.7448 - val_loss: 1.3703 - val_accuracy: 0.6939 - lr: 0.0010\n",
      "Epoch 21/100\n",
      "13/13 [==============================] - 0s 5ms/step - loss: 1.3636 - accuracy: 0.7526 - val_loss: 1.3655 - val_accuracy: 0.6939 - lr: 0.0010\n",
      "Epoch 22/100\n",
      "13/13 [==============================] - 0s 5ms/step - loss: 1.3582 - accuracy: 0.7448 - val_loss: 1.3590 - val_accuracy: 0.6939 - lr: 0.0010\n",
      "Epoch 23/100\n",
      "13/13 [==============================] - 0s 6ms/step - loss: 1.3492 - accuracy: 0.7448 - val_loss: 1.3495 - val_accuracy: 0.7041 - lr: 0.0010\n",
      "Epoch 24/100\n",
      "13/13 [==============================] - 0s 6ms/step - loss: 1.3426 - accuracy: 0.7474 - val_loss: 1.3452 - val_accuracy: 0.7041 - lr: 0.0010\n",
      "Epoch 25/100\n",
      "13/13 [==============================] - 0s 6ms/step - loss: 1.3394 - accuracy: 0.7474 - val_loss: 1.3430 - val_accuracy: 0.7041 - lr: 0.0010\n",
      "Epoch 26/100\n",
      "13/13 [==============================] - 0s 8ms/step - loss: 1.3375 - accuracy: 0.7474 - val_loss: 1.3458 - val_accuracy: 0.7041 - lr: 0.0010\n",
      "Epoch 27/100\n",
      "13/13 [==============================] - 0s 7ms/step - loss: 1.3373 - accuracy: 0.7474 - val_loss: 1.3424 - val_accuracy: 0.7041 - lr: 0.0010\n",
      "Epoch 28/100\n",
      "13/13 [==============================] - 0s 7ms/step - loss: 1.3347 - accuracy: 0.7474 - val_loss: 1.3392 - val_accuracy: 0.7041 - lr: 0.0010\n",
      "Epoch 29/100\n",
      "13/13 [==============================] - 0s 14ms/step - loss: 1.3333 - accuracy: 0.7474 - val_loss: 1.3395 - val_accuracy: 0.7041 - lr: 0.0010\n",
      "Epoch 30/100\n",
      "13/13 [==============================] - 0s 6ms/step - loss: 1.3296 - accuracy: 0.7474 - val_loss: 1.3347 - val_accuracy: 0.7041 - lr: 0.0010\n",
      "Epoch 31/100\n",
      "13/13 [==============================] - 0s 7ms/step - loss: 1.3264 - accuracy: 0.7474 - val_loss: 1.3315 - val_accuracy: 0.7041 - lr: 0.0010\n",
      "Epoch 32/100\n",
      "13/13 [==============================] - 0s 10ms/step - loss: 1.3208 - accuracy: 0.7474 - val_loss: 1.3275 - val_accuracy: 0.7041 - lr: 0.0010\n",
      "Epoch 33/100\n",
      "13/13 [==============================] - 0s 8ms/step - loss: 1.3173 - accuracy: 0.7474 - val_loss: 1.3231 - val_accuracy: 0.7041 - lr: 0.0010\n",
      "Epoch 34/100\n",
      "13/13 [==============================] - 0s 9ms/step - loss: 1.3098 - accuracy: 0.7474 - val_loss: 1.3183 - val_accuracy: 0.7041 - lr: 0.0010\n",
      "Epoch 35/100\n",
      "13/13 [==============================] - 0s 9ms/step - loss: 1.3071 - accuracy: 0.7474 - val_loss: 1.3131 - val_accuracy: 0.7041 - lr: 0.0010\n",
      "Epoch 36/100\n",
      "13/13 [==============================] - 0s 7ms/step - loss: 1.3015 - accuracy: 0.7474 - val_loss: 1.3086 - val_accuracy: 0.7041 - lr: 0.0010\n",
      "Epoch 37/100\n",
      "13/13 [==============================] - 0s 10ms/step - loss: 1.2966 - accuracy: 0.7474 - val_loss: 1.3053 - val_accuracy: 0.7041 - lr: 0.0010\n",
      "Epoch 38/100\n",
      "13/13 [==============================] - 0s 10ms/step - loss: 1.2934 - accuracy: 0.7474 - val_loss: 1.3015 - val_accuracy: 0.7041 - lr: 0.0010\n",
      "Epoch 39/100\n",
      "13/13 [==============================] - 0s 10ms/step - loss: 1.2876 - accuracy: 0.7474 - val_loss: 1.2950 - val_accuracy: 0.7041 - lr: 0.0010\n",
      "Epoch 40/100\n",
      "13/13 [==============================] - 0s 10ms/step - loss: 1.2828 - accuracy: 0.7474 - val_loss: 1.2943 - val_accuracy: 0.7041 - lr: 0.0010\n",
      "Epoch 41/100\n",
      "13/13 [==============================] - 0s 10ms/step - loss: 1.2799 - accuracy: 0.7474 - val_loss: 1.2876 - val_accuracy: 0.7041 - lr: 0.0010\n",
      "Epoch 42/100\n",
      "13/13 [==============================] - 0s 12ms/step - loss: 1.2735 - accuracy: 0.7474 - val_loss: 1.2811 - val_accuracy: 0.7041 - lr: 0.0010\n",
      "Epoch 43/100\n",
      "13/13 [==============================] - 0s 10ms/step - loss: 1.2669 - accuracy: 0.7474 - val_loss: 1.2797 - val_accuracy: 0.7041 - lr: 0.0010\n",
      "Epoch 44/100\n",
      "13/13 [==============================] - 0s 9ms/step - loss: 1.2648 - accuracy: 0.7474 - val_loss: 1.2767 - val_accuracy: 0.7041 - lr: 0.0010\n",
      "Epoch 45/100\n",
      "13/13 [==============================] - 0s 10ms/step - loss: 1.2606 - accuracy: 0.7474 - val_loss: 1.2734 - val_accuracy: 0.7041 - lr: 0.0010\n",
      "Epoch 46/100\n",
      "13/13 [==============================] - 0s 6ms/step - loss: 1.2585 - accuracy: 0.7474 - val_loss: 1.2694 - val_accuracy: 0.7041 - lr: 0.0010\n",
      "Epoch 47/100\n",
      "13/13 [==============================] - 0s 18ms/step - loss: 1.2510 - accuracy: 0.7474 - val_loss: 1.2638 - val_accuracy: 0.7041 - lr: 0.0010\n",
      "Epoch 48/100\n",
      "13/13 [==============================] - 0s 11ms/step - loss: 1.2465 - accuracy: 0.7474 - val_loss: 1.2603 - val_accuracy: 0.7041 - lr: 0.0010\n",
      "Epoch 49/100\n",
      "13/13 [==============================] - 0s 11ms/step - loss: 1.2428 - accuracy: 0.7474 - val_loss: 1.2582 - val_accuracy: 0.7041 - lr: 0.0010\n",
      "Epoch 50/100\n",
      "13/13 [==============================] - 0s 15ms/step - loss: 1.2413 - accuracy: 0.7474 - val_loss: 1.2566 - val_accuracy: 0.7041 - lr: 0.0010\n",
      "Epoch 51/100\n",
      "13/13 [==============================] - 0s 20ms/step - loss: 1.2417 - accuracy: 0.7474 - val_loss: 1.2574 - val_accuracy: 0.7041 - lr: 0.0010\n",
      "Epoch 52/100\n",
      "13/13 [==============================] - 0s 8ms/step - loss: 1.2396 - accuracy: 0.7474 - val_loss: 1.2530 - val_accuracy: 0.7041 - lr: 0.0010\n",
      "Epoch 53/100\n",
      "13/13 [==============================] - 0s 10ms/step - loss: 1.2337 - accuracy: 0.7474 - val_loss: 1.2474 - val_accuracy: 0.7041 - lr: 0.0010\n",
      "Epoch 54/100\n",
      "13/13 [==============================] - 0s 17ms/step - loss: 1.2285 - accuracy: 0.7474 - val_loss: 1.2456 - val_accuracy: 0.7041 - lr: 0.0010\n",
      "Epoch 55/100\n",
      "13/13 [==============================] - 0s 23ms/step - loss: 1.2269 - accuracy: 0.7474 - val_loss: 1.2429 - val_accuracy: 0.7041 - lr: 0.0010\n",
      "Epoch 56/100\n",
      "13/13 [==============================] - 0s 8ms/step - loss: 1.2217 - accuracy: 0.7474 - val_loss: 1.2390 - val_accuracy: 0.7041 - lr: 0.0010\n",
      "Epoch 57/100\n",
      "13/13 [==============================] - 0s 8ms/step - loss: 1.2191 - accuracy: 0.7474 - val_loss: 1.2376 - val_accuracy: 0.7041 - lr: 0.0010\n",
      "Epoch 58/100\n",
      "13/13 [==============================] - 0s 10ms/step - loss: 1.2172 - accuracy: 0.7474 - val_loss: 1.2357 - val_accuracy: 0.7041 - lr: 0.0010\n",
      "Epoch 59/100\n",
      "13/13 [==============================] - 0s 10ms/step - loss: 1.2136 - accuracy: 0.7474 - val_loss: 1.2322 - val_accuracy: 0.7041 - lr: 0.0010\n",
      "Epoch 60/100\n",
      "13/13 [==============================] - 0s 13ms/step - loss: 1.2093 - accuracy: 0.7474 - val_loss: 1.2257 - val_accuracy: 0.7041 - lr: 0.0010\n",
      "Epoch 61/100\n",
      "13/13 [==============================] - 0s 12ms/step - loss: 1.2030 - accuracy: 0.7474 - val_loss: 1.2225 - val_accuracy: 0.7041 - lr: 0.0010\n",
      "Epoch 62/100\n",
      "13/13 [==============================] - 0s 15ms/step - loss: 1.2002 - accuracy: 0.7474 - val_loss: 1.2208 - val_accuracy: 0.7041 - lr: 0.0010\n",
      "Epoch 63/100\n",
      "13/13 [==============================] - 0s 15ms/step - loss: 1.1980 - accuracy: 0.7474 - val_loss: 1.2205 - val_accuracy: 0.7041 - lr: 0.0010\n",
      "Epoch 64/100\n",
      "13/13 [==============================] - 0s 10ms/step - loss: 1.1990 - accuracy: 0.7474 - val_loss: 1.2176 - val_accuracy: 0.7041 - lr: 0.0010\n",
      "Epoch 65/100\n",
      "13/13 [==============================] - 0s 12ms/step - loss: 1.1942 - accuracy: 0.7474 - val_loss: 1.2145 - val_accuracy: 0.7041 - lr: 0.0010\n",
      "Epoch 66/100\n",
      "13/13 [==============================] - 0s 14ms/step - loss: 1.1914 - accuracy: 0.7474 - val_loss: 1.2136 - val_accuracy: 0.7041 - lr: 0.0010\n",
      "Epoch 67/100\n",
      "13/13 [==============================] - 0s 15ms/step - loss: 1.1903 - accuracy: 0.7474 - val_loss: 1.2125 - val_accuracy: 0.7041 - lr: 0.0010\n",
      "Epoch 68/100\n",
      "13/13 [==============================] - 0s 6ms/step - loss: 1.1876 - accuracy: 0.7474 - val_loss: 1.2097 - val_accuracy: 0.7041 - lr: 0.0010\n",
      "Epoch 69/100\n",
      "13/13 [==============================] - 0s 6ms/step - loss: 1.1860 - accuracy: 0.7474 - val_loss: 1.2053 - val_accuracy: 0.7041 - lr: 0.0010\n",
      "Epoch 70/100\n",
      "13/13 [==============================] - 0s 10ms/step - loss: 1.1833 - accuracy: 0.7474 - val_loss: 1.2041 - val_accuracy: 0.7041 - lr: 0.0010\n",
      "Epoch 71/100\n",
      "13/13 [==============================] - 0s 12ms/step - loss: 1.1803 - accuracy: 0.7474 - val_loss: 1.2013 - val_accuracy: 0.7041 - lr: 0.0010\n",
      "Epoch 72/100\n",
      "13/13 [==============================] - 0s 10ms/step - loss: 1.1795 - accuracy: 0.7474 - val_loss: 1.2001 - val_accuracy: 0.7041 - lr: 0.0010\n",
      "Epoch 73/100\n",
      "13/13 [==============================] - 0s 12ms/step - loss: 1.1757 - accuracy: 0.7474 - val_loss: 1.1980 - val_accuracy: 0.7041 - lr: 0.0010\n",
      "Epoch 74/100\n",
      "13/13 [==============================] - 0s 9ms/step - loss: 1.1757 - accuracy: 0.7474 - val_loss: 1.1993 - val_accuracy: 0.7041 - lr: 0.0010\n",
      "Epoch 75/100\n",
      "13/13 [==============================] - 0s 10ms/step - loss: 1.1750 - accuracy: 0.7474 - val_loss: 1.1975 - val_accuracy: 0.7041 - lr: 0.0010\n",
      "Epoch 76/100\n",
      "13/13 [==============================] - 0s 7ms/step - loss: 1.1739 - accuracy: 0.7474 - val_loss: 1.1957 - val_accuracy: 0.7041 - lr: 0.0010\n",
      "Epoch 77/100\n",
      "13/13 [==============================] - 0s 6ms/step - loss: 1.1715 - accuracy: 0.7474 - val_loss: 1.1901 - val_accuracy: 0.7041 - lr: 0.0010\n",
      "Epoch 78/100\n",
      "13/13 [==============================] - 0s 17ms/step - loss: 1.1658 - accuracy: 0.7474 - val_loss: 1.1869 - val_accuracy: 0.7041 - lr: 0.0010\n",
      "Epoch 79/100\n",
      "13/13 [==============================] - 0s 13ms/step - loss: 1.1615 - accuracy: 0.7474 - val_loss: 1.1836 - val_accuracy: 0.7041 - lr: 0.0010\n",
      "Epoch 80/100\n",
      "13/13 [==============================] - 0s 8ms/step - loss: 1.1580 - accuracy: 0.7474 - val_loss: 1.1791 - val_accuracy: 0.7041 - lr: 0.0010\n",
      "Epoch 81/100\n",
      "13/13 [==============================] - 0s 5ms/step - loss: 1.1526 - accuracy: 0.7474 - val_loss: 1.1749 - val_accuracy: 0.7041 - lr: 0.0010\n",
      "Epoch 82/100\n",
      "13/13 [==============================] - 0s 6ms/step - loss: 1.1505 - accuracy: 0.7474 - val_loss: 1.1717 - val_accuracy: 0.7041 - lr: 0.0010\n",
      "Epoch 83/100\n",
      "13/13 [==============================] - 0s 7ms/step - loss: 1.1455 - accuracy: 0.7474 - val_loss: 1.1708 - val_accuracy: 0.7041 - lr: 0.0010\n",
      "Epoch 84/100\n",
      "13/13 [==============================] - 0s 11ms/step - loss: 1.1448 - accuracy: 0.7474 - val_loss: 1.1705 - val_accuracy: 0.7041 - lr: 0.0010\n",
      "Epoch 85/100\n",
      "13/13 [==============================] - 0s 16ms/step - loss: 1.1428 - accuracy: 0.7474 - val_loss: 1.1666 - val_accuracy: 0.7041 - lr: 0.0010\n",
      "Epoch 86/100\n",
      "13/13 [==============================] - 0s 18ms/step - loss: 1.1401 - accuracy: 0.7474 - val_loss: 1.1658 - val_accuracy: 0.7041 - lr: 0.0010\n",
      "Epoch 87/100\n",
      "13/13 [==============================] - 0s 16ms/step - loss: 1.1368 - accuracy: 0.7474 - val_loss: 1.1608 - val_accuracy: 0.7041 - lr: 0.0010\n",
      "Epoch 88/100\n",
      "13/13 [==============================] - 0s 16ms/step - loss: 1.1310 - accuracy: 0.7474 - val_loss: 1.1553 - val_accuracy: 0.7041 - lr: 0.0010\n",
      "Epoch 89/100\n",
      "13/13 [==============================] - 0s 17ms/step - loss: 1.1288 - accuracy: 0.7474 - val_loss: 1.1565 - val_accuracy: 0.7041 - lr: 0.0010\n",
      "Epoch 90/100\n",
      "13/13 [==============================] - 0s 18ms/step - loss: 1.1284 - accuracy: 0.7474 - val_loss: 1.1553 - val_accuracy: 0.7041 - lr: 0.0010\n",
      "Epoch 91/100\n",
      "13/13 [==============================] - 0s 17ms/step - loss: 1.1259 - accuracy: 0.7474 - val_loss: 1.1528 - val_accuracy: 0.7041 - lr: 0.0010\n",
      "Epoch 92/100\n",
      "13/13 [==============================] - 0s 25ms/step - loss: 1.1236 - accuracy: 0.7474 - val_loss: 1.1509 - val_accuracy: 0.7041 - lr: 0.0010\n",
      "Epoch 93/100\n",
      "13/13 [==============================] - 0s 21ms/step - loss: 1.1197 - accuracy: 0.7474 - val_loss: 1.1462 - val_accuracy: 0.7041 - lr: 0.0010\n",
      "Epoch 94/100\n",
      "13/13 [==============================] - 0s 28ms/step - loss: 1.1156 - accuracy: 0.7474 - val_loss: 1.1433 - val_accuracy: 0.7041 - lr: 0.0010\n",
      "Epoch 95/100\n",
      "13/13 [==============================] - 0s 21ms/step - loss: 1.1116 - accuracy: 0.7474 - val_loss: 1.1399 - val_accuracy: 0.7041 - lr: 0.0010\n",
      "Epoch 96/100\n",
      "13/13 [==============================] - 0s 20ms/step - loss: 1.1090 - accuracy: 0.7474 - val_loss: 1.1383 - val_accuracy: 0.7041 - lr: 0.0010\n",
      "Epoch 97/100\n",
      "13/13 [==============================] - 0s 22ms/step - loss: 1.1057 - accuracy: 0.7474 - val_loss: 1.1342 - val_accuracy: 0.7041 - lr: 0.0010\n",
      "Epoch 98/100\n",
      "13/13 [==============================] - 0s 23ms/step - loss: 1.1020 - accuracy: 0.7474 - val_loss: 1.1324 - val_accuracy: 0.7041 - lr: 0.0010\n",
      "Epoch 99/100\n",
      "13/13 [==============================] - 0s 23ms/step - loss: 1.0985 - accuracy: 0.7474 - val_loss: 1.1275 - val_accuracy: 0.7041 - lr: 0.0010\n",
      "Epoch 100/100\n",
      "13/13 [==============================] - 0s 20ms/step - loss: 1.0958 - accuracy: 0.7474 - val_loss: 1.1286 - val_accuracy: 0.7041 - lr: 0.0010\n"
     ]
    }
   ],
   "source": [
    "# Build a model with differential privacy\n",
    "model_dp = create_model(num_features, num_classes)\n",
    "\n",
    "# Use callbacks for early stopping and learning rate scheduling\n",
    "early_stopping = keras.callbacks.EarlyStopping(patience=10, restore_best_weights=True)\n",
    "lr_scheduler = keras.callbacks.ReduceLROnPlateau(factor=0.5, patience=5)\n",
    "\n",
    "# Train the model\n",
    "history = model_dp.fit(\n",
    "    X_train_scaled, y_train_cat,\n",
    "    epochs=epochs,\n",
    "    batch_size=batch_size,\n",
    "    validation_split=0.2,\n",
    "    verbose=1,\n",
    "    callbacks =[early_stopping, lr_scheduler]\n",
    ")"
   ]
  },
  {
   "cell_type": "markdown",
   "metadata": {},
   "source": [
    "#### Model Evaluation"
   ]
  },
  {
   "cell_type": "code",
   "execution_count": 24,
   "metadata": {},
   "outputs": [],
   "source": [
    "from sklearn.metrics import accuracy_score, precision_score, recall_score, f1_score\n",
    "\n",
    "def evaluate(model):\n",
    "\n",
    "    # Making Predictions\n",
    "    y_pred = model.predict(X_test_scaled)\n",
    "    y_pred_classes = np.argmax(y_pred, axis=1)\n",
    "    y_test_classes = np.argmax(y_test_cat, axis=1)\n",
    "\n",
    "    # Calculating the metrics\n",
    "    accuracy = accuracy_score(y_test_classes, y_pred_classes)\n",
    "    precision = precision_score(y_test_classes, y_pred_classes, average='weighted')\n",
    "    recall = recall_score(y_test_classes, y_pred_classes, average='weighted')\n",
    "    f1 = f1_score(y_test_classes, y_pred_classes, average='weighted')\n",
    "\n",
    "    # Printing out metrics\n",
    "    print(f\"Accuracy: {accuracy:.4f}\")\n",
    "    print(f\"Precision: {precision:.4f}\")\n",
    "    print(f\"Recall: {recall:.4f}\")\n",
    "    print(f\"F1 Score: {f1:.4f}\")"
   ]
  },
  {
   "cell_type": "code",
   "execution_count": 22,
   "metadata": {},
   "outputs": [
    {
     "name": "stdout",
     "output_type": "stream",
     "text": [
      "2/2 [==============================] - 0s 4ms/step\n",
      "Accuracy: 0.8537\n",
      "Precision: 0.2134\n",
      "Recall: 0.8537\n",
      "F1 Score: 0.2303\n"
     ]
    },
    {
     "name": "stderr",
     "output_type": "stream",
     "text": [
      "c:\\Users\\chery\\anaconda3\\envs\\fyp1\\Lib\\site-packages\\sklearn\\metrics\\_classification.py:1531: UndefinedMetricWarning: Precision is ill-defined and being set to 0.0 in labels with no predicted samples. Use `zero_division` parameter to control this behavior.\n",
      "  _warn_prf(average, modifier, f\"{metric.capitalize()} is\", len(result))\n"
     ]
    }
   ],
   "source": [
    "evaluate(model_dp)"
   ]
  },
  {
   "cell_type": "code",
   "execution_count": 9,
   "metadata": {},
   "outputs": [
    {
     "data": {
      "image/png": "[encoded data removed]",
      "text/plain": [
       "<Figure size 640x480 with 1 Axes>"
      ]
     },
     "metadata": {},
     "output_type": "display_data"
    }
   ],
   "source": [
    "import matplotlib.pyplot as plt\n",
    "\n",
    "plt.plot(history.history['accuracy'], label='accuracy')\n",
    "plt.plot(history.history['val_accuracy'], label='val_accuracy')\n",
    "plt.xlabel('Epoch')\n",
    "plt.ylabel('Accuracy')\n",
    "plt.legend()\n",
    "plt.show()"
   ]
  },
  {
   "cell_type": "markdown",
   "metadata": {},
   "source": [
    "### Non-Differential Privacy Model"
   ]
  },
  {
   "cell_type": "code",
   "execution_count": 10,
   "metadata": {},
   "outputs": [
    {
     "name": "stdout",
     "output_type": "stream",
     "text": [
      "Epoch 1/100\n",
      "13/13 [==============================] - 2s 28ms/step - loss: 1.4548 - accuracy: 0.4742 - val_loss: 1.4385 - val_accuracy: 0.7041 - lr: 0.0010\n",
      "Epoch 2/100\n",
      "13/13 [==============================] - 0s 7ms/step - loss: 1.4144 - accuracy: 0.7423 - val_loss: 1.3956 - val_accuracy: 0.6735 - lr: 0.0010\n",
      "Epoch 3/100\n",
      "13/13 [==============================] - 0s 8ms/step - loss: 1.3649 - accuracy: 0.7371 - val_loss: 1.3455 - val_accuracy: 0.6837 - lr: 0.0010\n",
      "Epoch 4/100\n",
      "13/13 [==============================] - 0s 13ms/step - loss: 1.3116 - accuracy: 0.7371 - val_loss: 1.2965 - val_accuracy: 0.6837 - lr: 0.0010\n",
      "Epoch 5/100\n",
      "13/13 [==============================] - 0s 8ms/step - loss: 1.2606 - accuracy: 0.7371 - val_loss: 1.2507 - val_accuracy: 0.7041 - lr: 0.0010\n",
      "Epoch 6/100\n",
      "13/13 [==============================] - 0s 6ms/step - loss: 1.2122 - accuracy: 0.7474 - val_loss: 1.2076 - val_accuracy: 0.7041 - lr: 0.0010\n",
      "Epoch 7/100\n",
      "13/13 [==============================] - 0s 9ms/step - loss: 1.1662 - accuracy: 0.7474 - val_loss: 1.1700 - val_accuracy: 0.7041 - lr: 0.0010\n",
      "Epoch 8/100\n",
      "13/13 [==============================] - 0s 10ms/step - loss: 1.1249 - accuracy: 0.7474 - val_loss: 1.1335 - val_accuracy: 0.7041 - lr: 0.0010\n",
      "Epoch 9/100\n",
      "13/13 [==============================] - 0s 10ms/step - loss: 1.0862 - accuracy: 0.7474 - val_loss: 1.1016 - val_accuracy: 0.7041 - lr: 0.0010\n",
      "Epoch 10/100\n",
      "13/13 [==============================] - 0s 14ms/step - loss: 1.0532 - accuracy: 0.7474 - val_loss: 1.0738 - val_accuracy: 0.7041 - lr: 0.0010\n",
      "Epoch 11/100\n",
      "13/13 [==============================] - 0s 11ms/step - loss: 1.0218 - accuracy: 0.7474 - val_loss: 1.0495 - val_accuracy: 0.7041 - lr: 0.0010\n",
      "Epoch 12/100\n",
      "13/13 [==============================] - 0s 9ms/step - loss: 0.9948 - accuracy: 0.7474 - val_loss: 1.0275 - val_accuracy: 0.7041 - lr: 0.0010\n",
      "Epoch 13/100\n",
      "13/13 [==============================] - 0s 7ms/step - loss: 0.9700 - accuracy: 0.7474 - val_loss: 1.0090 - val_accuracy: 0.7041 - lr: 0.0010\n",
      "Epoch 14/100\n",
      "13/13 [==============================] - 0s 7ms/step - loss: 0.9499 - accuracy: 0.7474 - val_loss: 0.9942 - val_accuracy: 0.7041 - lr: 0.0010\n",
      "Epoch 15/100\n",
      "13/13 [==============================] - 0s 6ms/step - loss: 0.9322 - accuracy: 0.7474 - val_loss: 0.9803 - val_accuracy: 0.7041 - lr: 0.0010\n",
      "Epoch 16/100\n",
      "13/13 [==============================] - 0s 12ms/step - loss: 0.9159 - accuracy: 0.7474 - val_loss: 0.9707 - val_accuracy: 0.7041 - lr: 0.0010\n",
      "Epoch 17/100\n",
      "13/13 [==============================] - 0s 13ms/step - loss: 0.9042 - accuracy: 0.7474 - val_loss: 0.9616 - val_accuracy: 0.7041 - lr: 0.0010\n",
      "Epoch 18/100\n",
      "13/13 [==============================] - 0s 6ms/step - loss: 0.8923 - accuracy: 0.7474 - val_loss: 0.9541 - val_accuracy: 0.7041 - lr: 0.0010\n",
      "Epoch 19/100\n",
      "13/13 [==============================] - 0s 6ms/step - loss: 0.8831 - accuracy: 0.7474 - val_loss: 0.9476 - val_accuracy: 0.7041 - lr: 0.0010\n",
      "Epoch 20/100\n",
      "13/13 [==============================] - 0s 9ms/step - loss: 0.8745 - accuracy: 0.7474 - val_loss: 0.9429 - val_accuracy: 0.7041 - lr: 0.0010\n",
      "Epoch 21/100\n",
      "13/13 [==============================] - 0s 11ms/step - loss: 0.8681 - accuracy: 0.7474 - val_loss: 0.9391 - val_accuracy: 0.7041 - lr: 0.0010\n",
      "Epoch 22/100\n",
      "13/13 [==============================] - 0s 6ms/step - loss: 0.8626 - accuracy: 0.7474 - val_loss: 0.9356 - val_accuracy: 0.7041 - lr: 0.0010\n",
      "Epoch 23/100\n",
      "13/13 [==============================] - 0s 7ms/step - loss: 0.8579 - accuracy: 0.7474 - val_loss: 0.9329 - val_accuracy: 0.7041 - lr: 0.0010\n",
      "Epoch 24/100\n",
      "13/13 [==============================] - 0s 7ms/step - loss: 0.8542 - accuracy: 0.7474 - val_loss: 0.9301 - val_accuracy: 0.7041 - lr: 0.0010\n",
      "Epoch 25/100\n",
      "13/13 [==============================] - 0s 6ms/step - loss: 0.8506 - accuracy: 0.7474 - val_loss: 0.9275 - val_accuracy: 0.7041 - lr: 0.0010\n",
      "Epoch 26/100\n",
      "13/13 [==============================] - 0s 9ms/step - loss: 0.8470 - accuracy: 0.7474 - val_loss: 0.9248 - val_accuracy: 0.7041 - lr: 0.0010\n",
      "Epoch 27/100\n",
      "13/13 [==============================] - 0s 9ms/step - loss: 0.8438 - accuracy: 0.7474 - val_loss: 0.9221 - val_accuracy: 0.7041 - lr: 0.0010\n",
      "Epoch 28/100\n",
      "13/13 [==============================] - 0s 7ms/step - loss: 0.8408 - accuracy: 0.7474 - val_loss: 0.9202 - val_accuracy: 0.7041 - lr: 0.0010\n",
      "Epoch 29/100\n",
      "13/13 [==============================] - 0s 9ms/step - loss: 0.8379 - accuracy: 0.7474 - val_loss: 0.9183 - val_accuracy: 0.7041 - lr: 0.0010\n",
      "Epoch 30/100\n",
      "13/13 [==============================] - 0s 9ms/step - loss: 0.8355 - accuracy: 0.7474 - val_loss: 0.9161 - val_accuracy: 0.7041 - lr: 0.0010\n",
      "Epoch 31/100\n",
      "13/13 [==============================] - 0s 11ms/step - loss: 0.8328 - accuracy: 0.7474 - val_loss: 0.9137 - val_accuracy: 0.7041 - lr: 0.0010\n",
      "Epoch 32/100\n",
      "13/13 [==============================] - 0s 13ms/step - loss: 0.8304 - accuracy: 0.7474 - val_loss: 0.9114 - val_accuracy: 0.7041 - lr: 0.0010\n",
      "Epoch 33/100\n",
      "13/13 [==============================] - 0s 10ms/step - loss: 0.8281 - accuracy: 0.7474 - val_loss: 0.9090 - val_accuracy: 0.7041 - lr: 0.0010\n",
      "Epoch 34/100\n",
      "13/13 [==============================] - 0s 11ms/step - loss: 0.8260 - accuracy: 0.7474 - val_loss: 0.9068 - val_accuracy: 0.7041 - lr: 0.0010\n",
      "Epoch 35/100\n",
      "13/13 [==============================] - 0s 11ms/step - loss: 0.8238 - accuracy: 0.7474 - val_loss: 0.9055 - val_accuracy: 0.7041 - lr: 0.0010\n",
      "Epoch 36/100\n",
      "13/13 [==============================] - 0s 9ms/step - loss: 0.8219 - accuracy: 0.7474 - val_loss: 0.9036 - val_accuracy: 0.7041 - lr: 0.0010\n",
      "Epoch 37/100\n",
      "13/13 [==============================] - 0s 11ms/step - loss: 0.8197 - accuracy: 0.7474 - val_loss: 0.9015 - val_accuracy: 0.7041 - lr: 0.0010\n",
      "Epoch 38/100\n",
      "13/13 [==============================] - 0s 15ms/step - loss: 0.8177 - accuracy: 0.7474 - val_loss: 0.8995 - val_accuracy: 0.7041 - lr: 0.0010\n",
      "Epoch 39/100\n",
      "13/13 [==============================] - 0s 8ms/step - loss: 0.8155 - accuracy: 0.7474 - val_loss: 0.8975 - val_accuracy: 0.7041 - lr: 0.0010\n",
      "Epoch 40/100\n",
      "13/13 [==============================] - 0s 6ms/step - loss: 0.8139 - accuracy: 0.7474 - val_loss: 0.8954 - val_accuracy: 0.7041 - lr: 0.0010\n",
      "Epoch 41/100\n",
      "13/13 [==============================] - 0s 6ms/step - loss: 0.8119 - accuracy: 0.7474 - val_loss: 0.8940 - val_accuracy: 0.7041 - lr: 0.0010\n",
      "Epoch 42/100\n",
      "13/13 [==============================] - 0s 8ms/step - loss: 0.8103 - accuracy: 0.7474 - val_loss: 0.8927 - val_accuracy: 0.7041 - lr: 0.0010\n",
      "Epoch 43/100\n",
      "13/13 [==============================] - 0s 8ms/step - loss: 0.8089 - accuracy: 0.7474 - val_loss: 0.8916 - val_accuracy: 0.7041 - lr: 0.0010\n",
      "Epoch 44/100\n",
      "13/13 [==============================] - 0s 8ms/step - loss: 0.8073 - accuracy: 0.7474 - val_loss: 0.8900 - val_accuracy: 0.7041 - lr: 0.0010\n",
      "Epoch 45/100\n",
      "13/13 [==============================] - 0s 7ms/step - loss: 0.8060 - accuracy: 0.7474 - val_loss: 0.8891 - val_accuracy: 0.7041 - lr: 0.0010\n",
      "Epoch 46/100\n",
      "13/13 [==============================] - 0s 9ms/step - loss: 0.8044 - accuracy: 0.7474 - val_loss: 0.8879 - val_accuracy: 0.7041 - lr: 0.0010\n",
      "Epoch 47/100\n",
      "13/13 [==============================] - 0s 7ms/step - loss: 0.8029 - accuracy: 0.7474 - val_loss: 0.8858 - val_accuracy: 0.7041 - lr: 0.0010\n",
      "Epoch 48/100\n",
      "13/13 [==============================] - 0s 8ms/step - loss: 0.8017 - accuracy: 0.7474 - val_loss: 0.8834 - val_accuracy: 0.7041 - lr: 0.0010\n",
      "Epoch 49/100\n",
      "13/13 [==============================] - 0s 8ms/step - loss: 0.8002 - accuracy: 0.7474 - val_loss: 0.8811 - val_accuracy: 0.7041 - lr: 0.0010\n",
      "Epoch 50/100\n",
      "13/13 [==============================] - 0s 8ms/step - loss: 0.7989 - accuracy: 0.7474 - val_loss: 0.8796 - val_accuracy: 0.7041 - lr: 0.0010\n",
      "Epoch 51/100\n",
      "13/13 [==============================] - 0s 10ms/step - loss: 0.7977 - accuracy: 0.7474 - val_loss: 0.8777 - val_accuracy: 0.7041 - lr: 0.0010\n",
      "Epoch 52/100\n",
      "13/13 [==============================] - 0s 8ms/step - loss: 0.7965 - accuracy: 0.7474 - val_loss: 0.8768 - val_accuracy: 0.7041 - lr: 0.0010\n",
      "Epoch 53/100\n",
      "13/13 [==============================] - 0s 14ms/step - loss: 0.7946 - accuracy: 0.7474 - val_loss: 0.8755 - val_accuracy: 0.7041 - lr: 0.0010\n",
      "Epoch 54/100\n",
      "13/13 [==============================] - 0s 5ms/step - loss: 0.7933 - accuracy: 0.7474 - val_loss: 0.8740 - val_accuracy: 0.7041 - lr: 0.0010\n",
      "Epoch 55/100\n",
      "13/13 [==============================] - 0s 13ms/step - loss: 0.7921 - accuracy: 0.7474 - val_loss: 0.8713 - val_accuracy: 0.7041 - lr: 0.0010\n",
      "Epoch 56/100\n",
      "13/13 [==============================] - 0s 6ms/step - loss: 0.7906 - accuracy: 0.7474 - val_loss: 0.8697 - val_accuracy: 0.7041 - lr: 0.0010\n",
      "Epoch 57/100\n",
      "13/13 [==============================] - 0s 7ms/step - loss: 0.7895 - accuracy: 0.7474 - val_loss: 0.8677 - val_accuracy: 0.7041 - lr: 0.0010\n",
      "Epoch 58/100\n",
      "13/13 [==============================] - 0s 9ms/step - loss: 0.7880 - accuracy: 0.7474 - val_loss: 0.8665 - val_accuracy: 0.7041 - lr: 0.0010\n",
      "Epoch 59/100\n",
      "13/13 [==============================] - 0s 15ms/step - loss: 0.7863 - accuracy: 0.7474 - val_loss: 0.8648 - val_accuracy: 0.7041 - lr: 0.0010\n",
      "Epoch 60/100\n",
      "13/13 [==============================] - 0s 6ms/step - loss: 0.7850 - accuracy: 0.7474 - val_loss: 0.8628 - val_accuracy: 0.7041 - lr: 0.0010\n",
      "Epoch 61/100\n",
      "13/13 [==============================] - 0s 7ms/step - loss: 0.7839 - accuracy: 0.7474 - val_loss: 0.8605 - val_accuracy: 0.7041 - lr: 0.0010\n",
      "Epoch 62/100\n",
      "13/13 [==============================] - 0s 9ms/step - loss: 0.7830 - accuracy: 0.7474 - val_loss: 0.8596 - val_accuracy: 0.7041 - lr: 0.0010\n",
      "Epoch 63/100\n",
      "13/13 [==============================] - 0s 6ms/step - loss: 0.7815 - accuracy: 0.7474 - val_loss: 0.8583 - val_accuracy: 0.7041 - lr: 0.0010\n",
      "Epoch 64/100\n",
      "13/13 [==============================] - 0s 8ms/step - loss: 0.7803 - accuracy: 0.7474 - val_loss: 0.8579 - val_accuracy: 0.7041 - lr: 0.0010\n",
      "Epoch 65/100\n",
      "13/13 [==============================] - 0s 8ms/step - loss: 0.7790 - accuracy: 0.7474 - val_loss: 0.8572 - val_accuracy: 0.7041 - lr: 0.0010\n",
      "Epoch 66/100\n",
      "13/13 [==============================] - 0s 8ms/step - loss: 0.7780 - accuracy: 0.7474 - val_loss: 0.8557 - val_accuracy: 0.7041 - lr: 0.0010\n",
      "Epoch 67/100\n",
      "13/13 [==============================] - 0s 9ms/step - loss: 0.7768 - accuracy: 0.7474 - val_loss: 0.8541 - val_accuracy: 0.7041 - lr: 0.0010\n",
      "Epoch 68/100\n",
      "13/13 [==============================] - 0s 14ms/step - loss: 0.7757 - accuracy: 0.7474 - val_loss: 0.8513 - val_accuracy: 0.7041 - lr: 0.0010\n",
      "Epoch 69/100\n",
      "13/13 [==============================] - 0s 14ms/step - loss: 0.7747 - accuracy: 0.7474 - val_loss: 0.8493 - val_accuracy: 0.7041 - lr: 0.0010\n",
      "Epoch 70/100\n",
      "13/13 [==============================] - 0s 16ms/step - loss: 0.7735 - accuracy: 0.7474 - val_loss: 0.8476 - val_accuracy: 0.7041 - lr: 0.0010\n",
      "Epoch 71/100\n",
      "13/13 [==============================] - 0s 14ms/step - loss: 0.7724 - accuracy: 0.7474 - val_loss: 0.8457 - val_accuracy: 0.7041 - lr: 0.0010\n",
      "Epoch 72/100\n",
      "13/13 [==============================] - 1s 43ms/step - loss: 0.7713 - accuracy: 0.7474 - val_loss: 0.8443 - val_accuracy: 0.7041 - lr: 0.0010\n",
      "Epoch 73/100\n",
      "13/13 [==============================] - 0s 15ms/step - loss: 0.7703 - accuracy: 0.7474 - val_loss: 0.8431 - val_accuracy: 0.7041 - lr: 0.0010\n",
      "Epoch 74/100\n",
      "13/13 [==============================] - 0s 16ms/step - loss: 0.7692 - accuracy: 0.7474 - val_loss: 0.8422 - val_accuracy: 0.7041 - lr: 0.0010\n",
      "Epoch 75/100\n",
      "13/13 [==============================] - 0s 17ms/step - loss: 0.7688 - accuracy: 0.7474 - val_loss: 0.8425 - val_accuracy: 0.7041 - lr: 0.0010\n",
      "Epoch 76/100\n",
      "13/13 [==============================] - 0s 6ms/step - loss: 0.7676 - accuracy: 0.7474 - val_loss: 0.8422 - val_accuracy: 0.7041 - lr: 0.0010\n",
      "Epoch 77/100\n",
      "13/13 [==============================] - 0s 6ms/step - loss: 0.7669 - accuracy: 0.7474 - val_loss: 0.8407 - val_accuracy: 0.7041 - lr: 0.0010\n",
      "Epoch 78/100\n",
      "13/13 [==============================] - 0s 5ms/step - loss: 0.7657 - accuracy: 0.7474 - val_loss: 0.8394 - val_accuracy: 0.7041 - lr: 0.0010\n",
      "Epoch 79/100\n",
      "13/13 [==============================] - 0s 5ms/step - loss: 0.7649 - accuracy: 0.7474 - val_loss: 0.8393 - val_accuracy: 0.7041 - lr: 0.0010\n",
      "Epoch 80/100\n",
      "13/13 [==============================] - 0s 6ms/step - loss: 0.7641 - accuracy: 0.7474 - val_loss: 0.8379 - val_accuracy: 0.7041 - lr: 0.0010\n",
      "Epoch 81/100\n",
      "13/13 [==============================] - 0s 7ms/step - loss: 0.7628 - accuracy: 0.7474 - val_loss: 0.8377 - val_accuracy: 0.7041 - lr: 0.0010\n",
      "Epoch 82/100\n",
      "13/13 [==============================] - 0s 9ms/step - loss: 0.7626 - accuracy: 0.7474 - val_loss: 0.8372 - val_accuracy: 0.7041 - lr: 0.0010\n",
      "Epoch 83/100\n",
      "13/13 [==============================] - 0s 8ms/step - loss: 0.7615 - accuracy: 0.7474 - val_loss: 0.8360 - val_accuracy: 0.7041 - lr: 0.0010\n",
      "Epoch 84/100\n",
      "13/13 [==============================] - 0s 9ms/step - loss: 0.7605 - accuracy: 0.7474 - val_loss: 0.8341 - val_accuracy: 0.7041 - lr: 0.0010\n",
      "Epoch 85/100\n",
      "13/13 [==============================] - 0s 11ms/step - loss: 0.7595 - accuracy: 0.7474 - val_loss: 0.8325 - val_accuracy: 0.7041 - lr: 0.0010\n",
      "Epoch 86/100\n",
      "13/13 [==============================] - 0s 6ms/step - loss: 0.7587 - accuracy: 0.7474 - val_loss: 0.8315 - val_accuracy: 0.7041 - lr: 0.0010\n",
      "Epoch 87/100\n",
      "13/13 [==============================] - 0s 5ms/step - loss: 0.7579 - accuracy: 0.7474 - val_loss: 0.8309 - val_accuracy: 0.7041 - lr: 0.0010\n",
      "Epoch 88/100\n",
      "13/13 [==============================] - 0s 6ms/step - loss: 0.7570 - accuracy: 0.7474 - val_loss: 0.8301 - val_accuracy: 0.7041 - lr: 0.0010\n",
      "Epoch 89/100\n",
      "13/13 [==============================] - 0s 11ms/step - loss: 0.7565 - accuracy: 0.7474 - val_loss: 0.8283 - val_accuracy: 0.7041 - lr: 0.0010\n",
      "Epoch 90/100\n",
      "13/13 [==============================] - 0s 6ms/step - loss: 0.7553 - accuracy: 0.7474 - val_loss: 0.8255 - val_accuracy: 0.7041 - lr: 0.0010\n",
      "Epoch 91/100\n",
      "13/13 [==============================] - 0s 10ms/step - loss: 0.7544 - accuracy: 0.7474 - val_loss: 0.8242 - val_accuracy: 0.7041 - lr: 0.0010\n",
      "Epoch 92/100\n",
      "13/13 [==============================] - 0s 13ms/step - loss: 0.7535 - accuracy: 0.7474 - val_loss: 0.8226 - val_accuracy: 0.7041 - lr: 0.0010\n",
      "Epoch 93/100\n",
      "13/13 [==============================] - 0s 7ms/step - loss: 0.7539 - accuracy: 0.7474 - val_loss: 0.8201 - val_accuracy: 0.7041 - lr: 0.0010\n",
      "Epoch 94/100\n",
      "13/13 [==============================] - 0s 6ms/step - loss: 0.7518 - accuracy: 0.7474 - val_loss: 0.8195 - val_accuracy: 0.7041 - lr: 0.0010\n",
      "Epoch 95/100\n",
      "13/13 [==============================] - 0s 16ms/step - loss: 0.7510 - accuracy: 0.7474 - val_loss: 0.8183 - val_accuracy: 0.7041 - lr: 0.0010\n",
      "Epoch 96/100\n",
      "13/13 [==============================] - 0s 7ms/step - loss: 0.7500 - accuracy: 0.7474 - val_loss: 0.8181 - val_accuracy: 0.7041 - lr: 0.0010\n",
      "Epoch 97/100\n",
      "13/13 [==============================] - 0s 7ms/step - loss: 0.7494 - accuracy: 0.7474 - val_loss: 0.8181 - val_accuracy: 0.7041 - lr: 0.0010\n",
      "Epoch 98/100\n",
      "13/13 [==============================] - 0s 7ms/step - loss: 0.7491 - accuracy: 0.7474 - val_loss: 0.8182 - val_accuracy: 0.7041 - lr: 0.0010\n",
      "Epoch 99/100\n",
      "13/13 [==============================] - 0s 6ms/step - loss: 0.7482 - accuracy: 0.7474 - val_loss: 0.8164 - val_accuracy: 0.7041 - lr: 0.0010\n",
      "Epoch 100/100\n",
      "13/13 [==============================] - 0s 8ms/step - loss: 0.7473 - accuracy: 0.7474 - val_loss: 0.8133 - val_accuracy: 0.7041 - lr: 0.0010\n"
     ]
    }
   ],
   "source": [
    "from keras.optimizers import SGD\n",
    "\n",
    "sgd = SGD(learning_rate=learning_rate, momentum=momentum)\n",
    "\n",
    "model = create_model(num_features, num_classes, optimizer=sgd)\n",
    "\n",
    "history = model.fit(\n",
    "    X_train_combined, y_train_combined,\n",
    "    epochs=epochs,\n",
    "    batch_size=batch_size,\n",
    "    validation_split=0.2,\n",
    "    verbose=1,\n",
    "    callbacks =[early_stopping, lr_scheduler]\n",
    ")"
   ]
  },
  {
   "cell_type": "code",
   "execution_count": 23,
   "metadata": {},
   "outputs": [
    {
     "name": "stdout",
     "output_type": "stream",
     "text": [
      "2/2 [==============================] - 0s 5ms/step\n",
      "Accuracy: 0.8537\n",
      "Precision: 0.3429\n",
      "Recall: 0.8537\n",
      "F1 Score: 0.3297\n"
     ]
    },
    {
     "name": "stderr",
     "output_type": "stream",
     "text": [
      "c:\\Users\\chery\\anaconda3\\envs\\fyp1\\Lib\\site-packages\\sklearn\\metrics\\_classification.py:1531: UndefinedMetricWarning: Precision is ill-defined and being set to 0.0 in labels with no predicted samples. Use `zero_division` parameter to control this behavior.\n",
      "  _warn_prf(average, modifier, f\"{metric.capitalize()} is\", len(result))\n"
     ]
    }
   ],
   "source": [
    "# Evaluate the model\n",
    "evaluate(model)"
   ]
  },
  {
   "cell_type": "code",
   "execution_count": 12,
   "metadata": {},
   "outputs": [
    {
     "data": {
      "image/png": "[encoded data removed]",
      "text/plain": [
       "<Figure size 640x480 with 1 Axes>"
      ]
     },
     "metadata": {},
     "output_type": "display_data"
    }
   ],
   "source": [
    "import matplotlib.pyplot as plt\n",
    "\n",
    "plt.plot(history.history['accuracy'], label='accuracy')\n",
    "plt.plot(history.history['val_accuracy'], label='val_accuracy')\n",
    "plt.xlabel('Epoch')\n",
    "plt.ylabel('Accuracy')\n",
    "plt.legend()\n",
    "plt.show()"
   ]
  },
  {
   "cell_type": "markdown",
   "metadata": {},
   "source": [
    "### Saving Models"
   ]
  },
  {
   "cell_type": "code",
   "execution_count": null,
   "metadata": {},
   "outputs": [],
   "source": [
    "model_dp.save('src/model')"
   ]
  },
  {
   "cell_type": "markdown",
   "metadata": {},
   "source": [
    "### Evaluating Privacy"
   ]
  },
  {
   "cell_type": "markdown",
   "metadata": {},
   "source": [
    "#### Evaluating Privacy Budget"
   ]
  },
  {
   "cell_type": "code",
   "execution_count": 13,
   "metadata": {},
   "outputs": [
    {
     "name": "stderr",
     "output_type": "stream",
     "text": [
      "WARNING:absl:`compute_dp_sgd_privacy` is deprecated. It does not account for doubling of sensitivity with microbatching, and assumes Poisson subsampling, which is rarely used in practice. Please use `compute_dp_sgd_privacy_statement`, which provides appropriate context for the guarantee. To compute epsilon under different assumptions than those in `compute_dp_sgd_privacy_statement`, call the `dp_accounting` libraries directly.\n"
     ]
    },
    {
     "name": "stdout",
     "output_type": "stream",
     "text": [
      "The privacy budget (epsilon) is: 34.93366614527281\n"
     ]
    }
   ],
   "source": [
    "from tensorflow_privacy.privacy.analysis import compute_dp_sgd_privacy_lib\n",
    "\n",
    "epsilon, alpha = compute_dp_sgd_privacy_lib.compute_dp_sgd_privacy(\n",
    "    n=X_train.shape[0],\n",
    "    batch_size=batch_size,\n",
    "    noise_multiplier=noise_multiplier,\n",
    "    epochs=epochs,\n",
    "    delta=1e-5\n",
    ")\n",
    "\n",
    "print(f\"The privacy budget (epsilon) is: {epsilon}\")"
   ]
  },
  {
   "cell_type": "markdown",
   "metadata": {},
   "source": [
    "#### Observing Privacy-Utility Tradeoff"
   ]
  },
  {
   "cell_type": "code",
   "execution_count": 14,
   "metadata": {},
   "outputs": [
    {
     "name": "stdout",
     "output_type": "stream",
     "text": [
      "\n",
      "Training with noise multiplier: 0.1\n"
     ]
    },
    {
     "name": "stderr",
     "output_type": "stream",
     "text": [
      "WARNING:absl:`compute_dp_sgd_privacy` is deprecated. It does not account for doubling of sensitivity with microbatching, and assumes Poisson subsampling, which is rarely used in practice. Please use `compute_dp_sgd_privacy_statement`, which provides appropriate context for the guarantee. To compute epsilon under different assumptions than those in `compute_dp_sgd_privacy_statement`, call the `dp_accounting` libraries directly.\n"
     ]
    },
    {
     "name": "stdout",
     "output_type": "stream",
     "text": [
      "Test accuracy: 0.8293\n",
      "Epsilon: 27619.6354\n",
      "\n",
      "Training with noise multiplier: 0.5\n"
     ]
    },
    {
     "name": "stderr",
     "output_type": "stream",
     "text": [
      "WARNING:absl:`compute_dp_sgd_privacy` is deprecated. It does not account for doubling of sensitivity with microbatching, and assumes Poisson subsampling, which is rarely used in practice. Please use `compute_dp_sgd_privacy_statement`, which provides appropriate context for the guarantee. To compute epsilon under different assumptions than those in `compute_dp_sgd_privacy_statement`, call the `dp_accounting` libraries directly.\n"
     ]
    },
    {
     "name": "stdout",
     "output_type": "stream",
     "text": [
      "Test accuracy: 0.8537\n",
      "Epsilon: 182.7467\n",
      "\n",
      "Training with noise multiplier: 1.0\n"
     ]
    },
    {
     "name": "stderr",
     "output_type": "stream",
     "text": [
      "WARNING:absl:`compute_dp_sgd_privacy` is deprecated. It does not account for doubling of sensitivity with microbatching, and assumes Poisson subsampling, which is rarely used in practice. Please use `compute_dp_sgd_privacy_statement`, which provides appropriate context for the guarantee. To compute epsilon under different assumptions than those in `compute_dp_sgd_privacy_statement`, call the `dp_accounting` libraries directly.\n"
     ]
    },
    {
     "name": "stdout",
     "output_type": "stream",
     "text": [
      "Test accuracy: 0.8537\n",
      "Epsilon: 43.0273\n",
      "\n",
      "Training with noise multiplier: 2.0\n"
     ]
    },
    {
     "name": "stderr",
     "output_type": "stream",
     "text": [
      "WARNING:absl:`compute_dp_sgd_privacy` is deprecated. It does not account for doubling of sensitivity with microbatching, and assumes Poisson subsampling, which is rarely used in practice. Please use `compute_dp_sgd_privacy_statement`, which provides appropriate context for the guarantee. To compute epsilon under different assumptions than those in `compute_dp_sgd_privacy_statement`, call the `dp_accounting` libraries directly.\n"
     ]
    },
    {
     "name": "stdout",
     "output_type": "stream",
     "text": [
      "Test accuracy: 0.8537\n",
      "Epsilon: 13.5931\n",
      "\n",
      "Noise Multiplier: 0.1\n",
      "Test Accuracy: 0.8293\n",
      "Epsilon: 27619.6354\n",
      "\n",
      "Noise Multiplier: 0.5\n",
      "Test Accuracy: 0.8537\n",
      "Epsilon: 182.7467\n",
      "\n",
      "Noise Multiplier: 1.0\n",
      "Test Accuracy: 0.8537\n",
      "Epsilon: 43.0273\n",
      "\n",
      "Noise Multiplier: 2.0\n",
      "Test Accuracy: 0.8537\n",
      "Epsilon: 13.5931\n"
     ]
    }
   ],
   "source": [
    "noise_multipliers = [0.1, 0.5, 1.0, 2.0]\n",
    "results = []\n",
    "\n",
    "for noise_multiplier in noise_multipliers:\n",
    "    \n",
    "    print(f\"\\nTraining with noise multiplier: {noise_multiplier}\")\n",
    "    \n",
    "    # Create the model\n",
    "    model = create_model(num_features, num_classes, noise_multiplier)\n",
    "    \n",
    "    # Train the model\n",
    "    history = model.fit(\n",
    "        X_train_scaled, y_train_cat,\n",
    "        epochs=epochs,\n",
    "        batch_size=batch_size,\n",
    "        validation_split=0.2,\n",
    "        verbose=0\n",
    "    )\n",
    "    \n",
    "    # Evaluate the model\n",
    "    test_loss, test_accuracy = model.evaluate(X_test_scaled, y_test_cat, verbose=0)\n",
    "    \n",
    "    # Calculate epsilon\n",
    "    epsilon, _ = compute_dp_sgd_privacy_lib.compute_dp_sgd_privacy(\n",
    "        n=len(X_train),\n",
    "        batch_size=batch_size,\n",
    "        noise_multiplier=noise_multiplier,\n",
    "        epochs=epochs,\n",
    "        delta=1e-5\n",
    "    )\n",
    "    \n",
    "    results.append({\n",
    "        'noise_multiplier': noise_multiplier,\n",
    "        'test_accuracy': test_accuracy,\n",
    "        'epsilon': epsilon\n",
    "    })\n",
    "    \n",
    "    print(f\"Test accuracy: {test_accuracy:.4f}\")\n",
    "    print(f\"Epsilon: {epsilon:.4f}\")\n",
    "    \n",
    "# Display results\n",
    "for result in results:\n",
    "    print(f\"\\nNoise Multiplier: {result['noise_multiplier']}\")\n",
    "    print(f\"Test Accuracy: {result['test_accuracy']:.4f}\")\n",
    "    print(f\"Epsilon: {result['epsilon']:.4f}\")"
   ]
  },
  {
   "cell_type": "code",
   "execution_count": 15,
   "metadata": {},
   "outputs": [
    {
     "data": {
      "image/png": "[encoded data removed]",
      "text/plain": [
       "<Figure size 1000x600 with 1 Axes>"
      ]
     },
     "metadata": {},
     "output_type": "display_data"
    }
   ],
   "source": [
    "import matplotlib.pyplot as plt\n",
    "\n",
    "epsilons = [result['epsilon'] for result in results]\n",
    "accuracies = [result['test_accuracy'] for result in results]\n",
    "\n",
    "plt.figure(figsize=(10, 6))\n",
    "plt.plot(epsilons, accuracies, 'bo-')\n",
    "plt.xlabel('Epsilon (Privacy Budget)')\n",
    "plt.ylabel('Test Accuracy')\n",
    "plt.title('Privacy-Accuracy Trade-off')\n",
    "plt.show()"
   ]
  }
 ],
 "metadata": {
  "kernelspec": {
   "display_name": "fyp1",
   "language": "python",
   "name": "python3"
  },
  "language_info": {
   "codemirror_mode": {
    "name": "ipython",
    "version": 3
   },
   "file_extension": ".py",
   "mimetype": "text/x-python",
   "name": "python",
   "nbconvert_exporter": "python",
   "pygments_lexer": "ipython3",
   "version": "3.11.9"
  }
 },
 "nbformat": 4,
 "nbformat_minor": 4
}
